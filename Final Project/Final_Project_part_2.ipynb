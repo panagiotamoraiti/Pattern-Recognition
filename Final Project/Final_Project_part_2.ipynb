{
  "cells": [
    {
      "cell_type": "markdown",
      "metadata": {
        "id": "xJlL6VcsivNa"
      },
      "source": [
        "### Import libraries and define random seed"
      ]
    },
    {
      "cell_type": "code",
      "execution_count": 42,
      "metadata": {
        "id": "nuysdI8FVAdm"
      },
      "outputs": [],
      "source": [
        "import numpy as np\n",
        "import pandas as pd\n",
        "import matplotlib.pyplot as plt\n",
        "import seaborn as sns\n",
        "from sklearn.metrics import confusion_matrix\n",
        "\n",
        "import random\n",
        "import math\n",
        "import os\n",
        "import zipfile\n",
        "import shutil\n",
        "import statistics\n",
        "\n",
        "from tqdm.auto import tqdm\n",
        "import itertools\n",
        "\n",
        "from sklearn.model_selection import train_test_split, GridSearchCV, cross_val_score, cross_val_predict, KFold, StratifiedKFold\n",
        "from sklearn.tree import DecisionTreeClassifier\n",
        "from sklearn.ensemble import RandomForestClassifier, AdaBoostClassifier, StackingClassifier, GradientBoostingClassifier\n",
        "from sklearn.metrics import accuracy_score, confusion_matrix, make_scorer, f1_score, precision_recall_curve, auc\n",
        "from xgboost import XGBClassifier, XGBRFClassifier\n",
        "\n",
        "from sklearn.linear_model import LogisticRegression\n",
        "from sklearn.svm import SVC\n",
        "\n",
        "from sklearn.decomposition import PCA\n",
        "from sklearn.preprocessing import StandardScaler\n",
        "\n",
        "import torch\n",
        "import torch.nn as nn\n",
        "import torch.optim as optim\n",
        "from torch.utils.data import DataLoader\n",
        "from torchvision import datasets, transforms\n",
        "import matplotlib.pyplot as plt\n",
        "\n",
        "import torch.optim as optim\n",
        "from torch.optim import lr_scheduler"
      ]
    },
    {
      "cell_type": "code",
      "execution_count": 2,
      "metadata": {
        "id": "crTJUqaODXZ_"
      },
      "outputs": [],
      "source": [
        "import warnings\n",
        "\n",
        "# Ignore all warnings\n",
        "warnings.filterwarnings(\"ignore\")"
      ]
    },
    {
      "cell_type": "code",
      "execution_count": 3,
      "metadata": {
        "id": "YUhteTAHjF4P"
      },
      "outputs": [],
      "source": [
        "# Define a Random Seed for reproducability\n",
        "RANDOM_SEED = 26\n",
        "random.seed(RANDOM_SEED)"
      ]
    },
    {
      "cell_type": "code",
      "source": [
        "# Perform cross-validated predictions for AUC calculation\n",
        "def auc_and_accuracy_scores(X, y, clf):\n",
        "  y_probs = cross_val_predict(clf, X, y, cv=5, method=\"predict_proba\")\n",
        "\n",
        "  # Calculate AUC for each fold\n",
        "  auc_scores = []\n",
        "  acc_scores =[]\n",
        "  kf = KFold(n_splits=5, shuffle=True, random_state=RANDOM_SEED)\n",
        "\n",
        "  for i, (train_index, test_index) in enumerate(kf.split(X)):\n",
        "    # Compute precision-recall pairs for the current class\n",
        "    precision, recall, thresholds = precision_recall_curve(y[test_index], y_probs[test_index, 1]) # Use only the test set for this iteration\n",
        "\n",
        "    # Calculate AUC for Precision-Recall curve\n",
        "    auc_score = auc(recall, precision)\n",
        "    auc_scores.append(auc_score)\n",
        "    print(f\"AUC for fold {i + 1}: {auc_score:.4f}\")\n",
        "\n",
        "    # Calculate accuracy\n",
        "    accuracy = accuracy_score(y[test_index], np.argmax(y_probs[test_index], axis=1))\n",
        "    acc_scores.append(accuracy)\n",
        "    print(f\"Accuracy for fold {i + 1}: {accuracy:.4f}\\n\")\n",
        "\n",
        "  # Print the mean AUC score and accuracy\n",
        "  print(f\"Mean AUC score: {np.mean(auc_scores):.5f}\")\n",
        "  print(f\"Mean accuracy score: {np.mean(acc_scores)*100:.4f}%\")"
      ],
      "metadata": {
        "id": "PyLU4PTHCCzN"
      },
      "execution_count": 4,
      "outputs": []
    },
    {
      "cell_type": "code",
      "source": [
        "# Perform cross-validated predictions for AUC calculation\n",
        "def auc_and_accuracy_scores_stratified(X, y, clf):\n",
        "  # Define the StratifiedKFold\n",
        "  stratified_kfold = StratifiedKFold(n_splits=5, shuffle=True, random_state=RANDOM_SEED)\n",
        "  y_probs = cross_val_predict(clf, X, y, cv=stratified_kfold, method=\"predict_proba\")\n",
        "\n",
        "  # Calculate AUC for each fold\n",
        "  auc_scores = []\n",
        "  acc_scores =[]\n",
        "\n",
        "  for i, (train_index, test_index) in enumerate(stratified_kfold.split(X, y)):\n",
        "    # Compute precision-recall pairs for the current class\n",
        "    precision, recall, thresholds = precision_recall_curve(y[test_index], y_probs[test_index, 1]) # Use only the test set for this iteration\n",
        "\n",
        "    # Calculate AUC for Precision-Recall curve\n",
        "    auc_score = auc(recall, precision)\n",
        "    auc_scores.append(auc_score)\n",
        "    print(f\"AUC for fold {i + 1}: {auc_score:.4f}\")\n",
        "\n",
        "    # Calculate accuracy\n",
        "    accuracy = accuracy_score(y[test_index], np.argmax(y_probs[test_index], axis=1))\n",
        "    acc_scores.append(accuracy)\n",
        "    print(f\"Accuracy for fold {i + 1}: {accuracy:.4f}\\n\")\n",
        "\n",
        "  # Print the mean AUC score and accuracy\n",
        "  print(f\"Mean AUC score: {np.mean(auc_scores):.5f}\")\n",
        "  print(f\"Mean accuracy score: {np.mean(acc_scores)*100:.4f}%\")"
      ],
      "metadata": {
        "id": "9wvdjih-L4dv"
      },
      "execution_count": 5,
      "outputs": []
    },
    {
      "cell_type": "markdown",
      "metadata": {
        "id": "7rcmdy8milF3"
      },
      "source": [
        "### Load and unzip datasets"
      ]
    },
    {
      "cell_type": "markdown",
      "metadata": {
        "id": "Z333flDTbjTq"
      },
      "source": [
        "Πρέπει να κάνουμε upload το αρχείο Data Τελικής Εργασίας.zip στο colab."
      ]
    },
    {
      "cell_type": "code",
      "execution_count": 6,
      "metadata": {
        "id": "Cp5R1nPjkmLt"
      },
      "outputs": [],
      "source": [
        "# Delete 'Data Τελικής Εργασίας' folder\n",
        "# os.chdir(\"/content/\")\n",
        "# shutil.rmtree('Data Τελικής Εργασίας')"
      ]
    },
    {
      "cell_type": "code",
      "execution_count": 7,
      "metadata": {
        "colab": {
          "base_uri": "https://localhost:8080/"
        },
        "id": "vqscH1-2bqGY",
        "outputId": "b48dbf70-ab7f-43d2-8cc9-3f83a749c480"
      },
      "outputs": [
        {
          "output_type": "stream",
          "name": "stdout",
          "text": [
            "Contents are: ['.config', 'Data Τελικής Εργασίας.zip', 'sample_data']\n"
          ]
        }
      ],
      "source": [
        "# List the contents of the /contents directory\n",
        "target_directory = \"/content\"\n",
        "contents = os.listdir(target_directory)\n",
        "print(f\"Contents are: {contents}\")"
      ]
    },
    {
      "cell_type": "code",
      "execution_count": 8,
      "metadata": {
        "id": "-MrIwiV6lvz6"
      },
      "outputs": [],
      "source": [
        "# Specify the path of the zip file\n",
        "zip_file_path = \"/content/Data Τελικής Εργασίας.zip\"\n",
        "\n",
        "# Specify the test directory for extraction\n",
        "test_directory = \"/content/Data Τελικής Εργασίας.zip/Data Τελικής Εργασίας\"\n",
        "\n",
        "# Specify the target directory for extraction\n",
        "target_directory = \"/content\""
      ]
    },
    {
      "cell_type": "code",
      "execution_count": 9,
      "metadata": {
        "colab": {
          "base_uri": "https://localhost:8080/"
        },
        "id": "D0PqWxOKi4rW",
        "outputId": "64e4a178-4ebb-4a46-d983-38086b1074f0"
      },
      "outputs": [
        {
          "output_type": "stream",
          "name": "stdout",
          "text": [
            "Extracting...\n",
            "Extraction completed.\n",
            "Contents of the directory [/content] are: ['.config', 'Data Τελικής Εργασίας.zip', 'Data Τελικής Εργασίας', 'sample_data']\n"
          ]
        }
      ],
      "source": [
        "# Check if the test directory exists\n",
        "if not os.path.exists(test_directory):\n",
        "  print(f\"Extracting...\")\n",
        "\n",
        "  # Extract the contents of the zip file\n",
        "  with zipfile.ZipFile(zip_file_path, 'r') as zip_ref:\n",
        "    zip_ref.extractall(target_directory)\n",
        "  print(f\"Extraction completed.\")\n",
        "\n",
        "# List the contents of the target directory\n",
        "contents = os.listdir(target_directory)\n",
        "print(f\"Contents of the directory [{target_directory}] are: {contents}\")"
      ]
    },
    {
      "cell_type": "code",
      "execution_count": 10,
      "metadata": {
        "colab": {
          "base_uri": "https://localhost:8080/"
        },
        "id": "G4L9L_q6d9wF",
        "outputId": "0e643759-494e-4ef9-dc93-a73fa2231fa4"
      },
      "outputs": [
        {
          "output_type": "stream",
          "name": "stdout",
          "text": [
            "Extracting...\n",
            "Extraction completed.\n",
            "Contents of the directory [/content/Data Τελικής Εργασίας/Mask_DB] are: ['with_mask', 'without_mask', 'mask_incorrect_use']\n"
          ]
        }
      ],
      "source": [
        "# Specify the path of the zip file\n",
        "zip_file_path = \"/content/Data Τελικής Εργασίας/Mask_DB.zip\"\n",
        "\n",
        "# Specify the test directory for extraction\n",
        "test_directory = \"/content/Data Τελικής Εργασίας/with_mask\"\n",
        "\n",
        "# Specify the target directory for extraction\n",
        "target_directory = \"/content/Data Τελικής Εργασίας/Mask_DB\"\n",
        "\n",
        "# Check if the test directory exists\n",
        "if not os.path.exists(test_directory):\n",
        "  print(f\"Extracting...\")\n",
        "\n",
        "  # Create the target directory\n",
        "  os.makedirs(target_directory, exist_ok=True)\n",
        "\n",
        "  # Extract the contents of the zip file\n",
        "  with zipfile.ZipFile(zip_file_path, 'r') as zip_ref:\n",
        "    zip_ref.extractall(target_directory)\n",
        "  print(f\"Extraction completed.\")\n",
        "\n",
        "# List the contents of the target directory\n",
        "contents = os.listdir(target_directory)\n",
        "print(f\"Contents of the directory [{target_directory}] are: {contents}\")"
      ]
    },
    {
      "cell_type": "code",
      "execution_count": 11,
      "metadata": {
        "colab": {
          "base_uri": "https://localhost:8080/"
        },
        "id": "Cpfoout-qSow",
        "outputId": "53a98fe4-b02d-4dcc-8d28-2dc4002e76ef"
      },
      "outputs": [
        {
          "output_type": "stream",
          "name": "stdout",
          "text": [
            "Extracting...\n",
            "Extraction completed.\n",
            "Contents of the directory [/content/Data Τελικής Εργασίας/Data_Receptors] are: ['Train_Labels.csv', 'Train_Features.csv', 'Test_Features.csv']\n"
          ]
        }
      ],
      "source": [
        "# Specify the path of the zip file\n",
        "zip_file_path = \"/content/Data Τελικής Εργασίας/Data_Receptors.zip\"\n",
        "\n",
        "# Specify the test directory for extraction\n",
        "test_directory = \"/content/Data Τελικής Εργασίας/with_mask\"\n",
        "\n",
        "# Specify the target directory for extraction\n",
        "target_directory = \"/content/Data Τελικής Εργασίας/Data_Receptors\"\n",
        "\n",
        "# Check if the test directory exists\n",
        "if not os.path.exists(test_directory):\n",
        "  print(f\"Extracting...\")\n",
        "\n",
        "  # Create the target directory\n",
        "  os.makedirs(target_directory, exist_ok=True)\n",
        "\n",
        "  # Extract the contents of the zip file\n",
        "  with zipfile.ZipFile(zip_file_path, 'r') as zip_ref:\n",
        "    zip_ref.extractall(target_directory)\n",
        "  print(f\"Extraction completed.\")\n",
        "\n",
        "# List the contents of the target directory\n",
        "contents = os.listdir(target_directory)\n",
        "print(f\"Contents of the directory [{target_directory}] are: {contents}\")"
      ]
    },
    {
      "cell_type": "markdown",
      "metadata": {
        "id": "xt3Hf26BVcx6"
      },
      "source": [
        "## Part 2"
      ]
    },
    {
      "cell_type": "markdown",
      "metadata": {
        "id": "EWDTekn2Hn4t"
      },
      "source": [
        "### Read data"
      ]
    },
    {
      "cell_type": "code",
      "execution_count": 12,
      "metadata": {
        "id": "DfaEfl1uGaki"
      },
      "outputs": [],
      "source": [
        "train_dir = \"/content/Data Τελικής Εργασίας/Data_Receptors/Train_Features.csv\"\n",
        "train_labels_dir = \"/content/Data Τελικής Εργασίας/Data_Receptors/Train_Labels.csv\"\n",
        "test_dir = \"/content/Data Τελικής Εργασίας/Data_Receptors/Test_Features.csv\"\n",
        "\n",
        "df_train = pd.read_csv(train_dir, header=None)\n",
        "df_labels = pd.read_csv(train_labels_dir, header=None)\n",
        "labels = df_labels.values.squeeze()\n",
        "\n",
        "df_test = pd.read_csv(test_dir, header=None)"
      ]
    },
    {
      "cell_type": "code",
      "execution_count": 13,
      "metadata": {
        "colab": {
          "base_uri": "https://localhost:8080/",
          "height": 424
        },
        "id": "9JZmJqhYIR6_",
        "outputId": "75e09729-6b38-426b-be58-be6d9500fa84"
      },
      "outputs": [
        {
          "output_type": "execute_result",
          "data": {
            "text/plain": [
              "        0       1     2     3       4       5       6       7       8     \\\n",
              "0     28.406  22.081     0     0  45.633  2.4611  4.9222  45.633  1.2333   \n",
              "1     30.579  22.122     0     3  51.506  2.4802  4.9235  51.506  1.3207   \n",
              "2     29.165  21.984     0     3  48.652  2.4805  4.9240  48.652  1.3149   \n",
              "3     23.201  17.981     0     1  39.309  2.4240  4.8126  39.309  1.3555   \n",
              "4     27.203  21.749     0     1  45.762  2.4490  4.8979  45.762  1.2712   \n",
              "...      ...     ...   ...   ...     ...     ...     ...     ...     ...   \n",
              "1110  28.864  22.504     0     2  46.279  2.4765  4.9192  46.279  1.2508   \n",
              "1111  25.841  19.608     0     5  42.933  2.3821  4.7643  42.933  1.2627   \n",
              "1112  30.515  24.155     0     1  48.696  2.4589  4.9128  48.696  1.2486   \n",
              "1113  20.822  16.168     0     4  34.307  2.4124  4.7748  34.307  1.2706   \n",
              "1114  29.063  22.945     0     2  47.182  2.4487  4.8974  47.182  1.2416   \n",
              "\n",
              "        9     ...  3463  3464  3465  3466  3467  3468  3469  3470  3471  3472  \n",
              "0     4.5185  ...     0     0     0     1     0     0     0     0     1     1  \n",
              "1     4.5949  ...     0     1     0     1     0     0     0     0     1     1  \n",
              "2     4.5486  ...     0     1     0     1     0     0     0     0     1     1  \n",
              "3     4.3224  ...     1     0     0     1     0     0     0     0     1     1  \n",
              "4     4.4889  ...     1     1     0     1     0     0     0     0     1     1  \n",
              "...      ...  ...   ...   ...   ...   ...   ...   ...   ...   ...   ...   ...  \n",
              "1110  4.5361  ...     0     1     0     1     0     0     0     0     1     1  \n",
              "1111  4.4279  ...     1     0     1     0     0     0     1     0     1     1  \n",
              "1112  4.5882  ...     1     0     0     1     0     0     0     0     1     1  \n",
              "1113  4.2112  ...     1     0     0     0     0     0     0     0     1     1  \n",
              "1114  4.5433  ...     1     0     0     0     0     0     0     0     1     1  \n",
              "\n",
              "[1115 rows x 3473 columns]"
            ],
            "text/html": [
              "\n",
              "  <div id=\"df-0819230b-e59e-4adc-9462-a5e9a6709e97\" class=\"colab-df-container\">\n",
              "    <div>\n",
              "<style scoped>\n",
              "    .dataframe tbody tr th:only-of-type {\n",
              "        vertical-align: middle;\n",
              "    }\n",
              "\n",
              "    .dataframe tbody tr th {\n",
              "        vertical-align: top;\n",
              "    }\n",
              "\n",
              "    .dataframe thead th {\n",
              "        text-align: right;\n",
              "    }\n",
              "</style>\n",
              "<table border=\"1\" class=\"dataframe\">\n",
              "  <thead>\n",
              "    <tr style=\"text-align: right;\">\n",
              "      <th></th>\n",
              "      <th>0</th>\n",
              "      <th>1</th>\n",
              "      <th>2</th>\n",
              "      <th>3</th>\n",
              "      <th>4</th>\n",
              "      <th>5</th>\n",
              "      <th>6</th>\n",
              "      <th>7</th>\n",
              "      <th>8</th>\n",
              "      <th>9</th>\n",
              "      <th>...</th>\n",
              "      <th>3463</th>\n",
              "      <th>3464</th>\n",
              "      <th>3465</th>\n",
              "      <th>3466</th>\n",
              "      <th>3467</th>\n",
              "      <th>3468</th>\n",
              "      <th>3469</th>\n",
              "      <th>3470</th>\n",
              "      <th>3471</th>\n",
              "      <th>3472</th>\n",
              "    </tr>\n",
              "  </thead>\n",
              "  <tbody>\n",
              "    <tr>\n",
              "      <th>0</th>\n",
              "      <td>28.406</td>\n",
              "      <td>22.081</td>\n",
              "      <td>0</td>\n",
              "      <td>0</td>\n",
              "      <td>45.633</td>\n",
              "      <td>2.4611</td>\n",
              "      <td>4.9222</td>\n",
              "      <td>45.633</td>\n",
              "      <td>1.2333</td>\n",
              "      <td>4.5185</td>\n",
              "      <td>...</td>\n",
              "      <td>0</td>\n",
              "      <td>0</td>\n",
              "      <td>0</td>\n",
              "      <td>1</td>\n",
              "      <td>0</td>\n",
              "      <td>0</td>\n",
              "      <td>0</td>\n",
              "      <td>0</td>\n",
              "      <td>1</td>\n",
              "      <td>1</td>\n",
              "    </tr>\n",
              "    <tr>\n",
              "      <th>1</th>\n",
              "      <td>30.579</td>\n",
              "      <td>22.122</td>\n",
              "      <td>0</td>\n",
              "      <td>3</td>\n",
              "      <td>51.506</td>\n",
              "      <td>2.4802</td>\n",
              "      <td>4.9235</td>\n",
              "      <td>51.506</td>\n",
              "      <td>1.3207</td>\n",
              "      <td>4.5949</td>\n",
              "      <td>...</td>\n",
              "      <td>0</td>\n",
              "      <td>1</td>\n",
              "      <td>0</td>\n",
              "      <td>1</td>\n",
              "      <td>0</td>\n",
              "      <td>0</td>\n",
              "      <td>0</td>\n",
              "      <td>0</td>\n",
              "      <td>1</td>\n",
              "      <td>1</td>\n",
              "    </tr>\n",
              "    <tr>\n",
              "      <th>2</th>\n",
              "      <td>29.165</td>\n",
              "      <td>21.984</td>\n",
              "      <td>0</td>\n",
              "      <td>3</td>\n",
              "      <td>48.652</td>\n",
              "      <td>2.4805</td>\n",
              "      <td>4.9240</td>\n",
              "      <td>48.652</td>\n",
              "      <td>1.3149</td>\n",
              "      <td>4.5486</td>\n",
              "      <td>...</td>\n",
              "      <td>0</td>\n",
              "      <td>1</td>\n",
              "      <td>0</td>\n",
              "      <td>1</td>\n",
              "      <td>0</td>\n",
              "      <td>0</td>\n",
              "      <td>0</td>\n",
              "      <td>0</td>\n",
              "      <td>1</td>\n",
              "      <td>1</td>\n",
              "    </tr>\n",
              "    <tr>\n",
              "      <th>3</th>\n",
              "      <td>23.201</td>\n",
              "      <td>17.981</td>\n",
              "      <td>0</td>\n",
              "      <td>1</td>\n",
              "      <td>39.309</td>\n",
              "      <td>2.4240</td>\n",
              "      <td>4.8126</td>\n",
              "      <td>39.309</td>\n",
              "      <td>1.3555</td>\n",
              "      <td>4.3224</td>\n",
              "      <td>...</td>\n",
              "      <td>1</td>\n",
              "      <td>0</td>\n",
              "      <td>0</td>\n",
              "      <td>1</td>\n",
              "      <td>0</td>\n",
              "      <td>0</td>\n",
              "      <td>0</td>\n",
              "      <td>0</td>\n",
              "      <td>1</td>\n",
              "      <td>1</td>\n",
              "    </tr>\n",
              "    <tr>\n",
              "      <th>4</th>\n",
              "      <td>27.203</td>\n",
              "      <td>21.749</td>\n",
              "      <td>0</td>\n",
              "      <td>1</td>\n",
              "      <td>45.762</td>\n",
              "      <td>2.4490</td>\n",
              "      <td>4.8979</td>\n",
              "      <td>45.762</td>\n",
              "      <td>1.2712</td>\n",
              "      <td>4.4889</td>\n",
              "      <td>...</td>\n",
              "      <td>1</td>\n",
              "      <td>1</td>\n",
              "      <td>0</td>\n",
              "      <td>1</td>\n",
              "      <td>0</td>\n",
              "      <td>0</td>\n",
              "      <td>0</td>\n",
              "      <td>0</td>\n",
              "      <td>1</td>\n",
              "      <td>1</td>\n",
              "    </tr>\n",
              "    <tr>\n",
              "      <th>...</th>\n",
              "      <td>...</td>\n",
              "      <td>...</td>\n",
              "      <td>...</td>\n",
              "      <td>...</td>\n",
              "      <td>...</td>\n",
              "      <td>...</td>\n",
              "      <td>...</td>\n",
              "      <td>...</td>\n",
              "      <td>...</td>\n",
              "      <td>...</td>\n",
              "      <td>...</td>\n",
              "      <td>...</td>\n",
              "      <td>...</td>\n",
              "      <td>...</td>\n",
              "      <td>...</td>\n",
              "      <td>...</td>\n",
              "      <td>...</td>\n",
              "      <td>...</td>\n",
              "      <td>...</td>\n",
              "      <td>...</td>\n",
              "      <td>...</td>\n",
              "    </tr>\n",
              "    <tr>\n",
              "      <th>1110</th>\n",
              "      <td>28.864</td>\n",
              "      <td>22.504</td>\n",
              "      <td>0</td>\n",
              "      <td>2</td>\n",
              "      <td>46.279</td>\n",
              "      <td>2.4765</td>\n",
              "      <td>4.9192</td>\n",
              "      <td>46.279</td>\n",
              "      <td>1.2508</td>\n",
              "      <td>4.5361</td>\n",
              "      <td>...</td>\n",
              "      <td>0</td>\n",
              "      <td>1</td>\n",
              "      <td>0</td>\n",
              "      <td>1</td>\n",
              "      <td>0</td>\n",
              "      <td>0</td>\n",
              "      <td>0</td>\n",
              "      <td>0</td>\n",
              "      <td>1</td>\n",
              "      <td>1</td>\n",
              "    </tr>\n",
              "    <tr>\n",
              "      <th>1111</th>\n",
              "      <td>25.841</td>\n",
              "      <td>19.608</td>\n",
              "      <td>0</td>\n",
              "      <td>5</td>\n",
              "      <td>42.933</td>\n",
              "      <td>2.3821</td>\n",
              "      <td>4.7643</td>\n",
              "      <td>42.933</td>\n",
              "      <td>1.2627</td>\n",
              "      <td>4.4279</td>\n",
              "      <td>...</td>\n",
              "      <td>1</td>\n",
              "      <td>0</td>\n",
              "      <td>1</td>\n",
              "      <td>0</td>\n",
              "      <td>0</td>\n",
              "      <td>0</td>\n",
              "      <td>1</td>\n",
              "      <td>0</td>\n",
              "      <td>1</td>\n",
              "      <td>1</td>\n",
              "    </tr>\n",
              "    <tr>\n",
              "      <th>1112</th>\n",
              "      <td>30.515</td>\n",
              "      <td>24.155</td>\n",
              "      <td>0</td>\n",
              "      <td>1</td>\n",
              "      <td>48.696</td>\n",
              "      <td>2.4589</td>\n",
              "      <td>4.9128</td>\n",
              "      <td>48.696</td>\n",
              "      <td>1.2486</td>\n",
              "      <td>4.5882</td>\n",
              "      <td>...</td>\n",
              "      <td>1</td>\n",
              "      <td>0</td>\n",
              "      <td>0</td>\n",
              "      <td>1</td>\n",
              "      <td>0</td>\n",
              "      <td>0</td>\n",
              "      <td>0</td>\n",
              "      <td>0</td>\n",
              "      <td>1</td>\n",
              "      <td>1</td>\n",
              "    </tr>\n",
              "    <tr>\n",
              "      <th>1113</th>\n",
              "      <td>20.822</td>\n",
              "      <td>16.168</td>\n",
              "      <td>0</td>\n",
              "      <td>4</td>\n",
              "      <td>34.307</td>\n",
              "      <td>2.4124</td>\n",
              "      <td>4.7748</td>\n",
              "      <td>34.307</td>\n",
              "      <td>1.2706</td>\n",
              "      <td>4.2112</td>\n",
              "      <td>...</td>\n",
              "      <td>1</td>\n",
              "      <td>0</td>\n",
              "      <td>0</td>\n",
              "      <td>0</td>\n",
              "      <td>0</td>\n",
              "      <td>0</td>\n",
              "      <td>0</td>\n",
              "      <td>0</td>\n",
              "      <td>1</td>\n",
              "      <td>1</td>\n",
              "    </tr>\n",
              "    <tr>\n",
              "      <th>1114</th>\n",
              "      <td>29.063</td>\n",
              "      <td>22.945</td>\n",
              "      <td>0</td>\n",
              "      <td>2</td>\n",
              "      <td>47.182</td>\n",
              "      <td>2.4487</td>\n",
              "      <td>4.8974</td>\n",
              "      <td>47.182</td>\n",
              "      <td>1.2416</td>\n",
              "      <td>4.5433</td>\n",
              "      <td>...</td>\n",
              "      <td>1</td>\n",
              "      <td>0</td>\n",
              "      <td>0</td>\n",
              "      <td>0</td>\n",
              "      <td>0</td>\n",
              "      <td>0</td>\n",
              "      <td>0</td>\n",
              "      <td>0</td>\n",
              "      <td>1</td>\n",
              "      <td>1</td>\n",
              "    </tr>\n",
              "  </tbody>\n",
              "</table>\n",
              "<p>1115 rows × 3473 columns</p>\n",
              "</div>\n",
              "    <div class=\"colab-df-buttons\">\n",
              "\n",
              "  <div class=\"colab-df-container\">\n",
              "    <button class=\"colab-df-convert\" onclick=\"convertToInteractive('df-0819230b-e59e-4adc-9462-a5e9a6709e97')\"\n",
              "            title=\"Convert this dataframe to an interactive table.\"\n",
              "            style=\"display:none;\">\n",
              "\n",
              "  <svg xmlns=\"http://www.w3.org/2000/svg\" height=\"24px\" viewBox=\"0 -960 960 960\">\n",
              "    <path d=\"M120-120v-720h720v720H120Zm60-500h600v-160H180v160Zm220 220h160v-160H400v160Zm0 220h160v-160H400v160ZM180-400h160v-160H180v160Zm440 0h160v-160H620v160ZM180-180h160v-160H180v160Zm440 0h160v-160H620v160Z\"/>\n",
              "  </svg>\n",
              "    </button>\n",
              "\n",
              "  <style>\n",
              "    .colab-df-container {\n",
              "      display:flex;\n",
              "      gap: 12px;\n",
              "    }\n",
              "\n",
              "    .colab-df-convert {\n",
              "      background-color: #E8F0FE;\n",
              "      border: none;\n",
              "      border-radius: 50%;\n",
              "      cursor: pointer;\n",
              "      display: none;\n",
              "      fill: #1967D2;\n",
              "      height: 32px;\n",
              "      padding: 0 0 0 0;\n",
              "      width: 32px;\n",
              "    }\n",
              "\n",
              "    .colab-df-convert:hover {\n",
              "      background-color: #E2EBFA;\n",
              "      box-shadow: 0px 1px 2px rgba(60, 64, 67, 0.3), 0px 1px 3px 1px rgba(60, 64, 67, 0.15);\n",
              "      fill: #174EA6;\n",
              "    }\n",
              "\n",
              "    .colab-df-buttons div {\n",
              "      margin-bottom: 4px;\n",
              "    }\n",
              "\n",
              "    [theme=dark] .colab-df-convert {\n",
              "      background-color: #3B4455;\n",
              "      fill: #D2E3FC;\n",
              "    }\n",
              "\n",
              "    [theme=dark] .colab-df-convert:hover {\n",
              "      background-color: #434B5C;\n",
              "      box-shadow: 0px 1px 3px 1px rgba(0, 0, 0, 0.15);\n",
              "      filter: drop-shadow(0px 1px 2px rgba(0, 0, 0, 0.3));\n",
              "      fill: #FFFFFF;\n",
              "    }\n",
              "  </style>\n",
              "\n",
              "    <script>\n",
              "      const buttonEl =\n",
              "        document.querySelector('#df-0819230b-e59e-4adc-9462-a5e9a6709e97 button.colab-df-convert');\n",
              "      buttonEl.style.display =\n",
              "        google.colab.kernel.accessAllowed ? 'block' : 'none';\n",
              "\n",
              "      async function convertToInteractive(key) {\n",
              "        const element = document.querySelector('#df-0819230b-e59e-4adc-9462-a5e9a6709e97');\n",
              "        const dataTable =\n",
              "          await google.colab.kernel.invokeFunction('convertToInteractive',\n",
              "                                                    [key], {});\n",
              "        if (!dataTable) return;\n",
              "\n",
              "        const docLinkHtml = 'Like what you see? Visit the ' +\n",
              "          '<a target=\"_blank\" href=https://colab.research.google.com/notebooks/data_table.ipynb>data table notebook</a>'\n",
              "          + ' to learn more about interactive tables.';\n",
              "        element.innerHTML = '';\n",
              "        dataTable['output_type'] = 'display_data';\n",
              "        await google.colab.output.renderOutput(dataTable, element);\n",
              "        const docLink = document.createElement('div');\n",
              "        docLink.innerHTML = docLinkHtml;\n",
              "        element.appendChild(docLink);\n",
              "      }\n",
              "    </script>\n",
              "  </div>\n",
              "\n",
              "\n",
              "<div id=\"df-7e111733-a79f-49d3-9af1-8c60b37c1625\">\n",
              "  <button class=\"colab-df-quickchart\" onclick=\"quickchart('df-7e111733-a79f-49d3-9af1-8c60b37c1625')\"\n",
              "            title=\"Suggest charts\"\n",
              "            style=\"display:none;\">\n",
              "\n",
              "<svg xmlns=\"http://www.w3.org/2000/svg\" height=\"24px\"viewBox=\"0 0 24 24\"\n",
              "     width=\"24px\">\n",
              "    <g>\n",
              "        <path d=\"M19 3H5c-1.1 0-2 .9-2 2v14c0 1.1.9 2 2 2h14c1.1 0 2-.9 2-2V5c0-1.1-.9-2-2-2zM9 17H7v-7h2v7zm4 0h-2V7h2v10zm4 0h-2v-4h2v4z\"/>\n",
              "    </g>\n",
              "</svg>\n",
              "  </button>\n",
              "\n",
              "<style>\n",
              "  .colab-df-quickchart {\n",
              "      --bg-color: #E8F0FE;\n",
              "      --fill-color: #1967D2;\n",
              "      --hover-bg-color: #E2EBFA;\n",
              "      --hover-fill-color: #174EA6;\n",
              "      --disabled-fill-color: #AAA;\n",
              "      --disabled-bg-color: #DDD;\n",
              "  }\n",
              "\n",
              "  [theme=dark] .colab-df-quickchart {\n",
              "      --bg-color: #3B4455;\n",
              "      --fill-color: #D2E3FC;\n",
              "      --hover-bg-color: #434B5C;\n",
              "      --hover-fill-color: #FFFFFF;\n",
              "      --disabled-bg-color: #3B4455;\n",
              "      --disabled-fill-color: #666;\n",
              "  }\n",
              "\n",
              "  .colab-df-quickchart {\n",
              "    background-color: var(--bg-color);\n",
              "    border: none;\n",
              "    border-radius: 50%;\n",
              "    cursor: pointer;\n",
              "    display: none;\n",
              "    fill: var(--fill-color);\n",
              "    height: 32px;\n",
              "    padding: 0;\n",
              "    width: 32px;\n",
              "  }\n",
              "\n",
              "  .colab-df-quickchart:hover {\n",
              "    background-color: var(--hover-bg-color);\n",
              "    box-shadow: 0 1px 2px rgba(60, 64, 67, 0.3), 0 1px 3px 1px rgba(60, 64, 67, 0.15);\n",
              "    fill: var(--button-hover-fill-color);\n",
              "  }\n",
              "\n",
              "  .colab-df-quickchart-complete:disabled,\n",
              "  .colab-df-quickchart-complete:disabled:hover {\n",
              "    background-color: var(--disabled-bg-color);\n",
              "    fill: var(--disabled-fill-color);\n",
              "    box-shadow: none;\n",
              "  }\n",
              "\n",
              "  .colab-df-spinner {\n",
              "    border: 2px solid var(--fill-color);\n",
              "    border-color: transparent;\n",
              "    border-bottom-color: var(--fill-color);\n",
              "    animation:\n",
              "      spin 1s steps(1) infinite;\n",
              "  }\n",
              "\n",
              "  @keyframes spin {\n",
              "    0% {\n",
              "      border-color: transparent;\n",
              "      border-bottom-color: var(--fill-color);\n",
              "      border-left-color: var(--fill-color);\n",
              "    }\n",
              "    20% {\n",
              "      border-color: transparent;\n",
              "      border-left-color: var(--fill-color);\n",
              "      border-top-color: var(--fill-color);\n",
              "    }\n",
              "    30% {\n",
              "      border-color: transparent;\n",
              "      border-left-color: var(--fill-color);\n",
              "      border-top-color: var(--fill-color);\n",
              "      border-right-color: var(--fill-color);\n",
              "    }\n",
              "    40% {\n",
              "      border-color: transparent;\n",
              "      border-right-color: var(--fill-color);\n",
              "      border-top-color: var(--fill-color);\n",
              "    }\n",
              "    60% {\n",
              "      border-color: transparent;\n",
              "      border-right-color: var(--fill-color);\n",
              "    }\n",
              "    80% {\n",
              "      border-color: transparent;\n",
              "      border-right-color: var(--fill-color);\n",
              "      border-bottom-color: var(--fill-color);\n",
              "    }\n",
              "    90% {\n",
              "      border-color: transparent;\n",
              "      border-bottom-color: var(--fill-color);\n",
              "    }\n",
              "  }\n",
              "</style>\n",
              "\n",
              "  <script>\n",
              "    async function quickchart(key) {\n",
              "      const quickchartButtonEl =\n",
              "        document.querySelector('#' + key + ' button');\n",
              "      quickchartButtonEl.disabled = true;  // To prevent multiple clicks.\n",
              "      quickchartButtonEl.classList.add('colab-df-spinner');\n",
              "      try {\n",
              "        const charts = await google.colab.kernel.invokeFunction(\n",
              "            'suggestCharts', [key], {});\n",
              "      } catch (error) {\n",
              "        console.error('Error during call to suggestCharts:', error);\n",
              "      }\n",
              "      quickchartButtonEl.classList.remove('colab-df-spinner');\n",
              "      quickchartButtonEl.classList.add('colab-df-quickchart-complete');\n",
              "    }\n",
              "    (() => {\n",
              "      let quickchartButtonEl =\n",
              "        document.querySelector('#df-7e111733-a79f-49d3-9af1-8c60b37c1625 button');\n",
              "      quickchartButtonEl.style.display =\n",
              "        google.colab.kernel.accessAllowed ? 'block' : 'none';\n",
              "    })();\n",
              "  </script>\n",
              "</div>\n",
              "    </div>\n",
              "  </div>\n"
            ]
          },
          "metadata": {},
          "execution_count": 13
        }
      ],
      "source": [
        "df_train"
      ]
    },
    {
      "cell_type": "code",
      "source": [
        "df_test"
      ],
      "metadata": {
        "colab": {
          "base_uri": "https://localhost:8080/",
          "height": 424
        },
        "id": "S3ht4ykSgWSU",
        "outputId": "107d9517-cf99-429f-ceae-f79fb1ae48bf"
      },
      "execution_count": 14,
      "outputs": [
        {
          "output_type": "execute_result",
          "data": {
            "text/plain": [
              "       0       1     2     3       4       5       6       7       8     \\\n",
              "0    18.511  15.781     0     0  30.800  2.4239  4.8121  30.800  1.2833   \n",
              "1    25.549  19.304     0     1  40.823  2.4435  4.8871  40.823  1.2371   \n",
              "2    32.262  24.264     0     1  53.878  2.4624  4.9247  53.878  1.2828   \n",
              "3    24.737  17.792     0     1  42.542  2.4166  4.8333  42.542  1.3294   \n",
              "4    29.117  20.935     0     1  49.035  2.4006  4.7724  49.035  1.3253   \n",
              "..      ...     ...   ...   ...     ...     ...     ...     ...     ...   \n",
              "119  26.686  20.687     0     1  44.017  2.4347  4.8693  44.017  1.2576   \n",
              "120  29.784  21.338     0     1  50.777  2.4038  4.8077  50.777  1.3362   \n",
              "121  29.095  22.515     0     1  47.139  2.4354  4.8708  47.139  1.2405   \n",
              "122  29.784  21.338     0     1  50.777  2.4038  4.8077  50.777  1.3362   \n",
              "123  28.003  20.095     0     4  46.018  2.3681  4.7362  46.018  1.2783   \n",
              "\n",
              "       9     ...  3463  3464  3465  3466  3467  3468  3469  3470  3471  3472  \n",
              "0    4.1047  ...     1     1     1     0     0     0     0     0     0     1  \n",
              "1    4.4082  ...     0     0     0     1     0     0     0     0     0     1  \n",
              "2    4.6483  ...     1     0     0     0     0     0     0     0     1     1  \n",
              "3    4.3886  ...     0     0     0     1     0     0     0     0     0     1  \n",
              "4    4.5426  ...     1     0     0     1     0     0     0     0     0     1  \n",
              "..      ...  ...   ...   ...   ...   ...   ...   ...   ...   ...   ...   ...  \n",
              "119  4.4599  ...     0     1     0     1     0     0     0     0     1     1  \n",
              "120  4.5681  ...     1     0     0     0     0     0     0     0     1     1  \n",
              "121  4.5406  ...     0     0     0     1     0     0     0     0     1     1  \n",
              "122  4.5681  ...     1     0     0     1     0     0     0     0     1     1  \n",
              "123  4.5001  ...     0     1     0     0     0     0     0     1     1     1  \n",
              "\n",
              "[124 rows x 3473 columns]"
            ],
            "text/html": [
              "\n",
              "  <div id=\"df-1273f446-af3e-4cc3-a75c-fc4eabe1de60\" class=\"colab-df-container\">\n",
              "    <div>\n",
              "<style scoped>\n",
              "    .dataframe tbody tr th:only-of-type {\n",
              "        vertical-align: middle;\n",
              "    }\n",
              "\n",
              "    .dataframe tbody tr th {\n",
              "        vertical-align: top;\n",
              "    }\n",
              "\n",
              "    .dataframe thead th {\n",
              "        text-align: right;\n",
              "    }\n",
              "</style>\n",
              "<table border=\"1\" class=\"dataframe\">\n",
              "  <thead>\n",
              "    <tr style=\"text-align: right;\">\n",
              "      <th></th>\n",
              "      <th>0</th>\n",
              "      <th>1</th>\n",
              "      <th>2</th>\n",
              "      <th>3</th>\n",
              "      <th>4</th>\n",
              "      <th>5</th>\n",
              "      <th>6</th>\n",
              "      <th>7</th>\n",
              "      <th>8</th>\n",
              "      <th>9</th>\n",
              "      <th>...</th>\n",
              "      <th>3463</th>\n",
              "      <th>3464</th>\n",
              "      <th>3465</th>\n",
              "      <th>3466</th>\n",
              "      <th>3467</th>\n",
              "      <th>3468</th>\n",
              "      <th>3469</th>\n",
              "      <th>3470</th>\n",
              "      <th>3471</th>\n",
              "      <th>3472</th>\n",
              "    </tr>\n",
              "  </thead>\n",
              "  <tbody>\n",
              "    <tr>\n",
              "      <th>0</th>\n",
              "      <td>18.511</td>\n",
              "      <td>15.781</td>\n",
              "      <td>0</td>\n",
              "      <td>0</td>\n",
              "      <td>30.800</td>\n",
              "      <td>2.4239</td>\n",
              "      <td>4.8121</td>\n",
              "      <td>30.800</td>\n",
              "      <td>1.2833</td>\n",
              "      <td>4.1047</td>\n",
              "      <td>...</td>\n",
              "      <td>1</td>\n",
              "      <td>1</td>\n",
              "      <td>1</td>\n",
              "      <td>0</td>\n",
              "      <td>0</td>\n",
              "      <td>0</td>\n",
              "      <td>0</td>\n",
              "      <td>0</td>\n",
              "      <td>0</td>\n",
              "      <td>1</td>\n",
              "    </tr>\n",
              "    <tr>\n",
              "      <th>1</th>\n",
              "      <td>25.549</td>\n",
              "      <td>19.304</td>\n",
              "      <td>0</td>\n",
              "      <td>1</td>\n",
              "      <td>40.823</td>\n",
              "      <td>2.4435</td>\n",
              "      <td>4.8871</td>\n",
              "      <td>40.823</td>\n",
              "      <td>1.2371</td>\n",
              "      <td>4.4082</td>\n",
              "      <td>...</td>\n",
              "      <td>0</td>\n",
              "      <td>0</td>\n",
              "      <td>0</td>\n",
              "      <td>1</td>\n",
              "      <td>0</td>\n",
              "      <td>0</td>\n",
              "      <td>0</td>\n",
              "      <td>0</td>\n",
              "      <td>0</td>\n",
              "      <td>1</td>\n",
              "    </tr>\n",
              "    <tr>\n",
              "      <th>2</th>\n",
              "      <td>32.262</td>\n",
              "      <td>24.264</td>\n",
              "      <td>0</td>\n",
              "      <td>1</td>\n",
              "      <td>53.878</td>\n",
              "      <td>2.4624</td>\n",
              "      <td>4.9247</td>\n",
              "      <td>53.878</td>\n",
              "      <td>1.2828</td>\n",
              "      <td>4.6483</td>\n",
              "      <td>...</td>\n",
              "      <td>1</td>\n",
              "      <td>0</td>\n",
              "      <td>0</td>\n",
              "      <td>0</td>\n",
              "      <td>0</td>\n",
              "      <td>0</td>\n",
              "      <td>0</td>\n",
              "      <td>0</td>\n",
              "      <td>1</td>\n",
              "      <td>1</td>\n",
              "    </tr>\n",
              "    <tr>\n",
              "      <th>3</th>\n",
              "      <td>24.737</td>\n",
              "      <td>17.792</td>\n",
              "      <td>0</td>\n",
              "      <td>1</td>\n",
              "      <td>42.542</td>\n",
              "      <td>2.4166</td>\n",
              "      <td>4.8333</td>\n",
              "      <td>42.542</td>\n",
              "      <td>1.3294</td>\n",
              "      <td>4.3886</td>\n",
              "      <td>...</td>\n",
              "      <td>0</td>\n",
              "      <td>0</td>\n",
              "      <td>0</td>\n",
              "      <td>1</td>\n",
              "      <td>0</td>\n",
              "      <td>0</td>\n",
              "      <td>0</td>\n",
              "      <td>0</td>\n",
              "      <td>0</td>\n",
              "      <td>1</td>\n",
              "    </tr>\n",
              "    <tr>\n",
              "      <th>4</th>\n",
              "      <td>29.117</td>\n",
              "      <td>20.935</td>\n",
              "      <td>0</td>\n",
              "      <td>1</td>\n",
              "      <td>49.035</td>\n",
              "      <td>2.4006</td>\n",
              "      <td>4.7724</td>\n",
              "      <td>49.035</td>\n",
              "      <td>1.3253</td>\n",
              "      <td>4.5426</td>\n",
              "      <td>...</td>\n",
              "      <td>1</td>\n",
              "      <td>0</td>\n",
              "      <td>0</td>\n",
              "      <td>1</td>\n",
              "      <td>0</td>\n",
              "      <td>0</td>\n",
              "      <td>0</td>\n",
              "      <td>0</td>\n",
              "      <td>0</td>\n",
              "      <td>1</td>\n",
              "    </tr>\n",
              "    <tr>\n",
              "      <th>...</th>\n",
              "      <td>...</td>\n",
              "      <td>...</td>\n",
              "      <td>...</td>\n",
              "      <td>...</td>\n",
              "      <td>...</td>\n",
              "      <td>...</td>\n",
              "      <td>...</td>\n",
              "      <td>...</td>\n",
              "      <td>...</td>\n",
              "      <td>...</td>\n",
              "      <td>...</td>\n",
              "      <td>...</td>\n",
              "      <td>...</td>\n",
              "      <td>...</td>\n",
              "      <td>...</td>\n",
              "      <td>...</td>\n",
              "      <td>...</td>\n",
              "      <td>...</td>\n",
              "      <td>...</td>\n",
              "      <td>...</td>\n",
              "      <td>...</td>\n",
              "    </tr>\n",
              "    <tr>\n",
              "      <th>119</th>\n",
              "      <td>26.686</td>\n",
              "      <td>20.687</td>\n",
              "      <td>0</td>\n",
              "      <td>1</td>\n",
              "      <td>44.017</td>\n",
              "      <td>2.4347</td>\n",
              "      <td>4.8693</td>\n",
              "      <td>44.017</td>\n",
              "      <td>1.2576</td>\n",
              "      <td>4.4599</td>\n",
              "      <td>...</td>\n",
              "      <td>0</td>\n",
              "      <td>1</td>\n",
              "      <td>0</td>\n",
              "      <td>1</td>\n",
              "      <td>0</td>\n",
              "      <td>0</td>\n",
              "      <td>0</td>\n",
              "      <td>0</td>\n",
              "      <td>1</td>\n",
              "      <td>1</td>\n",
              "    </tr>\n",
              "    <tr>\n",
              "      <th>120</th>\n",
              "      <td>29.784</td>\n",
              "      <td>21.338</td>\n",
              "      <td>0</td>\n",
              "      <td>1</td>\n",
              "      <td>50.777</td>\n",
              "      <td>2.4038</td>\n",
              "      <td>4.8077</td>\n",
              "      <td>50.777</td>\n",
              "      <td>1.3362</td>\n",
              "      <td>4.5681</td>\n",
              "      <td>...</td>\n",
              "      <td>1</td>\n",
              "      <td>0</td>\n",
              "      <td>0</td>\n",
              "      <td>0</td>\n",
              "      <td>0</td>\n",
              "      <td>0</td>\n",
              "      <td>0</td>\n",
              "      <td>0</td>\n",
              "      <td>1</td>\n",
              "      <td>1</td>\n",
              "    </tr>\n",
              "    <tr>\n",
              "      <th>121</th>\n",
              "      <td>29.095</td>\n",
              "      <td>22.515</td>\n",
              "      <td>0</td>\n",
              "      <td>1</td>\n",
              "      <td>47.139</td>\n",
              "      <td>2.4354</td>\n",
              "      <td>4.8708</td>\n",
              "      <td>47.139</td>\n",
              "      <td>1.2405</td>\n",
              "      <td>4.5406</td>\n",
              "      <td>...</td>\n",
              "      <td>0</td>\n",
              "      <td>0</td>\n",
              "      <td>0</td>\n",
              "      <td>1</td>\n",
              "      <td>0</td>\n",
              "      <td>0</td>\n",
              "      <td>0</td>\n",
              "      <td>0</td>\n",
              "      <td>1</td>\n",
              "      <td>1</td>\n",
              "    </tr>\n",
              "    <tr>\n",
              "      <th>122</th>\n",
              "      <td>29.784</td>\n",
              "      <td>21.338</td>\n",
              "      <td>0</td>\n",
              "      <td>1</td>\n",
              "      <td>50.777</td>\n",
              "      <td>2.4038</td>\n",
              "      <td>4.8077</td>\n",
              "      <td>50.777</td>\n",
              "      <td>1.3362</td>\n",
              "      <td>4.5681</td>\n",
              "      <td>...</td>\n",
              "      <td>1</td>\n",
              "      <td>0</td>\n",
              "      <td>0</td>\n",
              "      <td>1</td>\n",
              "      <td>0</td>\n",
              "      <td>0</td>\n",
              "      <td>0</td>\n",
              "      <td>0</td>\n",
              "      <td>1</td>\n",
              "      <td>1</td>\n",
              "    </tr>\n",
              "    <tr>\n",
              "      <th>123</th>\n",
              "      <td>28.003</td>\n",
              "      <td>20.095</td>\n",
              "      <td>0</td>\n",
              "      <td>4</td>\n",
              "      <td>46.018</td>\n",
              "      <td>2.3681</td>\n",
              "      <td>4.7362</td>\n",
              "      <td>46.018</td>\n",
              "      <td>1.2783</td>\n",
              "      <td>4.5001</td>\n",
              "      <td>...</td>\n",
              "      <td>0</td>\n",
              "      <td>1</td>\n",
              "      <td>0</td>\n",
              "      <td>0</td>\n",
              "      <td>0</td>\n",
              "      <td>0</td>\n",
              "      <td>0</td>\n",
              "      <td>1</td>\n",
              "      <td>1</td>\n",
              "      <td>1</td>\n",
              "    </tr>\n",
              "  </tbody>\n",
              "</table>\n",
              "<p>124 rows × 3473 columns</p>\n",
              "</div>\n",
              "    <div class=\"colab-df-buttons\">\n",
              "\n",
              "  <div class=\"colab-df-container\">\n",
              "    <button class=\"colab-df-convert\" onclick=\"convertToInteractive('df-1273f446-af3e-4cc3-a75c-fc4eabe1de60')\"\n",
              "            title=\"Convert this dataframe to an interactive table.\"\n",
              "            style=\"display:none;\">\n",
              "\n",
              "  <svg xmlns=\"http://www.w3.org/2000/svg\" height=\"24px\" viewBox=\"0 -960 960 960\">\n",
              "    <path d=\"M120-120v-720h720v720H120Zm60-500h600v-160H180v160Zm220 220h160v-160H400v160Zm0 220h160v-160H400v160ZM180-400h160v-160H180v160Zm440 0h160v-160H620v160ZM180-180h160v-160H180v160Zm440 0h160v-160H620v160Z\"/>\n",
              "  </svg>\n",
              "    </button>\n",
              "\n",
              "  <style>\n",
              "    .colab-df-container {\n",
              "      display:flex;\n",
              "      gap: 12px;\n",
              "    }\n",
              "\n",
              "    .colab-df-convert {\n",
              "      background-color: #E8F0FE;\n",
              "      border: none;\n",
              "      border-radius: 50%;\n",
              "      cursor: pointer;\n",
              "      display: none;\n",
              "      fill: #1967D2;\n",
              "      height: 32px;\n",
              "      padding: 0 0 0 0;\n",
              "      width: 32px;\n",
              "    }\n",
              "\n",
              "    .colab-df-convert:hover {\n",
              "      background-color: #E2EBFA;\n",
              "      box-shadow: 0px 1px 2px rgba(60, 64, 67, 0.3), 0px 1px 3px 1px rgba(60, 64, 67, 0.15);\n",
              "      fill: #174EA6;\n",
              "    }\n",
              "\n",
              "    .colab-df-buttons div {\n",
              "      margin-bottom: 4px;\n",
              "    }\n",
              "\n",
              "    [theme=dark] .colab-df-convert {\n",
              "      background-color: #3B4455;\n",
              "      fill: #D2E3FC;\n",
              "    }\n",
              "\n",
              "    [theme=dark] .colab-df-convert:hover {\n",
              "      background-color: #434B5C;\n",
              "      box-shadow: 0px 1px 3px 1px rgba(0, 0, 0, 0.15);\n",
              "      filter: drop-shadow(0px 1px 2px rgba(0, 0, 0, 0.3));\n",
              "      fill: #FFFFFF;\n",
              "    }\n",
              "  </style>\n",
              "\n",
              "    <script>\n",
              "      const buttonEl =\n",
              "        document.querySelector('#df-1273f446-af3e-4cc3-a75c-fc4eabe1de60 button.colab-df-convert');\n",
              "      buttonEl.style.display =\n",
              "        google.colab.kernel.accessAllowed ? 'block' : 'none';\n",
              "\n",
              "      async function convertToInteractive(key) {\n",
              "        const element = document.querySelector('#df-1273f446-af3e-4cc3-a75c-fc4eabe1de60');\n",
              "        const dataTable =\n",
              "          await google.colab.kernel.invokeFunction('convertToInteractive',\n",
              "                                                    [key], {});\n",
              "        if (!dataTable) return;\n",
              "\n",
              "        const docLinkHtml = 'Like what you see? Visit the ' +\n",
              "          '<a target=\"_blank\" href=https://colab.research.google.com/notebooks/data_table.ipynb>data table notebook</a>'\n",
              "          + ' to learn more about interactive tables.';\n",
              "        element.innerHTML = '';\n",
              "        dataTable['output_type'] = 'display_data';\n",
              "        await google.colab.output.renderOutput(dataTable, element);\n",
              "        const docLink = document.createElement('div');\n",
              "        docLink.innerHTML = docLinkHtml;\n",
              "        element.appendChild(docLink);\n",
              "      }\n",
              "    </script>\n",
              "  </div>\n",
              "\n",
              "\n",
              "<div id=\"df-bfaf63a9-73e2-46e6-92eb-323cd78e7a51\">\n",
              "  <button class=\"colab-df-quickchart\" onclick=\"quickchart('df-bfaf63a9-73e2-46e6-92eb-323cd78e7a51')\"\n",
              "            title=\"Suggest charts\"\n",
              "            style=\"display:none;\">\n",
              "\n",
              "<svg xmlns=\"http://www.w3.org/2000/svg\" height=\"24px\"viewBox=\"0 0 24 24\"\n",
              "     width=\"24px\">\n",
              "    <g>\n",
              "        <path d=\"M19 3H5c-1.1 0-2 .9-2 2v14c0 1.1.9 2 2 2h14c1.1 0 2-.9 2-2V5c0-1.1-.9-2-2-2zM9 17H7v-7h2v7zm4 0h-2V7h2v10zm4 0h-2v-4h2v4z\"/>\n",
              "    </g>\n",
              "</svg>\n",
              "  </button>\n",
              "\n",
              "<style>\n",
              "  .colab-df-quickchart {\n",
              "      --bg-color: #E8F0FE;\n",
              "      --fill-color: #1967D2;\n",
              "      --hover-bg-color: #E2EBFA;\n",
              "      --hover-fill-color: #174EA6;\n",
              "      --disabled-fill-color: #AAA;\n",
              "      --disabled-bg-color: #DDD;\n",
              "  }\n",
              "\n",
              "  [theme=dark] .colab-df-quickchart {\n",
              "      --bg-color: #3B4455;\n",
              "      --fill-color: #D2E3FC;\n",
              "      --hover-bg-color: #434B5C;\n",
              "      --hover-fill-color: #FFFFFF;\n",
              "      --disabled-bg-color: #3B4455;\n",
              "      --disabled-fill-color: #666;\n",
              "  }\n",
              "\n",
              "  .colab-df-quickchart {\n",
              "    background-color: var(--bg-color);\n",
              "    border: none;\n",
              "    border-radius: 50%;\n",
              "    cursor: pointer;\n",
              "    display: none;\n",
              "    fill: var(--fill-color);\n",
              "    height: 32px;\n",
              "    padding: 0;\n",
              "    width: 32px;\n",
              "  }\n",
              "\n",
              "  .colab-df-quickchart:hover {\n",
              "    background-color: var(--hover-bg-color);\n",
              "    box-shadow: 0 1px 2px rgba(60, 64, 67, 0.3), 0 1px 3px 1px rgba(60, 64, 67, 0.15);\n",
              "    fill: var(--button-hover-fill-color);\n",
              "  }\n",
              "\n",
              "  .colab-df-quickchart-complete:disabled,\n",
              "  .colab-df-quickchart-complete:disabled:hover {\n",
              "    background-color: var(--disabled-bg-color);\n",
              "    fill: var(--disabled-fill-color);\n",
              "    box-shadow: none;\n",
              "  }\n",
              "\n",
              "  .colab-df-spinner {\n",
              "    border: 2px solid var(--fill-color);\n",
              "    border-color: transparent;\n",
              "    border-bottom-color: var(--fill-color);\n",
              "    animation:\n",
              "      spin 1s steps(1) infinite;\n",
              "  }\n",
              "\n",
              "  @keyframes spin {\n",
              "    0% {\n",
              "      border-color: transparent;\n",
              "      border-bottom-color: var(--fill-color);\n",
              "      border-left-color: var(--fill-color);\n",
              "    }\n",
              "    20% {\n",
              "      border-color: transparent;\n",
              "      border-left-color: var(--fill-color);\n",
              "      border-top-color: var(--fill-color);\n",
              "    }\n",
              "    30% {\n",
              "      border-color: transparent;\n",
              "      border-left-color: var(--fill-color);\n",
              "      border-top-color: var(--fill-color);\n",
              "      border-right-color: var(--fill-color);\n",
              "    }\n",
              "    40% {\n",
              "      border-color: transparent;\n",
              "      border-right-color: var(--fill-color);\n",
              "      border-top-color: var(--fill-color);\n",
              "    }\n",
              "    60% {\n",
              "      border-color: transparent;\n",
              "      border-right-color: var(--fill-color);\n",
              "    }\n",
              "    80% {\n",
              "      border-color: transparent;\n",
              "      border-right-color: var(--fill-color);\n",
              "      border-bottom-color: var(--fill-color);\n",
              "    }\n",
              "    90% {\n",
              "      border-color: transparent;\n",
              "      border-bottom-color: var(--fill-color);\n",
              "    }\n",
              "  }\n",
              "</style>\n",
              "\n",
              "  <script>\n",
              "    async function quickchart(key) {\n",
              "      const quickchartButtonEl =\n",
              "        document.querySelector('#' + key + ' button');\n",
              "      quickchartButtonEl.disabled = true;  // To prevent multiple clicks.\n",
              "      quickchartButtonEl.classList.add('colab-df-spinner');\n",
              "      try {\n",
              "        const charts = await google.colab.kernel.invokeFunction(\n",
              "            'suggestCharts', [key], {});\n",
              "      } catch (error) {\n",
              "        console.error('Error during call to suggestCharts:', error);\n",
              "      }\n",
              "      quickchartButtonEl.classList.remove('colab-df-spinner');\n",
              "      quickchartButtonEl.classList.add('colab-df-quickchart-complete');\n",
              "    }\n",
              "    (() => {\n",
              "      let quickchartButtonEl =\n",
              "        document.querySelector('#df-bfaf63a9-73e2-46e6-92eb-323cd78e7a51 button');\n",
              "      quickchartButtonEl.style.display =\n",
              "        google.colab.kernel.accessAllowed ? 'block' : 'none';\n",
              "    })();\n",
              "  </script>\n",
              "</div>\n",
              "    </div>\n",
              "  </div>\n"
            ]
          },
          "metadata": {},
          "execution_count": 14
        }
      ]
    },
    {
      "cell_type": "code",
      "source": [
        "X_original, y_original = df_train.values, labels\n",
        "X_test_original = df_test.values"
      ],
      "metadata": {
        "id": "IcpIr6w1c02o"
      },
      "execution_count": 15,
      "outputs": []
    },
    {
      "cell_type": "markdown",
      "metadata": {
        "id": "IHjBM1kdFctX"
      },
      "source": [
        "#### Remove useless features"
      ]
    },
    {
      "cell_type": "code",
      "source": [
        "X_combined_df = pd.concat([df_train, df_test], axis=0, ignore_index=True)\n",
        "X_combined_df"
      ],
      "metadata": {
        "colab": {
          "base_uri": "https://localhost:8080/",
          "height": 424
        },
        "id": "Rv32GGuse0vW",
        "outputId": "ada3b86f-ed2c-4cb4-ae0b-0aa1e6a31111"
      },
      "execution_count": 16,
      "outputs": [
        {
          "output_type": "execute_result",
          "data": {
            "text/plain": [
              "        0       1     2     3       4       5       6       7       8     \\\n",
              "0     28.406  22.081     0     0  45.633  2.4611  4.9222  45.633  1.2333   \n",
              "1     30.579  22.122     0     3  51.506  2.4802  4.9235  51.506  1.3207   \n",
              "2     29.165  21.984     0     3  48.652  2.4805  4.9240  48.652  1.3149   \n",
              "3     23.201  17.981     0     1  39.309  2.4240  4.8126  39.309  1.3555   \n",
              "4     27.203  21.749     0     1  45.762  2.4490  4.8979  45.762  1.2712   \n",
              "...      ...     ...   ...   ...     ...     ...     ...     ...     ...   \n",
              "1234  26.686  20.687     0     1  44.017  2.4347  4.8693  44.017  1.2576   \n",
              "1235  29.784  21.338     0     1  50.777  2.4038  4.8077  50.777  1.3362   \n",
              "1236  29.095  22.515     0     1  47.139  2.4354  4.8708  47.139  1.2405   \n",
              "1237  29.784  21.338     0     1  50.777  2.4038  4.8077  50.777  1.3362   \n",
              "1238  28.003  20.095     0     4  46.018  2.3681  4.7362  46.018  1.2783   \n",
              "\n",
              "        9     ...  3463  3464  3465  3466  3467  3468  3469  3470  3471  3472  \n",
              "0     4.5185  ...     0     0     0     1     0     0     0     0     1     1  \n",
              "1     4.5949  ...     0     1     0     1     0     0     0     0     1     1  \n",
              "2     4.5486  ...     0     1     0     1     0     0     0     0     1     1  \n",
              "3     4.3224  ...     1     0     0     1     0     0     0     0     1     1  \n",
              "4     4.4889  ...     1     1     0     1     0     0     0     0     1     1  \n",
              "...      ...  ...   ...   ...   ...   ...   ...   ...   ...   ...   ...   ...  \n",
              "1234  4.4599  ...     0     1     0     1     0     0     0     0     1     1  \n",
              "1235  4.5681  ...     1     0     0     0     0     0     0     0     1     1  \n",
              "1236  4.5406  ...     0     0     0     1     0     0     0     0     1     1  \n",
              "1237  4.5681  ...     1     0     0     1     0     0     0     0     1     1  \n",
              "1238  4.5001  ...     0     1     0     0     0     0     0     1     1     1  \n",
              "\n",
              "[1239 rows x 3473 columns]"
            ],
            "text/html": [
              "\n",
              "  <div id=\"df-b1fa5051-3154-4e5c-ae4c-9d97ba9679cc\" class=\"colab-df-container\">\n",
              "    <div>\n",
              "<style scoped>\n",
              "    .dataframe tbody tr th:only-of-type {\n",
              "        vertical-align: middle;\n",
              "    }\n",
              "\n",
              "    .dataframe tbody tr th {\n",
              "        vertical-align: top;\n",
              "    }\n",
              "\n",
              "    .dataframe thead th {\n",
              "        text-align: right;\n",
              "    }\n",
              "</style>\n",
              "<table border=\"1\" class=\"dataframe\">\n",
              "  <thead>\n",
              "    <tr style=\"text-align: right;\">\n",
              "      <th></th>\n",
              "      <th>0</th>\n",
              "      <th>1</th>\n",
              "      <th>2</th>\n",
              "      <th>3</th>\n",
              "      <th>4</th>\n",
              "      <th>5</th>\n",
              "      <th>6</th>\n",
              "      <th>7</th>\n",
              "      <th>8</th>\n",
              "      <th>9</th>\n",
              "      <th>...</th>\n",
              "      <th>3463</th>\n",
              "      <th>3464</th>\n",
              "      <th>3465</th>\n",
              "      <th>3466</th>\n",
              "      <th>3467</th>\n",
              "      <th>3468</th>\n",
              "      <th>3469</th>\n",
              "      <th>3470</th>\n",
              "      <th>3471</th>\n",
              "      <th>3472</th>\n",
              "    </tr>\n",
              "  </thead>\n",
              "  <tbody>\n",
              "    <tr>\n",
              "      <th>0</th>\n",
              "      <td>28.406</td>\n",
              "      <td>22.081</td>\n",
              "      <td>0</td>\n",
              "      <td>0</td>\n",
              "      <td>45.633</td>\n",
              "      <td>2.4611</td>\n",
              "      <td>4.9222</td>\n",
              "      <td>45.633</td>\n",
              "      <td>1.2333</td>\n",
              "      <td>4.5185</td>\n",
              "      <td>...</td>\n",
              "      <td>0</td>\n",
              "      <td>0</td>\n",
              "      <td>0</td>\n",
              "      <td>1</td>\n",
              "      <td>0</td>\n",
              "      <td>0</td>\n",
              "      <td>0</td>\n",
              "      <td>0</td>\n",
              "      <td>1</td>\n",
              "      <td>1</td>\n",
              "    </tr>\n",
              "    <tr>\n",
              "      <th>1</th>\n",
              "      <td>30.579</td>\n",
              "      <td>22.122</td>\n",
              "      <td>0</td>\n",
              "      <td>3</td>\n",
              "      <td>51.506</td>\n",
              "      <td>2.4802</td>\n",
              "      <td>4.9235</td>\n",
              "      <td>51.506</td>\n",
              "      <td>1.3207</td>\n",
              "      <td>4.5949</td>\n",
              "      <td>...</td>\n",
              "      <td>0</td>\n",
              "      <td>1</td>\n",
              "      <td>0</td>\n",
              "      <td>1</td>\n",
              "      <td>0</td>\n",
              "      <td>0</td>\n",
              "      <td>0</td>\n",
              "      <td>0</td>\n",
              "      <td>1</td>\n",
              "      <td>1</td>\n",
              "    </tr>\n",
              "    <tr>\n",
              "      <th>2</th>\n",
              "      <td>29.165</td>\n",
              "      <td>21.984</td>\n",
              "      <td>0</td>\n",
              "      <td>3</td>\n",
              "      <td>48.652</td>\n",
              "      <td>2.4805</td>\n",
              "      <td>4.9240</td>\n",
              "      <td>48.652</td>\n",
              "      <td>1.3149</td>\n",
              "      <td>4.5486</td>\n",
              "      <td>...</td>\n",
              "      <td>0</td>\n",
              "      <td>1</td>\n",
              "      <td>0</td>\n",
              "      <td>1</td>\n",
              "      <td>0</td>\n",
              "      <td>0</td>\n",
              "      <td>0</td>\n",
              "      <td>0</td>\n",
              "      <td>1</td>\n",
              "      <td>1</td>\n",
              "    </tr>\n",
              "    <tr>\n",
              "      <th>3</th>\n",
              "      <td>23.201</td>\n",
              "      <td>17.981</td>\n",
              "      <td>0</td>\n",
              "      <td>1</td>\n",
              "      <td>39.309</td>\n",
              "      <td>2.4240</td>\n",
              "      <td>4.8126</td>\n",
              "      <td>39.309</td>\n",
              "      <td>1.3555</td>\n",
              "      <td>4.3224</td>\n",
              "      <td>...</td>\n",
              "      <td>1</td>\n",
              "      <td>0</td>\n",
              "      <td>0</td>\n",
              "      <td>1</td>\n",
              "      <td>0</td>\n",
              "      <td>0</td>\n",
              "      <td>0</td>\n",
              "      <td>0</td>\n",
              "      <td>1</td>\n",
              "      <td>1</td>\n",
              "    </tr>\n",
              "    <tr>\n",
              "      <th>4</th>\n",
              "      <td>27.203</td>\n",
              "      <td>21.749</td>\n",
              "      <td>0</td>\n",
              "      <td>1</td>\n",
              "      <td>45.762</td>\n",
              "      <td>2.4490</td>\n",
              "      <td>4.8979</td>\n",
              "      <td>45.762</td>\n",
              "      <td>1.2712</td>\n",
              "      <td>4.4889</td>\n",
              "      <td>...</td>\n",
              "      <td>1</td>\n",
              "      <td>1</td>\n",
              "      <td>0</td>\n",
              "      <td>1</td>\n",
              "      <td>0</td>\n",
              "      <td>0</td>\n",
              "      <td>0</td>\n",
              "      <td>0</td>\n",
              "      <td>1</td>\n",
              "      <td>1</td>\n",
              "    </tr>\n",
              "    <tr>\n",
              "      <th>...</th>\n",
              "      <td>...</td>\n",
              "      <td>...</td>\n",
              "      <td>...</td>\n",
              "      <td>...</td>\n",
              "      <td>...</td>\n",
              "      <td>...</td>\n",
              "      <td>...</td>\n",
              "      <td>...</td>\n",
              "      <td>...</td>\n",
              "      <td>...</td>\n",
              "      <td>...</td>\n",
              "      <td>...</td>\n",
              "      <td>...</td>\n",
              "      <td>...</td>\n",
              "      <td>...</td>\n",
              "      <td>...</td>\n",
              "      <td>...</td>\n",
              "      <td>...</td>\n",
              "      <td>...</td>\n",
              "      <td>...</td>\n",
              "      <td>...</td>\n",
              "    </tr>\n",
              "    <tr>\n",
              "      <th>1234</th>\n",
              "      <td>26.686</td>\n",
              "      <td>20.687</td>\n",
              "      <td>0</td>\n",
              "      <td>1</td>\n",
              "      <td>44.017</td>\n",
              "      <td>2.4347</td>\n",
              "      <td>4.8693</td>\n",
              "      <td>44.017</td>\n",
              "      <td>1.2576</td>\n",
              "      <td>4.4599</td>\n",
              "      <td>...</td>\n",
              "      <td>0</td>\n",
              "      <td>1</td>\n",
              "      <td>0</td>\n",
              "      <td>1</td>\n",
              "      <td>0</td>\n",
              "      <td>0</td>\n",
              "      <td>0</td>\n",
              "      <td>0</td>\n",
              "      <td>1</td>\n",
              "      <td>1</td>\n",
              "    </tr>\n",
              "    <tr>\n",
              "      <th>1235</th>\n",
              "      <td>29.784</td>\n",
              "      <td>21.338</td>\n",
              "      <td>0</td>\n",
              "      <td>1</td>\n",
              "      <td>50.777</td>\n",
              "      <td>2.4038</td>\n",
              "      <td>4.8077</td>\n",
              "      <td>50.777</td>\n",
              "      <td>1.3362</td>\n",
              "      <td>4.5681</td>\n",
              "      <td>...</td>\n",
              "      <td>1</td>\n",
              "      <td>0</td>\n",
              "      <td>0</td>\n",
              "      <td>0</td>\n",
              "      <td>0</td>\n",
              "      <td>0</td>\n",
              "      <td>0</td>\n",
              "      <td>0</td>\n",
              "      <td>1</td>\n",
              "      <td>1</td>\n",
              "    </tr>\n",
              "    <tr>\n",
              "      <th>1236</th>\n",
              "      <td>29.095</td>\n",
              "      <td>22.515</td>\n",
              "      <td>0</td>\n",
              "      <td>1</td>\n",
              "      <td>47.139</td>\n",
              "      <td>2.4354</td>\n",
              "      <td>4.8708</td>\n",
              "      <td>47.139</td>\n",
              "      <td>1.2405</td>\n",
              "      <td>4.5406</td>\n",
              "      <td>...</td>\n",
              "      <td>0</td>\n",
              "      <td>0</td>\n",
              "      <td>0</td>\n",
              "      <td>1</td>\n",
              "      <td>0</td>\n",
              "      <td>0</td>\n",
              "      <td>0</td>\n",
              "      <td>0</td>\n",
              "      <td>1</td>\n",
              "      <td>1</td>\n",
              "    </tr>\n",
              "    <tr>\n",
              "      <th>1237</th>\n",
              "      <td>29.784</td>\n",
              "      <td>21.338</td>\n",
              "      <td>0</td>\n",
              "      <td>1</td>\n",
              "      <td>50.777</td>\n",
              "      <td>2.4038</td>\n",
              "      <td>4.8077</td>\n",
              "      <td>50.777</td>\n",
              "      <td>1.3362</td>\n",
              "      <td>4.5681</td>\n",
              "      <td>...</td>\n",
              "      <td>1</td>\n",
              "      <td>0</td>\n",
              "      <td>0</td>\n",
              "      <td>1</td>\n",
              "      <td>0</td>\n",
              "      <td>0</td>\n",
              "      <td>0</td>\n",
              "      <td>0</td>\n",
              "      <td>1</td>\n",
              "      <td>1</td>\n",
              "    </tr>\n",
              "    <tr>\n",
              "      <th>1238</th>\n",
              "      <td>28.003</td>\n",
              "      <td>20.095</td>\n",
              "      <td>0</td>\n",
              "      <td>4</td>\n",
              "      <td>46.018</td>\n",
              "      <td>2.3681</td>\n",
              "      <td>4.7362</td>\n",
              "      <td>46.018</td>\n",
              "      <td>1.2783</td>\n",
              "      <td>4.5001</td>\n",
              "      <td>...</td>\n",
              "      <td>0</td>\n",
              "      <td>1</td>\n",
              "      <td>0</td>\n",
              "      <td>0</td>\n",
              "      <td>0</td>\n",
              "      <td>0</td>\n",
              "      <td>0</td>\n",
              "      <td>1</td>\n",
              "      <td>1</td>\n",
              "      <td>1</td>\n",
              "    </tr>\n",
              "  </tbody>\n",
              "</table>\n",
              "<p>1239 rows × 3473 columns</p>\n",
              "</div>\n",
              "    <div class=\"colab-df-buttons\">\n",
              "\n",
              "  <div class=\"colab-df-container\">\n",
              "    <button class=\"colab-df-convert\" onclick=\"convertToInteractive('df-b1fa5051-3154-4e5c-ae4c-9d97ba9679cc')\"\n",
              "            title=\"Convert this dataframe to an interactive table.\"\n",
              "            style=\"display:none;\">\n",
              "\n",
              "  <svg xmlns=\"http://www.w3.org/2000/svg\" height=\"24px\" viewBox=\"0 -960 960 960\">\n",
              "    <path d=\"M120-120v-720h720v720H120Zm60-500h600v-160H180v160Zm220 220h160v-160H400v160Zm0 220h160v-160H400v160ZM180-400h160v-160H180v160Zm440 0h160v-160H620v160ZM180-180h160v-160H180v160Zm440 0h160v-160H620v160Z\"/>\n",
              "  </svg>\n",
              "    </button>\n",
              "\n",
              "  <style>\n",
              "    .colab-df-container {\n",
              "      display:flex;\n",
              "      gap: 12px;\n",
              "    }\n",
              "\n",
              "    .colab-df-convert {\n",
              "      background-color: #E8F0FE;\n",
              "      border: none;\n",
              "      border-radius: 50%;\n",
              "      cursor: pointer;\n",
              "      display: none;\n",
              "      fill: #1967D2;\n",
              "      height: 32px;\n",
              "      padding: 0 0 0 0;\n",
              "      width: 32px;\n",
              "    }\n",
              "\n",
              "    .colab-df-convert:hover {\n",
              "      background-color: #E2EBFA;\n",
              "      box-shadow: 0px 1px 2px rgba(60, 64, 67, 0.3), 0px 1px 3px 1px rgba(60, 64, 67, 0.15);\n",
              "      fill: #174EA6;\n",
              "    }\n",
              "\n",
              "    .colab-df-buttons div {\n",
              "      margin-bottom: 4px;\n",
              "    }\n",
              "\n",
              "    [theme=dark] .colab-df-convert {\n",
              "      background-color: #3B4455;\n",
              "      fill: #D2E3FC;\n",
              "    }\n",
              "\n",
              "    [theme=dark] .colab-df-convert:hover {\n",
              "      background-color: #434B5C;\n",
              "      box-shadow: 0px 1px 3px 1px rgba(0, 0, 0, 0.15);\n",
              "      filter: drop-shadow(0px 1px 2px rgba(0, 0, 0, 0.3));\n",
              "      fill: #FFFFFF;\n",
              "    }\n",
              "  </style>\n",
              "\n",
              "    <script>\n",
              "      const buttonEl =\n",
              "        document.querySelector('#df-b1fa5051-3154-4e5c-ae4c-9d97ba9679cc button.colab-df-convert');\n",
              "      buttonEl.style.display =\n",
              "        google.colab.kernel.accessAllowed ? 'block' : 'none';\n",
              "\n",
              "      async function convertToInteractive(key) {\n",
              "        const element = document.querySelector('#df-b1fa5051-3154-4e5c-ae4c-9d97ba9679cc');\n",
              "        const dataTable =\n",
              "          await google.colab.kernel.invokeFunction('convertToInteractive',\n",
              "                                                    [key], {});\n",
              "        if (!dataTable) return;\n",
              "\n",
              "        const docLinkHtml = 'Like what you see? Visit the ' +\n",
              "          '<a target=\"_blank\" href=https://colab.research.google.com/notebooks/data_table.ipynb>data table notebook</a>'\n",
              "          + ' to learn more about interactive tables.';\n",
              "        element.innerHTML = '';\n",
              "        dataTable['output_type'] = 'display_data';\n",
              "        await google.colab.output.renderOutput(dataTable, element);\n",
              "        const docLink = document.createElement('div');\n",
              "        docLink.innerHTML = docLinkHtml;\n",
              "        element.appendChild(docLink);\n",
              "      }\n",
              "    </script>\n",
              "  </div>\n",
              "\n",
              "\n",
              "<div id=\"df-a1898199-252f-4466-9e17-2080632ad880\">\n",
              "  <button class=\"colab-df-quickchart\" onclick=\"quickchart('df-a1898199-252f-4466-9e17-2080632ad880')\"\n",
              "            title=\"Suggest charts\"\n",
              "            style=\"display:none;\">\n",
              "\n",
              "<svg xmlns=\"http://www.w3.org/2000/svg\" height=\"24px\"viewBox=\"0 0 24 24\"\n",
              "     width=\"24px\">\n",
              "    <g>\n",
              "        <path d=\"M19 3H5c-1.1 0-2 .9-2 2v14c0 1.1.9 2 2 2h14c1.1 0 2-.9 2-2V5c0-1.1-.9-2-2-2zM9 17H7v-7h2v7zm4 0h-2V7h2v10zm4 0h-2v-4h2v4z\"/>\n",
              "    </g>\n",
              "</svg>\n",
              "  </button>\n",
              "\n",
              "<style>\n",
              "  .colab-df-quickchart {\n",
              "      --bg-color: #E8F0FE;\n",
              "      --fill-color: #1967D2;\n",
              "      --hover-bg-color: #E2EBFA;\n",
              "      --hover-fill-color: #174EA6;\n",
              "      --disabled-fill-color: #AAA;\n",
              "      --disabled-bg-color: #DDD;\n",
              "  }\n",
              "\n",
              "  [theme=dark] .colab-df-quickchart {\n",
              "      --bg-color: #3B4455;\n",
              "      --fill-color: #D2E3FC;\n",
              "      --hover-bg-color: #434B5C;\n",
              "      --hover-fill-color: #FFFFFF;\n",
              "      --disabled-bg-color: #3B4455;\n",
              "      --disabled-fill-color: #666;\n",
              "  }\n",
              "\n",
              "  .colab-df-quickchart {\n",
              "    background-color: var(--bg-color);\n",
              "    border: none;\n",
              "    border-radius: 50%;\n",
              "    cursor: pointer;\n",
              "    display: none;\n",
              "    fill: var(--fill-color);\n",
              "    height: 32px;\n",
              "    padding: 0;\n",
              "    width: 32px;\n",
              "  }\n",
              "\n",
              "  .colab-df-quickchart:hover {\n",
              "    background-color: var(--hover-bg-color);\n",
              "    box-shadow: 0 1px 2px rgba(60, 64, 67, 0.3), 0 1px 3px 1px rgba(60, 64, 67, 0.15);\n",
              "    fill: var(--button-hover-fill-color);\n",
              "  }\n",
              "\n",
              "  .colab-df-quickchart-complete:disabled,\n",
              "  .colab-df-quickchart-complete:disabled:hover {\n",
              "    background-color: var(--disabled-bg-color);\n",
              "    fill: var(--disabled-fill-color);\n",
              "    box-shadow: none;\n",
              "  }\n",
              "\n",
              "  .colab-df-spinner {\n",
              "    border: 2px solid var(--fill-color);\n",
              "    border-color: transparent;\n",
              "    border-bottom-color: var(--fill-color);\n",
              "    animation:\n",
              "      spin 1s steps(1) infinite;\n",
              "  }\n",
              "\n",
              "  @keyframes spin {\n",
              "    0% {\n",
              "      border-color: transparent;\n",
              "      border-bottom-color: var(--fill-color);\n",
              "      border-left-color: var(--fill-color);\n",
              "    }\n",
              "    20% {\n",
              "      border-color: transparent;\n",
              "      border-left-color: var(--fill-color);\n",
              "      border-top-color: var(--fill-color);\n",
              "    }\n",
              "    30% {\n",
              "      border-color: transparent;\n",
              "      border-left-color: var(--fill-color);\n",
              "      border-top-color: var(--fill-color);\n",
              "      border-right-color: var(--fill-color);\n",
              "    }\n",
              "    40% {\n",
              "      border-color: transparent;\n",
              "      border-right-color: var(--fill-color);\n",
              "      border-top-color: var(--fill-color);\n",
              "    }\n",
              "    60% {\n",
              "      border-color: transparent;\n",
              "      border-right-color: var(--fill-color);\n",
              "    }\n",
              "    80% {\n",
              "      border-color: transparent;\n",
              "      border-right-color: var(--fill-color);\n",
              "      border-bottom-color: var(--fill-color);\n",
              "    }\n",
              "    90% {\n",
              "      border-color: transparent;\n",
              "      border-bottom-color: var(--fill-color);\n",
              "    }\n",
              "  }\n",
              "</style>\n",
              "\n",
              "  <script>\n",
              "    async function quickchart(key) {\n",
              "      const quickchartButtonEl =\n",
              "        document.querySelector('#' + key + ' button');\n",
              "      quickchartButtonEl.disabled = true;  // To prevent multiple clicks.\n",
              "      quickchartButtonEl.classList.add('colab-df-spinner');\n",
              "      try {\n",
              "        const charts = await google.colab.kernel.invokeFunction(\n",
              "            'suggestCharts', [key], {});\n",
              "      } catch (error) {\n",
              "        console.error('Error during call to suggestCharts:', error);\n",
              "      }\n",
              "      quickchartButtonEl.classList.remove('colab-df-spinner');\n",
              "      quickchartButtonEl.classList.add('colab-df-quickchart-complete');\n",
              "    }\n",
              "    (() => {\n",
              "      let quickchartButtonEl =\n",
              "        document.querySelector('#df-a1898199-252f-4466-9e17-2080632ad880 button');\n",
              "      quickchartButtonEl.style.display =\n",
              "        google.colab.kernel.accessAllowed ? 'block' : 'none';\n",
              "    })();\n",
              "  </script>\n",
              "</div>\n",
              "    </div>\n",
              "  </div>\n"
            ]
          },
          "metadata": {},
          "execution_count": 16
        }
      ]
    },
    {
      "cell_type": "code",
      "source": [
        "count = 0\n",
        "for column in X_combined_df.columns:\n",
        "    unique_values = X_combined_df[column].unique()\n",
        "    # print(f\"Column '{column}' has {len(unique_values)}\")\n",
        "\n",
        "    if len(unique_values) == 1:\n",
        "      count += 1\n",
        "print(\"Number of features with only one unique value is:\", count)"
      ],
      "metadata": {
        "colab": {
          "base_uri": "https://localhost:8080/"
        },
        "id": "V883bwOFdn8P",
        "outputId": "dd5a91e1-1274-431d-d9e0-993053260d1b"
      },
      "execution_count": 17,
      "outputs": [
        {
          "output_type": "stream",
          "name": "stdout",
          "text": [
            "Number of features with only one unique value is: 197\n"
          ]
        }
      ]
    },
    {
      "cell_type": "code",
      "source": [
        "cont_num = 1425\n",
        "binary_num = 2048\n",
        "\n",
        "count_cont = 0\n",
        "for column in X_combined_df.columns[0:cont_num]:\n",
        "    unique_values = X_combined_df[column].unique()\n",
        "    # print(f\"Column '{column}' has {len(unique_values)}\")\n",
        "\n",
        "    if len(unique_values) == 1:\n",
        "      count_cont += 1\n",
        "print(\"Number of features with only one unique value is:\", count_cont)\n",
        "\n",
        "count_bin = 0\n",
        "for column in X_combined_df.columns[cont_num:]:\n",
        "    unique_values = X_combined_df[column].unique()\n",
        "    # print(f\"Column '{column}' has {len(unique_values)}\")\n",
        "\n",
        "    if len(unique_values) == 1:\n",
        "      count_bin += 1\n",
        "print(\"Number of features with only one unique value is:\", count_bin)"
      ],
      "metadata": {
        "colab": {
          "base_uri": "https://localhost:8080/"
        },
        "id": "Ptbgr3mkmRaf",
        "outputId": "5d7189dc-8cba-4172-af91-7741ea96cdfd"
      },
      "execution_count": 18,
      "outputs": [
        {
          "output_type": "stream",
          "name": "stdout",
          "text": [
            "Number of features with only one unique value is: 184\n",
            "Number of features with only one unique value is: 13\n"
          ]
        }
      ]
    },
    {
      "cell_type": "code",
      "execution_count": 19,
      "metadata": {
        "id": "J52imyvYFBi2"
      },
      "outputs": [],
      "source": [
        "# Drop columns with only one unique value\n",
        "X_combined_df = X_combined_df.loc[:, X_combined_df.nunique() > 1]"
      ]
    },
    {
      "cell_type": "code",
      "execution_count": 20,
      "metadata": {
        "colab": {
          "base_uri": "https://localhost:8080/",
          "height": 424
        },
        "id": "ZZlRDsZGFERI",
        "outputId": "42c2ef29-715b-4c70-b643-b74a1321353e"
      },
      "outputs": [
        {
          "output_type": "execute_result",
          "data": {
            "text/plain": [
              "        0       1     2     3       4       5       6       7       8     \\\n",
              "0     28.406  22.081     0     0  45.633  2.4611  4.9222  45.633  1.2333   \n",
              "1     30.579  22.122     0     3  51.506  2.4802  4.9235  51.506  1.3207   \n",
              "2     29.165  21.984     0     3  48.652  2.4805  4.9240  48.652  1.3149   \n",
              "3     23.201  17.981     0     1  39.309  2.4240  4.8126  39.309  1.3555   \n",
              "4     27.203  21.749     0     1  45.762  2.4490  4.8979  45.762  1.2712   \n",
              "...      ...     ...   ...   ...     ...     ...     ...     ...     ...   \n",
              "1234  26.686  20.687     0     1  44.017  2.4347  4.8693  44.017  1.2576   \n",
              "1235  29.784  21.338     0     1  50.777  2.4038  4.8077  50.777  1.3362   \n",
              "1236  29.095  22.515     0     1  47.139  2.4354  4.8708  47.139  1.2405   \n",
              "1237  29.784  21.338     0     1  50.777  2.4038  4.8077  50.777  1.3362   \n",
              "1238  28.003  20.095     0     4  46.018  2.3681  4.7362  46.018  1.2783   \n",
              "\n",
              "        9     ...  3463  3464  3465  3466  3467  3468  3469  3470  3471  3472  \n",
              "0     4.5185  ...     0     0     0     1     0     0     0     0     1     1  \n",
              "1     4.5949  ...     0     1     0     1     0     0     0     0     1     1  \n",
              "2     4.5486  ...     0     1     0     1     0     0     0     0     1     1  \n",
              "3     4.3224  ...     1     0     0     1     0     0     0     0     1     1  \n",
              "4     4.4889  ...     1     1     0     1     0     0     0     0     1     1  \n",
              "...      ...  ...   ...   ...   ...   ...   ...   ...   ...   ...   ...   ...  \n",
              "1234  4.4599  ...     0     1     0     1     0     0     0     0     1     1  \n",
              "1235  4.5681  ...     1     0     0     0     0     0     0     0     1     1  \n",
              "1236  4.5406  ...     0     0     0     1     0     0     0     0     1     1  \n",
              "1237  4.5681  ...     1     0     0     1     0     0     0     0     1     1  \n",
              "1238  4.5001  ...     0     1     0     0     0     0     0     1     1     1  \n",
              "\n",
              "[1239 rows x 3276 columns]"
            ],
            "text/html": [
              "\n",
              "  <div id=\"df-1234fc37-05ef-4c9c-ae1d-edf3f9daf7b7\" class=\"colab-df-container\">\n",
              "    <div>\n",
              "<style scoped>\n",
              "    .dataframe tbody tr th:only-of-type {\n",
              "        vertical-align: middle;\n",
              "    }\n",
              "\n",
              "    .dataframe tbody tr th {\n",
              "        vertical-align: top;\n",
              "    }\n",
              "\n",
              "    .dataframe thead th {\n",
              "        text-align: right;\n",
              "    }\n",
              "</style>\n",
              "<table border=\"1\" class=\"dataframe\">\n",
              "  <thead>\n",
              "    <tr style=\"text-align: right;\">\n",
              "      <th></th>\n",
              "      <th>0</th>\n",
              "      <th>1</th>\n",
              "      <th>2</th>\n",
              "      <th>3</th>\n",
              "      <th>4</th>\n",
              "      <th>5</th>\n",
              "      <th>6</th>\n",
              "      <th>7</th>\n",
              "      <th>8</th>\n",
              "      <th>9</th>\n",
              "      <th>...</th>\n",
              "      <th>3463</th>\n",
              "      <th>3464</th>\n",
              "      <th>3465</th>\n",
              "      <th>3466</th>\n",
              "      <th>3467</th>\n",
              "      <th>3468</th>\n",
              "      <th>3469</th>\n",
              "      <th>3470</th>\n",
              "      <th>3471</th>\n",
              "      <th>3472</th>\n",
              "    </tr>\n",
              "  </thead>\n",
              "  <tbody>\n",
              "    <tr>\n",
              "      <th>0</th>\n",
              "      <td>28.406</td>\n",
              "      <td>22.081</td>\n",
              "      <td>0</td>\n",
              "      <td>0</td>\n",
              "      <td>45.633</td>\n",
              "      <td>2.4611</td>\n",
              "      <td>4.9222</td>\n",
              "      <td>45.633</td>\n",
              "      <td>1.2333</td>\n",
              "      <td>4.5185</td>\n",
              "      <td>...</td>\n",
              "      <td>0</td>\n",
              "      <td>0</td>\n",
              "      <td>0</td>\n",
              "      <td>1</td>\n",
              "      <td>0</td>\n",
              "      <td>0</td>\n",
              "      <td>0</td>\n",
              "      <td>0</td>\n",
              "      <td>1</td>\n",
              "      <td>1</td>\n",
              "    </tr>\n",
              "    <tr>\n",
              "      <th>1</th>\n",
              "      <td>30.579</td>\n",
              "      <td>22.122</td>\n",
              "      <td>0</td>\n",
              "      <td>3</td>\n",
              "      <td>51.506</td>\n",
              "      <td>2.4802</td>\n",
              "      <td>4.9235</td>\n",
              "      <td>51.506</td>\n",
              "      <td>1.3207</td>\n",
              "      <td>4.5949</td>\n",
              "      <td>...</td>\n",
              "      <td>0</td>\n",
              "      <td>1</td>\n",
              "      <td>0</td>\n",
              "      <td>1</td>\n",
              "      <td>0</td>\n",
              "      <td>0</td>\n",
              "      <td>0</td>\n",
              "      <td>0</td>\n",
              "      <td>1</td>\n",
              "      <td>1</td>\n",
              "    </tr>\n",
              "    <tr>\n",
              "      <th>2</th>\n",
              "      <td>29.165</td>\n",
              "      <td>21.984</td>\n",
              "      <td>0</td>\n",
              "      <td>3</td>\n",
              "      <td>48.652</td>\n",
              "      <td>2.4805</td>\n",
              "      <td>4.9240</td>\n",
              "      <td>48.652</td>\n",
              "      <td>1.3149</td>\n",
              "      <td>4.5486</td>\n",
              "      <td>...</td>\n",
              "      <td>0</td>\n",
              "      <td>1</td>\n",
              "      <td>0</td>\n",
              "      <td>1</td>\n",
              "      <td>0</td>\n",
              "      <td>0</td>\n",
              "      <td>0</td>\n",
              "      <td>0</td>\n",
              "      <td>1</td>\n",
              "      <td>1</td>\n",
              "    </tr>\n",
              "    <tr>\n",
              "      <th>3</th>\n",
              "      <td>23.201</td>\n",
              "      <td>17.981</td>\n",
              "      <td>0</td>\n",
              "      <td>1</td>\n",
              "      <td>39.309</td>\n",
              "      <td>2.4240</td>\n",
              "      <td>4.8126</td>\n",
              "      <td>39.309</td>\n",
              "      <td>1.3555</td>\n",
              "      <td>4.3224</td>\n",
              "      <td>...</td>\n",
              "      <td>1</td>\n",
              "      <td>0</td>\n",
              "      <td>0</td>\n",
              "      <td>1</td>\n",
              "      <td>0</td>\n",
              "      <td>0</td>\n",
              "      <td>0</td>\n",
              "      <td>0</td>\n",
              "      <td>1</td>\n",
              "      <td>1</td>\n",
              "    </tr>\n",
              "    <tr>\n",
              "      <th>4</th>\n",
              "      <td>27.203</td>\n",
              "      <td>21.749</td>\n",
              "      <td>0</td>\n",
              "      <td>1</td>\n",
              "      <td>45.762</td>\n",
              "      <td>2.4490</td>\n",
              "      <td>4.8979</td>\n",
              "      <td>45.762</td>\n",
              "      <td>1.2712</td>\n",
              "      <td>4.4889</td>\n",
              "      <td>...</td>\n",
              "      <td>1</td>\n",
              "      <td>1</td>\n",
              "      <td>0</td>\n",
              "      <td>1</td>\n",
              "      <td>0</td>\n",
              "      <td>0</td>\n",
              "      <td>0</td>\n",
              "      <td>0</td>\n",
              "      <td>1</td>\n",
              "      <td>1</td>\n",
              "    </tr>\n",
              "    <tr>\n",
              "      <th>...</th>\n",
              "      <td>...</td>\n",
              "      <td>...</td>\n",
              "      <td>...</td>\n",
              "      <td>...</td>\n",
              "      <td>...</td>\n",
              "      <td>...</td>\n",
              "      <td>...</td>\n",
              "      <td>...</td>\n",
              "      <td>...</td>\n",
              "      <td>...</td>\n",
              "      <td>...</td>\n",
              "      <td>...</td>\n",
              "      <td>...</td>\n",
              "      <td>...</td>\n",
              "      <td>...</td>\n",
              "      <td>...</td>\n",
              "      <td>...</td>\n",
              "      <td>...</td>\n",
              "      <td>...</td>\n",
              "      <td>...</td>\n",
              "      <td>...</td>\n",
              "    </tr>\n",
              "    <tr>\n",
              "      <th>1234</th>\n",
              "      <td>26.686</td>\n",
              "      <td>20.687</td>\n",
              "      <td>0</td>\n",
              "      <td>1</td>\n",
              "      <td>44.017</td>\n",
              "      <td>2.4347</td>\n",
              "      <td>4.8693</td>\n",
              "      <td>44.017</td>\n",
              "      <td>1.2576</td>\n",
              "      <td>4.4599</td>\n",
              "      <td>...</td>\n",
              "      <td>0</td>\n",
              "      <td>1</td>\n",
              "      <td>0</td>\n",
              "      <td>1</td>\n",
              "      <td>0</td>\n",
              "      <td>0</td>\n",
              "      <td>0</td>\n",
              "      <td>0</td>\n",
              "      <td>1</td>\n",
              "      <td>1</td>\n",
              "    </tr>\n",
              "    <tr>\n",
              "      <th>1235</th>\n",
              "      <td>29.784</td>\n",
              "      <td>21.338</td>\n",
              "      <td>0</td>\n",
              "      <td>1</td>\n",
              "      <td>50.777</td>\n",
              "      <td>2.4038</td>\n",
              "      <td>4.8077</td>\n",
              "      <td>50.777</td>\n",
              "      <td>1.3362</td>\n",
              "      <td>4.5681</td>\n",
              "      <td>...</td>\n",
              "      <td>1</td>\n",
              "      <td>0</td>\n",
              "      <td>0</td>\n",
              "      <td>0</td>\n",
              "      <td>0</td>\n",
              "      <td>0</td>\n",
              "      <td>0</td>\n",
              "      <td>0</td>\n",
              "      <td>1</td>\n",
              "      <td>1</td>\n",
              "    </tr>\n",
              "    <tr>\n",
              "      <th>1236</th>\n",
              "      <td>29.095</td>\n",
              "      <td>22.515</td>\n",
              "      <td>0</td>\n",
              "      <td>1</td>\n",
              "      <td>47.139</td>\n",
              "      <td>2.4354</td>\n",
              "      <td>4.8708</td>\n",
              "      <td>47.139</td>\n",
              "      <td>1.2405</td>\n",
              "      <td>4.5406</td>\n",
              "      <td>...</td>\n",
              "      <td>0</td>\n",
              "      <td>0</td>\n",
              "      <td>0</td>\n",
              "      <td>1</td>\n",
              "      <td>0</td>\n",
              "      <td>0</td>\n",
              "      <td>0</td>\n",
              "      <td>0</td>\n",
              "      <td>1</td>\n",
              "      <td>1</td>\n",
              "    </tr>\n",
              "    <tr>\n",
              "      <th>1237</th>\n",
              "      <td>29.784</td>\n",
              "      <td>21.338</td>\n",
              "      <td>0</td>\n",
              "      <td>1</td>\n",
              "      <td>50.777</td>\n",
              "      <td>2.4038</td>\n",
              "      <td>4.8077</td>\n",
              "      <td>50.777</td>\n",
              "      <td>1.3362</td>\n",
              "      <td>4.5681</td>\n",
              "      <td>...</td>\n",
              "      <td>1</td>\n",
              "      <td>0</td>\n",
              "      <td>0</td>\n",
              "      <td>1</td>\n",
              "      <td>0</td>\n",
              "      <td>0</td>\n",
              "      <td>0</td>\n",
              "      <td>0</td>\n",
              "      <td>1</td>\n",
              "      <td>1</td>\n",
              "    </tr>\n",
              "    <tr>\n",
              "      <th>1238</th>\n",
              "      <td>28.003</td>\n",
              "      <td>20.095</td>\n",
              "      <td>0</td>\n",
              "      <td>4</td>\n",
              "      <td>46.018</td>\n",
              "      <td>2.3681</td>\n",
              "      <td>4.7362</td>\n",
              "      <td>46.018</td>\n",
              "      <td>1.2783</td>\n",
              "      <td>4.5001</td>\n",
              "      <td>...</td>\n",
              "      <td>0</td>\n",
              "      <td>1</td>\n",
              "      <td>0</td>\n",
              "      <td>0</td>\n",
              "      <td>0</td>\n",
              "      <td>0</td>\n",
              "      <td>0</td>\n",
              "      <td>1</td>\n",
              "      <td>1</td>\n",
              "      <td>1</td>\n",
              "    </tr>\n",
              "  </tbody>\n",
              "</table>\n",
              "<p>1239 rows × 3276 columns</p>\n",
              "</div>\n",
              "    <div class=\"colab-df-buttons\">\n",
              "\n",
              "  <div class=\"colab-df-container\">\n",
              "    <button class=\"colab-df-convert\" onclick=\"convertToInteractive('df-1234fc37-05ef-4c9c-ae1d-edf3f9daf7b7')\"\n",
              "            title=\"Convert this dataframe to an interactive table.\"\n",
              "            style=\"display:none;\">\n",
              "\n",
              "  <svg xmlns=\"http://www.w3.org/2000/svg\" height=\"24px\" viewBox=\"0 -960 960 960\">\n",
              "    <path d=\"M120-120v-720h720v720H120Zm60-500h600v-160H180v160Zm220 220h160v-160H400v160Zm0 220h160v-160H400v160ZM180-400h160v-160H180v160Zm440 0h160v-160H620v160ZM180-180h160v-160H180v160Zm440 0h160v-160H620v160Z\"/>\n",
              "  </svg>\n",
              "    </button>\n",
              "\n",
              "  <style>\n",
              "    .colab-df-container {\n",
              "      display:flex;\n",
              "      gap: 12px;\n",
              "    }\n",
              "\n",
              "    .colab-df-convert {\n",
              "      background-color: #E8F0FE;\n",
              "      border: none;\n",
              "      border-radius: 50%;\n",
              "      cursor: pointer;\n",
              "      display: none;\n",
              "      fill: #1967D2;\n",
              "      height: 32px;\n",
              "      padding: 0 0 0 0;\n",
              "      width: 32px;\n",
              "    }\n",
              "\n",
              "    .colab-df-convert:hover {\n",
              "      background-color: #E2EBFA;\n",
              "      box-shadow: 0px 1px 2px rgba(60, 64, 67, 0.3), 0px 1px 3px 1px rgba(60, 64, 67, 0.15);\n",
              "      fill: #174EA6;\n",
              "    }\n",
              "\n",
              "    .colab-df-buttons div {\n",
              "      margin-bottom: 4px;\n",
              "    }\n",
              "\n",
              "    [theme=dark] .colab-df-convert {\n",
              "      background-color: #3B4455;\n",
              "      fill: #D2E3FC;\n",
              "    }\n",
              "\n",
              "    [theme=dark] .colab-df-convert:hover {\n",
              "      background-color: #434B5C;\n",
              "      box-shadow: 0px 1px 3px 1px rgba(0, 0, 0, 0.15);\n",
              "      filter: drop-shadow(0px 1px 2px rgba(0, 0, 0, 0.3));\n",
              "      fill: #FFFFFF;\n",
              "    }\n",
              "  </style>\n",
              "\n",
              "    <script>\n",
              "      const buttonEl =\n",
              "        document.querySelector('#df-1234fc37-05ef-4c9c-ae1d-edf3f9daf7b7 button.colab-df-convert');\n",
              "      buttonEl.style.display =\n",
              "        google.colab.kernel.accessAllowed ? 'block' : 'none';\n",
              "\n",
              "      async function convertToInteractive(key) {\n",
              "        const element = document.querySelector('#df-1234fc37-05ef-4c9c-ae1d-edf3f9daf7b7');\n",
              "        const dataTable =\n",
              "          await google.colab.kernel.invokeFunction('convertToInteractive',\n",
              "                                                    [key], {});\n",
              "        if (!dataTable) return;\n",
              "\n",
              "        const docLinkHtml = 'Like what you see? Visit the ' +\n",
              "          '<a target=\"_blank\" href=https://colab.research.google.com/notebooks/data_table.ipynb>data table notebook</a>'\n",
              "          + ' to learn more about interactive tables.';\n",
              "        element.innerHTML = '';\n",
              "        dataTable['output_type'] = 'display_data';\n",
              "        await google.colab.output.renderOutput(dataTable, element);\n",
              "        const docLink = document.createElement('div');\n",
              "        docLink.innerHTML = docLinkHtml;\n",
              "        element.appendChild(docLink);\n",
              "      }\n",
              "    </script>\n",
              "  </div>\n",
              "\n",
              "\n",
              "<div id=\"df-c3c81a15-6a6d-41c5-b558-2cd7a82b184b\">\n",
              "  <button class=\"colab-df-quickchart\" onclick=\"quickchart('df-c3c81a15-6a6d-41c5-b558-2cd7a82b184b')\"\n",
              "            title=\"Suggest charts\"\n",
              "            style=\"display:none;\">\n",
              "\n",
              "<svg xmlns=\"http://www.w3.org/2000/svg\" height=\"24px\"viewBox=\"0 0 24 24\"\n",
              "     width=\"24px\">\n",
              "    <g>\n",
              "        <path d=\"M19 3H5c-1.1 0-2 .9-2 2v14c0 1.1.9 2 2 2h14c1.1 0 2-.9 2-2V5c0-1.1-.9-2-2-2zM9 17H7v-7h2v7zm4 0h-2V7h2v10zm4 0h-2v-4h2v4z\"/>\n",
              "    </g>\n",
              "</svg>\n",
              "  </button>\n",
              "\n",
              "<style>\n",
              "  .colab-df-quickchart {\n",
              "      --bg-color: #E8F0FE;\n",
              "      --fill-color: #1967D2;\n",
              "      --hover-bg-color: #E2EBFA;\n",
              "      --hover-fill-color: #174EA6;\n",
              "      --disabled-fill-color: #AAA;\n",
              "      --disabled-bg-color: #DDD;\n",
              "  }\n",
              "\n",
              "  [theme=dark] .colab-df-quickchart {\n",
              "      --bg-color: #3B4455;\n",
              "      --fill-color: #D2E3FC;\n",
              "      --hover-bg-color: #434B5C;\n",
              "      --hover-fill-color: #FFFFFF;\n",
              "      --disabled-bg-color: #3B4455;\n",
              "      --disabled-fill-color: #666;\n",
              "  }\n",
              "\n",
              "  .colab-df-quickchart {\n",
              "    background-color: var(--bg-color);\n",
              "    border: none;\n",
              "    border-radius: 50%;\n",
              "    cursor: pointer;\n",
              "    display: none;\n",
              "    fill: var(--fill-color);\n",
              "    height: 32px;\n",
              "    padding: 0;\n",
              "    width: 32px;\n",
              "  }\n",
              "\n",
              "  .colab-df-quickchart:hover {\n",
              "    background-color: var(--hover-bg-color);\n",
              "    box-shadow: 0 1px 2px rgba(60, 64, 67, 0.3), 0 1px 3px 1px rgba(60, 64, 67, 0.15);\n",
              "    fill: var(--button-hover-fill-color);\n",
              "  }\n",
              "\n",
              "  .colab-df-quickchart-complete:disabled,\n",
              "  .colab-df-quickchart-complete:disabled:hover {\n",
              "    background-color: var(--disabled-bg-color);\n",
              "    fill: var(--disabled-fill-color);\n",
              "    box-shadow: none;\n",
              "  }\n",
              "\n",
              "  .colab-df-spinner {\n",
              "    border: 2px solid var(--fill-color);\n",
              "    border-color: transparent;\n",
              "    border-bottom-color: var(--fill-color);\n",
              "    animation:\n",
              "      spin 1s steps(1) infinite;\n",
              "  }\n",
              "\n",
              "  @keyframes spin {\n",
              "    0% {\n",
              "      border-color: transparent;\n",
              "      border-bottom-color: var(--fill-color);\n",
              "      border-left-color: var(--fill-color);\n",
              "    }\n",
              "    20% {\n",
              "      border-color: transparent;\n",
              "      border-left-color: var(--fill-color);\n",
              "      border-top-color: var(--fill-color);\n",
              "    }\n",
              "    30% {\n",
              "      border-color: transparent;\n",
              "      border-left-color: var(--fill-color);\n",
              "      border-top-color: var(--fill-color);\n",
              "      border-right-color: var(--fill-color);\n",
              "    }\n",
              "    40% {\n",
              "      border-color: transparent;\n",
              "      border-right-color: var(--fill-color);\n",
              "      border-top-color: var(--fill-color);\n",
              "    }\n",
              "    60% {\n",
              "      border-color: transparent;\n",
              "      border-right-color: var(--fill-color);\n",
              "    }\n",
              "    80% {\n",
              "      border-color: transparent;\n",
              "      border-right-color: var(--fill-color);\n",
              "      border-bottom-color: var(--fill-color);\n",
              "    }\n",
              "    90% {\n",
              "      border-color: transparent;\n",
              "      border-bottom-color: var(--fill-color);\n",
              "    }\n",
              "  }\n",
              "</style>\n",
              "\n",
              "  <script>\n",
              "    async function quickchart(key) {\n",
              "      const quickchartButtonEl =\n",
              "        document.querySelector('#' + key + ' button');\n",
              "      quickchartButtonEl.disabled = true;  // To prevent multiple clicks.\n",
              "      quickchartButtonEl.classList.add('colab-df-spinner');\n",
              "      try {\n",
              "        const charts = await google.colab.kernel.invokeFunction(\n",
              "            'suggestCharts', [key], {});\n",
              "      } catch (error) {\n",
              "        console.error('Error during call to suggestCharts:', error);\n",
              "      }\n",
              "      quickchartButtonEl.classList.remove('colab-df-spinner');\n",
              "      quickchartButtonEl.classList.add('colab-df-quickchart-complete');\n",
              "    }\n",
              "    (() => {\n",
              "      let quickchartButtonEl =\n",
              "        document.querySelector('#df-c3c81a15-6a6d-41c5-b558-2cd7a82b184b button');\n",
              "      quickchartButtonEl.style.display =\n",
              "        google.colab.kernel.accessAllowed ? 'block' : 'none';\n",
              "    })();\n",
              "  </script>\n",
              "</div>\n",
              "    </div>\n",
              "  </div>\n"
            ]
          },
          "metadata": {},
          "execution_count": 20
        }
      ],
      "source": [
        "X_combined_df"
      ]
    },
    {
      "cell_type": "code",
      "source": [
        "# Extract the first 1115 rows, training samples\n",
        "df_train = pd.DataFrame(X_combined_df[:1115])"
      ],
      "metadata": {
        "id": "OTNLto6mfq8v"
      },
      "execution_count": 21,
      "outputs": []
    },
    {
      "cell_type": "code",
      "source": [
        "df_train"
      ],
      "metadata": {
        "colab": {
          "base_uri": "https://localhost:8080/",
          "height": 424
        },
        "id": "OY8GlvOFgBPy",
        "outputId": "ad852254-e341-4afd-948c-0e01b19654b9"
      },
      "execution_count": 22,
      "outputs": [
        {
          "output_type": "execute_result",
          "data": {
            "text/plain": [
              "        0       1     2     3       4       5       6       7       8     \\\n",
              "0     28.406  22.081     0     0  45.633  2.4611  4.9222  45.633  1.2333   \n",
              "1     30.579  22.122     0     3  51.506  2.4802  4.9235  51.506  1.3207   \n",
              "2     29.165  21.984     0     3  48.652  2.4805  4.9240  48.652  1.3149   \n",
              "3     23.201  17.981     0     1  39.309  2.4240  4.8126  39.309  1.3555   \n",
              "4     27.203  21.749     0     1  45.762  2.4490  4.8979  45.762  1.2712   \n",
              "...      ...     ...   ...   ...     ...     ...     ...     ...     ...   \n",
              "1110  28.864  22.504     0     2  46.279  2.4765  4.9192  46.279  1.2508   \n",
              "1111  25.841  19.608     0     5  42.933  2.3821  4.7643  42.933  1.2627   \n",
              "1112  30.515  24.155     0     1  48.696  2.4589  4.9128  48.696  1.2486   \n",
              "1113  20.822  16.168     0     4  34.307  2.4124  4.7748  34.307  1.2706   \n",
              "1114  29.063  22.945     0     2  47.182  2.4487  4.8974  47.182  1.2416   \n",
              "\n",
              "        9     ...  3463  3464  3465  3466  3467  3468  3469  3470  3471  3472  \n",
              "0     4.5185  ...     0     0     0     1     0     0     0     0     1     1  \n",
              "1     4.5949  ...     0     1     0     1     0     0     0     0     1     1  \n",
              "2     4.5486  ...     0     1     0     1     0     0     0     0     1     1  \n",
              "3     4.3224  ...     1     0     0     1     0     0     0     0     1     1  \n",
              "4     4.4889  ...     1     1     0     1     0     0     0     0     1     1  \n",
              "...      ...  ...   ...   ...   ...   ...   ...   ...   ...   ...   ...   ...  \n",
              "1110  4.5361  ...     0     1     0     1     0     0     0     0     1     1  \n",
              "1111  4.4279  ...     1     0     1     0     0     0     1     0     1     1  \n",
              "1112  4.5882  ...     1     0     0     1     0     0     0     0     1     1  \n",
              "1113  4.2112  ...     1     0     0     0     0     0     0     0     1     1  \n",
              "1114  4.5433  ...     1     0     0     0     0     0     0     0     1     1  \n",
              "\n",
              "[1115 rows x 3276 columns]"
            ],
            "text/html": [
              "\n",
              "  <div id=\"df-eaba6c10-8bf8-4991-b846-fcb31b0272e7\" class=\"colab-df-container\">\n",
              "    <div>\n",
              "<style scoped>\n",
              "    .dataframe tbody tr th:only-of-type {\n",
              "        vertical-align: middle;\n",
              "    }\n",
              "\n",
              "    .dataframe tbody tr th {\n",
              "        vertical-align: top;\n",
              "    }\n",
              "\n",
              "    .dataframe thead th {\n",
              "        text-align: right;\n",
              "    }\n",
              "</style>\n",
              "<table border=\"1\" class=\"dataframe\">\n",
              "  <thead>\n",
              "    <tr style=\"text-align: right;\">\n",
              "      <th></th>\n",
              "      <th>0</th>\n",
              "      <th>1</th>\n",
              "      <th>2</th>\n",
              "      <th>3</th>\n",
              "      <th>4</th>\n",
              "      <th>5</th>\n",
              "      <th>6</th>\n",
              "      <th>7</th>\n",
              "      <th>8</th>\n",
              "      <th>9</th>\n",
              "      <th>...</th>\n",
              "      <th>3463</th>\n",
              "      <th>3464</th>\n",
              "      <th>3465</th>\n",
              "      <th>3466</th>\n",
              "      <th>3467</th>\n",
              "      <th>3468</th>\n",
              "      <th>3469</th>\n",
              "      <th>3470</th>\n",
              "      <th>3471</th>\n",
              "      <th>3472</th>\n",
              "    </tr>\n",
              "  </thead>\n",
              "  <tbody>\n",
              "    <tr>\n",
              "      <th>0</th>\n",
              "      <td>28.406</td>\n",
              "      <td>22.081</td>\n",
              "      <td>0</td>\n",
              "      <td>0</td>\n",
              "      <td>45.633</td>\n",
              "      <td>2.4611</td>\n",
              "      <td>4.9222</td>\n",
              "      <td>45.633</td>\n",
              "      <td>1.2333</td>\n",
              "      <td>4.5185</td>\n",
              "      <td>...</td>\n",
              "      <td>0</td>\n",
              "      <td>0</td>\n",
              "      <td>0</td>\n",
              "      <td>1</td>\n",
              "      <td>0</td>\n",
              "      <td>0</td>\n",
              "      <td>0</td>\n",
              "      <td>0</td>\n",
              "      <td>1</td>\n",
              "      <td>1</td>\n",
              "    </tr>\n",
              "    <tr>\n",
              "      <th>1</th>\n",
              "      <td>30.579</td>\n",
              "      <td>22.122</td>\n",
              "      <td>0</td>\n",
              "      <td>3</td>\n",
              "      <td>51.506</td>\n",
              "      <td>2.4802</td>\n",
              "      <td>4.9235</td>\n",
              "      <td>51.506</td>\n",
              "      <td>1.3207</td>\n",
              "      <td>4.5949</td>\n",
              "      <td>...</td>\n",
              "      <td>0</td>\n",
              "      <td>1</td>\n",
              "      <td>0</td>\n",
              "      <td>1</td>\n",
              "      <td>0</td>\n",
              "      <td>0</td>\n",
              "      <td>0</td>\n",
              "      <td>0</td>\n",
              "      <td>1</td>\n",
              "      <td>1</td>\n",
              "    </tr>\n",
              "    <tr>\n",
              "      <th>2</th>\n",
              "      <td>29.165</td>\n",
              "      <td>21.984</td>\n",
              "      <td>0</td>\n",
              "      <td>3</td>\n",
              "      <td>48.652</td>\n",
              "      <td>2.4805</td>\n",
              "      <td>4.9240</td>\n",
              "      <td>48.652</td>\n",
              "      <td>1.3149</td>\n",
              "      <td>4.5486</td>\n",
              "      <td>...</td>\n",
              "      <td>0</td>\n",
              "      <td>1</td>\n",
              "      <td>0</td>\n",
              "      <td>1</td>\n",
              "      <td>0</td>\n",
              "      <td>0</td>\n",
              "      <td>0</td>\n",
              "      <td>0</td>\n",
              "      <td>1</td>\n",
              "      <td>1</td>\n",
              "    </tr>\n",
              "    <tr>\n",
              "      <th>3</th>\n",
              "      <td>23.201</td>\n",
              "      <td>17.981</td>\n",
              "      <td>0</td>\n",
              "      <td>1</td>\n",
              "      <td>39.309</td>\n",
              "      <td>2.4240</td>\n",
              "      <td>4.8126</td>\n",
              "      <td>39.309</td>\n",
              "      <td>1.3555</td>\n",
              "      <td>4.3224</td>\n",
              "      <td>...</td>\n",
              "      <td>1</td>\n",
              "      <td>0</td>\n",
              "      <td>0</td>\n",
              "      <td>1</td>\n",
              "      <td>0</td>\n",
              "      <td>0</td>\n",
              "      <td>0</td>\n",
              "      <td>0</td>\n",
              "      <td>1</td>\n",
              "      <td>1</td>\n",
              "    </tr>\n",
              "    <tr>\n",
              "      <th>4</th>\n",
              "      <td>27.203</td>\n",
              "      <td>21.749</td>\n",
              "      <td>0</td>\n",
              "      <td>1</td>\n",
              "      <td>45.762</td>\n",
              "      <td>2.4490</td>\n",
              "      <td>4.8979</td>\n",
              "      <td>45.762</td>\n",
              "      <td>1.2712</td>\n",
              "      <td>4.4889</td>\n",
              "      <td>...</td>\n",
              "      <td>1</td>\n",
              "      <td>1</td>\n",
              "      <td>0</td>\n",
              "      <td>1</td>\n",
              "      <td>0</td>\n",
              "      <td>0</td>\n",
              "      <td>0</td>\n",
              "      <td>0</td>\n",
              "      <td>1</td>\n",
              "      <td>1</td>\n",
              "    </tr>\n",
              "    <tr>\n",
              "      <th>...</th>\n",
              "      <td>...</td>\n",
              "      <td>...</td>\n",
              "      <td>...</td>\n",
              "      <td>...</td>\n",
              "      <td>...</td>\n",
              "      <td>...</td>\n",
              "      <td>...</td>\n",
              "      <td>...</td>\n",
              "      <td>...</td>\n",
              "      <td>...</td>\n",
              "      <td>...</td>\n",
              "      <td>...</td>\n",
              "      <td>...</td>\n",
              "      <td>...</td>\n",
              "      <td>...</td>\n",
              "      <td>...</td>\n",
              "      <td>...</td>\n",
              "      <td>...</td>\n",
              "      <td>...</td>\n",
              "      <td>...</td>\n",
              "      <td>...</td>\n",
              "    </tr>\n",
              "    <tr>\n",
              "      <th>1110</th>\n",
              "      <td>28.864</td>\n",
              "      <td>22.504</td>\n",
              "      <td>0</td>\n",
              "      <td>2</td>\n",
              "      <td>46.279</td>\n",
              "      <td>2.4765</td>\n",
              "      <td>4.9192</td>\n",
              "      <td>46.279</td>\n",
              "      <td>1.2508</td>\n",
              "      <td>4.5361</td>\n",
              "      <td>...</td>\n",
              "      <td>0</td>\n",
              "      <td>1</td>\n",
              "      <td>0</td>\n",
              "      <td>1</td>\n",
              "      <td>0</td>\n",
              "      <td>0</td>\n",
              "      <td>0</td>\n",
              "      <td>0</td>\n",
              "      <td>1</td>\n",
              "      <td>1</td>\n",
              "    </tr>\n",
              "    <tr>\n",
              "      <th>1111</th>\n",
              "      <td>25.841</td>\n",
              "      <td>19.608</td>\n",
              "      <td>0</td>\n",
              "      <td>5</td>\n",
              "      <td>42.933</td>\n",
              "      <td>2.3821</td>\n",
              "      <td>4.7643</td>\n",
              "      <td>42.933</td>\n",
              "      <td>1.2627</td>\n",
              "      <td>4.4279</td>\n",
              "      <td>...</td>\n",
              "      <td>1</td>\n",
              "      <td>0</td>\n",
              "      <td>1</td>\n",
              "      <td>0</td>\n",
              "      <td>0</td>\n",
              "      <td>0</td>\n",
              "      <td>1</td>\n",
              "      <td>0</td>\n",
              "      <td>1</td>\n",
              "      <td>1</td>\n",
              "    </tr>\n",
              "    <tr>\n",
              "      <th>1112</th>\n",
              "      <td>30.515</td>\n",
              "      <td>24.155</td>\n",
              "      <td>0</td>\n",
              "      <td>1</td>\n",
              "      <td>48.696</td>\n",
              "      <td>2.4589</td>\n",
              "      <td>4.9128</td>\n",
              "      <td>48.696</td>\n",
              "      <td>1.2486</td>\n",
              "      <td>4.5882</td>\n",
              "      <td>...</td>\n",
              "      <td>1</td>\n",
              "      <td>0</td>\n",
              "      <td>0</td>\n",
              "      <td>1</td>\n",
              "      <td>0</td>\n",
              "      <td>0</td>\n",
              "      <td>0</td>\n",
              "      <td>0</td>\n",
              "      <td>1</td>\n",
              "      <td>1</td>\n",
              "    </tr>\n",
              "    <tr>\n",
              "      <th>1113</th>\n",
              "      <td>20.822</td>\n",
              "      <td>16.168</td>\n",
              "      <td>0</td>\n",
              "      <td>4</td>\n",
              "      <td>34.307</td>\n",
              "      <td>2.4124</td>\n",
              "      <td>4.7748</td>\n",
              "      <td>34.307</td>\n",
              "      <td>1.2706</td>\n",
              "      <td>4.2112</td>\n",
              "      <td>...</td>\n",
              "      <td>1</td>\n",
              "      <td>0</td>\n",
              "      <td>0</td>\n",
              "      <td>0</td>\n",
              "      <td>0</td>\n",
              "      <td>0</td>\n",
              "      <td>0</td>\n",
              "      <td>0</td>\n",
              "      <td>1</td>\n",
              "      <td>1</td>\n",
              "    </tr>\n",
              "    <tr>\n",
              "      <th>1114</th>\n",
              "      <td>29.063</td>\n",
              "      <td>22.945</td>\n",
              "      <td>0</td>\n",
              "      <td>2</td>\n",
              "      <td>47.182</td>\n",
              "      <td>2.4487</td>\n",
              "      <td>4.8974</td>\n",
              "      <td>47.182</td>\n",
              "      <td>1.2416</td>\n",
              "      <td>4.5433</td>\n",
              "      <td>...</td>\n",
              "      <td>1</td>\n",
              "      <td>0</td>\n",
              "      <td>0</td>\n",
              "      <td>0</td>\n",
              "      <td>0</td>\n",
              "      <td>0</td>\n",
              "      <td>0</td>\n",
              "      <td>0</td>\n",
              "      <td>1</td>\n",
              "      <td>1</td>\n",
              "    </tr>\n",
              "  </tbody>\n",
              "</table>\n",
              "<p>1115 rows × 3276 columns</p>\n",
              "</div>\n",
              "    <div class=\"colab-df-buttons\">\n",
              "\n",
              "  <div class=\"colab-df-container\">\n",
              "    <button class=\"colab-df-convert\" onclick=\"convertToInteractive('df-eaba6c10-8bf8-4991-b846-fcb31b0272e7')\"\n",
              "            title=\"Convert this dataframe to an interactive table.\"\n",
              "            style=\"display:none;\">\n",
              "\n",
              "  <svg xmlns=\"http://www.w3.org/2000/svg\" height=\"24px\" viewBox=\"0 -960 960 960\">\n",
              "    <path d=\"M120-120v-720h720v720H120Zm60-500h600v-160H180v160Zm220 220h160v-160H400v160Zm0 220h160v-160H400v160ZM180-400h160v-160H180v160Zm440 0h160v-160H620v160ZM180-180h160v-160H180v160Zm440 0h160v-160H620v160Z\"/>\n",
              "  </svg>\n",
              "    </button>\n",
              "\n",
              "  <style>\n",
              "    .colab-df-container {\n",
              "      display:flex;\n",
              "      gap: 12px;\n",
              "    }\n",
              "\n",
              "    .colab-df-convert {\n",
              "      background-color: #E8F0FE;\n",
              "      border: none;\n",
              "      border-radius: 50%;\n",
              "      cursor: pointer;\n",
              "      display: none;\n",
              "      fill: #1967D2;\n",
              "      height: 32px;\n",
              "      padding: 0 0 0 0;\n",
              "      width: 32px;\n",
              "    }\n",
              "\n",
              "    .colab-df-convert:hover {\n",
              "      background-color: #E2EBFA;\n",
              "      box-shadow: 0px 1px 2px rgba(60, 64, 67, 0.3), 0px 1px 3px 1px rgba(60, 64, 67, 0.15);\n",
              "      fill: #174EA6;\n",
              "    }\n",
              "\n",
              "    .colab-df-buttons div {\n",
              "      margin-bottom: 4px;\n",
              "    }\n",
              "\n",
              "    [theme=dark] .colab-df-convert {\n",
              "      background-color: #3B4455;\n",
              "      fill: #D2E3FC;\n",
              "    }\n",
              "\n",
              "    [theme=dark] .colab-df-convert:hover {\n",
              "      background-color: #434B5C;\n",
              "      box-shadow: 0px 1px 3px 1px rgba(0, 0, 0, 0.15);\n",
              "      filter: drop-shadow(0px 1px 2px rgba(0, 0, 0, 0.3));\n",
              "      fill: #FFFFFF;\n",
              "    }\n",
              "  </style>\n",
              "\n",
              "    <script>\n",
              "      const buttonEl =\n",
              "        document.querySelector('#df-eaba6c10-8bf8-4991-b846-fcb31b0272e7 button.colab-df-convert');\n",
              "      buttonEl.style.display =\n",
              "        google.colab.kernel.accessAllowed ? 'block' : 'none';\n",
              "\n",
              "      async function convertToInteractive(key) {\n",
              "        const element = document.querySelector('#df-eaba6c10-8bf8-4991-b846-fcb31b0272e7');\n",
              "        const dataTable =\n",
              "          await google.colab.kernel.invokeFunction('convertToInteractive',\n",
              "                                                    [key], {});\n",
              "        if (!dataTable) return;\n",
              "\n",
              "        const docLinkHtml = 'Like what you see? Visit the ' +\n",
              "          '<a target=\"_blank\" href=https://colab.research.google.com/notebooks/data_table.ipynb>data table notebook</a>'\n",
              "          + ' to learn more about interactive tables.';\n",
              "        element.innerHTML = '';\n",
              "        dataTable['output_type'] = 'display_data';\n",
              "        await google.colab.output.renderOutput(dataTable, element);\n",
              "        const docLink = document.createElement('div');\n",
              "        docLink.innerHTML = docLinkHtml;\n",
              "        element.appendChild(docLink);\n",
              "      }\n",
              "    </script>\n",
              "  </div>\n",
              "\n",
              "\n",
              "<div id=\"df-8dc8ffe8-7c56-4887-87e1-0c65cb462ba7\">\n",
              "  <button class=\"colab-df-quickchart\" onclick=\"quickchart('df-8dc8ffe8-7c56-4887-87e1-0c65cb462ba7')\"\n",
              "            title=\"Suggest charts\"\n",
              "            style=\"display:none;\">\n",
              "\n",
              "<svg xmlns=\"http://www.w3.org/2000/svg\" height=\"24px\"viewBox=\"0 0 24 24\"\n",
              "     width=\"24px\">\n",
              "    <g>\n",
              "        <path d=\"M19 3H5c-1.1 0-2 .9-2 2v14c0 1.1.9 2 2 2h14c1.1 0 2-.9 2-2V5c0-1.1-.9-2-2-2zM9 17H7v-7h2v7zm4 0h-2V7h2v10zm4 0h-2v-4h2v4z\"/>\n",
              "    </g>\n",
              "</svg>\n",
              "  </button>\n",
              "\n",
              "<style>\n",
              "  .colab-df-quickchart {\n",
              "      --bg-color: #E8F0FE;\n",
              "      --fill-color: #1967D2;\n",
              "      --hover-bg-color: #E2EBFA;\n",
              "      --hover-fill-color: #174EA6;\n",
              "      --disabled-fill-color: #AAA;\n",
              "      --disabled-bg-color: #DDD;\n",
              "  }\n",
              "\n",
              "  [theme=dark] .colab-df-quickchart {\n",
              "      --bg-color: #3B4455;\n",
              "      --fill-color: #D2E3FC;\n",
              "      --hover-bg-color: #434B5C;\n",
              "      --hover-fill-color: #FFFFFF;\n",
              "      --disabled-bg-color: #3B4455;\n",
              "      --disabled-fill-color: #666;\n",
              "  }\n",
              "\n",
              "  .colab-df-quickchart {\n",
              "    background-color: var(--bg-color);\n",
              "    border: none;\n",
              "    border-radius: 50%;\n",
              "    cursor: pointer;\n",
              "    display: none;\n",
              "    fill: var(--fill-color);\n",
              "    height: 32px;\n",
              "    padding: 0;\n",
              "    width: 32px;\n",
              "  }\n",
              "\n",
              "  .colab-df-quickchart:hover {\n",
              "    background-color: var(--hover-bg-color);\n",
              "    box-shadow: 0 1px 2px rgba(60, 64, 67, 0.3), 0 1px 3px 1px rgba(60, 64, 67, 0.15);\n",
              "    fill: var(--button-hover-fill-color);\n",
              "  }\n",
              "\n",
              "  .colab-df-quickchart-complete:disabled,\n",
              "  .colab-df-quickchart-complete:disabled:hover {\n",
              "    background-color: var(--disabled-bg-color);\n",
              "    fill: var(--disabled-fill-color);\n",
              "    box-shadow: none;\n",
              "  }\n",
              "\n",
              "  .colab-df-spinner {\n",
              "    border: 2px solid var(--fill-color);\n",
              "    border-color: transparent;\n",
              "    border-bottom-color: var(--fill-color);\n",
              "    animation:\n",
              "      spin 1s steps(1) infinite;\n",
              "  }\n",
              "\n",
              "  @keyframes spin {\n",
              "    0% {\n",
              "      border-color: transparent;\n",
              "      border-bottom-color: var(--fill-color);\n",
              "      border-left-color: var(--fill-color);\n",
              "    }\n",
              "    20% {\n",
              "      border-color: transparent;\n",
              "      border-left-color: var(--fill-color);\n",
              "      border-top-color: var(--fill-color);\n",
              "    }\n",
              "    30% {\n",
              "      border-color: transparent;\n",
              "      border-left-color: var(--fill-color);\n",
              "      border-top-color: var(--fill-color);\n",
              "      border-right-color: var(--fill-color);\n",
              "    }\n",
              "    40% {\n",
              "      border-color: transparent;\n",
              "      border-right-color: var(--fill-color);\n",
              "      border-top-color: var(--fill-color);\n",
              "    }\n",
              "    60% {\n",
              "      border-color: transparent;\n",
              "      border-right-color: var(--fill-color);\n",
              "    }\n",
              "    80% {\n",
              "      border-color: transparent;\n",
              "      border-right-color: var(--fill-color);\n",
              "      border-bottom-color: var(--fill-color);\n",
              "    }\n",
              "    90% {\n",
              "      border-color: transparent;\n",
              "      border-bottom-color: var(--fill-color);\n",
              "    }\n",
              "  }\n",
              "</style>\n",
              "\n",
              "  <script>\n",
              "    async function quickchart(key) {\n",
              "      const quickchartButtonEl =\n",
              "        document.querySelector('#' + key + ' button');\n",
              "      quickchartButtonEl.disabled = true;  // To prevent multiple clicks.\n",
              "      quickchartButtonEl.classList.add('colab-df-spinner');\n",
              "      try {\n",
              "        const charts = await google.colab.kernel.invokeFunction(\n",
              "            'suggestCharts', [key], {});\n",
              "      } catch (error) {\n",
              "        console.error('Error during call to suggestCharts:', error);\n",
              "      }\n",
              "      quickchartButtonEl.classList.remove('colab-df-spinner');\n",
              "      quickchartButtonEl.classList.add('colab-df-quickchart-complete');\n",
              "    }\n",
              "    (() => {\n",
              "      let quickchartButtonEl =\n",
              "        document.querySelector('#df-8dc8ffe8-7c56-4887-87e1-0c65cb462ba7 button');\n",
              "      quickchartButtonEl.style.display =\n",
              "        google.colab.kernel.accessAllowed ? 'block' : 'none';\n",
              "    })();\n",
              "  </script>\n",
              "</div>\n",
              "    </div>\n",
              "  </div>\n"
            ]
          },
          "metadata": {},
          "execution_count": 22
        }
      ]
    },
    {
      "cell_type": "code",
      "source": [
        "# Extract the last rows, test samples\n",
        "df_test = pd.DataFrame(X_combined_df[1115:])"
      ],
      "metadata": {
        "id": "XsL0glnTgMst"
      },
      "execution_count": 23,
      "outputs": []
    },
    {
      "cell_type": "code",
      "source": [
        "df_test"
      ],
      "metadata": {
        "colab": {
          "base_uri": "https://localhost:8080/",
          "height": 424
        },
        "outputId": "8c46c043-088d-4d70-e0d5-35d3e70e4101",
        "id": "pV6-16mPgMsu"
      },
      "execution_count": 24,
      "outputs": [
        {
          "output_type": "execute_result",
          "data": {
            "text/plain": [
              "        0       1     2     3       4       5       6       7       8     \\\n",
              "1115  18.511  15.781     0     0  30.800  2.4239  4.8121  30.800  1.2833   \n",
              "1116  25.549  19.304     0     1  40.823  2.4435  4.8871  40.823  1.2371   \n",
              "1117  32.262  24.264     0     1  53.878  2.4624  4.9247  53.878  1.2828   \n",
              "1118  24.737  17.792     0     1  42.542  2.4166  4.8333  42.542  1.3294   \n",
              "1119  29.117  20.935     0     1  49.035  2.4006  4.7724  49.035  1.3253   \n",
              "...      ...     ...   ...   ...     ...     ...     ...     ...     ...   \n",
              "1234  26.686  20.687     0     1  44.017  2.4347  4.8693  44.017  1.2576   \n",
              "1235  29.784  21.338     0     1  50.777  2.4038  4.8077  50.777  1.3362   \n",
              "1236  29.095  22.515     0     1  47.139  2.4354  4.8708  47.139  1.2405   \n",
              "1237  29.784  21.338     0     1  50.777  2.4038  4.8077  50.777  1.3362   \n",
              "1238  28.003  20.095     0     4  46.018  2.3681  4.7362  46.018  1.2783   \n",
              "\n",
              "        9     ...  3463  3464  3465  3466  3467  3468  3469  3470  3471  3472  \n",
              "1115  4.1047  ...     1     1     1     0     0     0     0     0     0     1  \n",
              "1116  4.4082  ...     0     0     0     1     0     0     0     0     0     1  \n",
              "1117  4.6483  ...     1     0     0     0     0     0     0     0     1     1  \n",
              "1118  4.3886  ...     0     0     0     1     0     0     0     0     0     1  \n",
              "1119  4.5426  ...     1     0     0     1     0     0     0     0     0     1  \n",
              "...      ...  ...   ...   ...   ...   ...   ...   ...   ...   ...   ...   ...  \n",
              "1234  4.4599  ...     0     1     0     1     0     0     0     0     1     1  \n",
              "1235  4.5681  ...     1     0     0     0     0     0     0     0     1     1  \n",
              "1236  4.5406  ...     0     0     0     1     0     0     0     0     1     1  \n",
              "1237  4.5681  ...     1     0     0     1     0     0     0     0     1     1  \n",
              "1238  4.5001  ...     0     1     0     0     0     0     0     1     1     1  \n",
              "\n",
              "[124 rows x 3276 columns]"
            ],
            "text/html": [
              "\n",
              "  <div id=\"df-08a6e973-0b35-4ba5-8db1-8127dd44c701\" class=\"colab-df-container\">\n",
              "    <div>\n",
              "<style scoped>\n",
              "    .dataframe tbody tr th:only-of-type {\n",
              "        vertical-align: middle;\n",
              "    }\n",
              "\n",
              "    .dataframe tbody tr th {\n",
              "        vertical-align: top;\n",
              "    }\n",
              "\n",
              "    .dataframe thead th {\n",
              "        text-align: right;\n",
              "    }\n",
              "</style>\n",
              "<table border=\"1\" class=\"dataframe\">\n",
              "  <thead>\n",
              "    <tr style=\"text-align: right;\">\n",
              "      <th></th>\n",
              "      <th>0</th>\n",
              "      <th>1</th>\n",
              "      <th>2</th>\n",
              "      <th>3</th>\n",
              "      <th>4</th>\n",
              "      <th>5</th>\n",
              "      <th>6</th>\n",
              "      <th>7</th>\n",
              "      <th>8</th>\n",
              "      <th>9</th>\n",
              "      <th>...</th>\n",
              "      <th>3463</th>\n",
              "      <th>3464</th>\n",
              "      <th>3465</th>\n",
              "      <th>3466</th>\n",
              "      <th>3467</th>\n",
              "      <th>3468</th>\n",
              "      <th>3469</th>\n",
              "      <th>3470</th>\n",
              "      <th>3471</th>\n",
              "      <th>3472</th>\n",
              "    </tr>\n",
              "  </thead>\n",
              "  <tbody>\n",
              "    <tr>\n",
              "      <th>1115</th>\n",
              "      <td>18.511</td>\n",
              "      <td>15.781</td>\n",
              "      <td>0</td>\n",
              "      <td>0</td>\n",
              "      <td>30.800</td>\n",
              "      <td>2.4239</td>\n",
              "      <td>4.8121</td>\n",
              "      <td>30.800</td>\n",
              "      <td>1.2833</td>\n",
              "      <td>4.1047</td>\n",
              "      <td>...</td>\n",
              "      <td>1</td>\n",
              "      <td>1</td>\n",
              "      <td>1</td>\n",
              "      <td>0</td>\n",
              "      <td>0</td>\n",
              "      <td>0</td>\n",
              "      <td>0</td>\n",
              "      <td>0</td>\n",
              "      <td>0</td>\n",
              "      <td>1</td>\n",
              "    </tr>\n",
              "    <tr>\n",
              "      <th>1116</th>\n",
              "      <td>25.549</td>\n",
              "      <td>19.304</td>\n",
              "      <td>0</td>\n",
              "      <td>1</td>\n",
              "      <td>40.823</td>\n",
              "      <td>2.4435</td>\n",
              "      <td>4.8871</td>\n",
              "      <td>40.823</td>\n",
              "      <td>1.2371</td>\n",
              "      <td>4.4082</td>\n",
              "      <td>...</td>\n",
              "      <td>0</td>\n",
              "      <td>0</td>\n",
              "      <td>0</td>\n",
              "      <td>1</td>\n",
              "      <td>0</td>\n",
              "      <td>0</td>\n",
              "      <td>0</td>\n",
              "      <td>0</td>\n",
              "      <td>0</td>\n",
              "      <td>1</td>\n",
              "    </tr>\n",
              "    <tr>\n",
              "      <th>1117</th>\n",
              "      <td>32.262</td>\n",
              "      <td>24.264</td>\n",
              "      <td>0</td>\n",
              "      <td>1</td>\n",
              "      <td>53.878</td>\n",
              "      <td>2.4624</td>\n",
              "      <td>4.9247</td>\n",
              "      <td>53.878</td>\n",
              "      <td>1.2828</td>\n",
              "      <td>4.6483</td>\n",
              "      <td>...</td>\n",
              "      <td>1</td>\n",
              "      <td>0</td>\n",
              "      <td>0</td>\n",
              "      <td>0</td>\n",
              "      <td>0</td>\n",
              "      <td>0</td>\n",
              "      <td>0</td>\n",
              "      <td>0</td>\n",
              "      <td>1</td>\n",
              "      <td>1</td>\n",
              "    </tr>\n",
              "    <tr>\n",
              "      <th>1118</th>\n",
              "      <td>24.737</td>\n",
              "      <td>17.792</td>\n",
              "      <td>0</td>\n",
              "      <td>1</td>\n",
              "      <td>42.542</td>\n",
              "      <td>2.4166</td>\n",
              "      <td>4.8333</td>\n",
              "      <td>42.542</td>\n",
              "      <td>1.3294</td>\n",
              "      <td>4.3886</td>\n",
              "      <td>...</td>\n",
              "      <td>0</td>\n",
              "      <td>0</td>\n",
              "      <td>0</td>\n",
              "      <td>1</td>\n",
              "      <td>0</td>\n",
              "      <td>0</td>\n",
              "      <td>0</td>\n",
              "      <td>0</td>\n",
              "      <td>0</td>\n",
              "      <td>1</td>\n",
              "    </tr>\n",
              "    <tr>\n",
              "      <th>1119</th>\n",
              "      <td>29.117</td>\n",
              "      <td>20.935</td>\n",
              "      <td>0</td>\n",
              "      <td>1</td>\n",
              "      <td>49.035</td>\n",
              "      <td>2.4006</td>\n",
              "      <td>4.7724</td>\n",
              "      <td>49.035</td>\n",
              "      <td>1.3253</td>\n",
              "      <td>4.5426</td>\n",
              "      <td>...</td>\n",
              "      <td>1</td>\n",
              "      <td>0</td>\n",
              "      <td>0</td>\n",
              "      <td>1</td>\n",
              "      <td>0</td>\n",
              "      <td>0</td>\n",
              "      <td>0</td>\n",
              "      <td>0</td>\n",
              "      <td>0</td>\n",
              "      <td>1</td>\n",
              "    </tr>\n",
              "    <tr>\n",
              "      <th>...</th>\n",
              "      <td>...</td>\n",
              "      <td>...</td>\n",
              "      <td>...</td>\n",
              "      <td>...</td>\n",
              "      <td>...</td>\n",
              "      <td>...</td>\n",
              "      <td>...</td>\n",
              "      <td>...</td>\n",
              "      <td>...</td>\n",
              "      <td>...</td>\n",
              "      <td>...</td>\n",
              "      <td>...</td>\n",
              "      <td>...</td>\n",
              "      <td>...</td>\n",
              "      <td>...</td>\n",
              "      <td>...</td>\n",
              "      <td>...</td>\n",
              "      <td>...</td>\n",
              "      <td>...</td>\n",
              "      <td>...</td>\n",
              "      <td>...</td>\n",
              "    </tr>\n",
              "    <tr>\n",
              "      <th>1234</th>\n",
              "      <td>26.686</td>\n",
              "      <td>20.687</td>\n",
              "      <td>0</td>\n",
              "      <td>1</td>\n",
              "      <td>44.017</td>\n",
              "      <td>2.4347</td>\n",
              "      <td>4.8693</td>\n",
              "      <td>44.017</td>\n",
              "      <td>1.2576</td>\n",
              "      <td>4.4599</td>\n",
              "      <td>...</td>\n",
              "      <td>0</td>\n",
              "      <td>1</td>\n",
              "      <td>0</td>\n",
              "      <td>1</td>\n",
              "      <td>0</td>\n",
              "      <td>0</td>\n",
              "      <td>0</td>\n",
              "      <td>0</td>\n",
              "      <td>1</td>\n",
              "      <td>1</td>\n",
              "    </tr>\n",
              "    <tr>\n",
              "      <th>1235</th>\n",
              "      <td>29.784</td>\n",
              "      <td>21.338</td>\n",
              "      <td>0</td>\n",
              "      <td>1</td>\n",
              "      <td>50.777</td>\n",
              "      <td>2.4038</td>\n",
              "      <td>4.8077</td>\n",
              "      <td>50.777</td>\n",
              "      <td>1.3362</td>\n",
              "      <td>4.5681</td>\n",
              "      <td>...</td>\n",
              "      <td>1</td>\n",
              "      <td>0</td>\n",
              "      <td>0</td>\n",
              "      <td>0</td>\n",
              "      <td>0</td>\n",
              "      <td>0</td>\n",
              "      <td>0</td>\n",
              "      <td>0</td>\n",
              "      <td>1</td>\n",
              "      <td>1</td>\n",
              "    </tr>\n",
              "    <tr>\n",
              "      <th>1236</th>\n",
              "      <td>29.095</td>\n",
              "      <td>22.515</td>\n",
              "      <td>0</td>\n",
              "      <td>1</td>\n",
              "      <td>47.139</td>\n",
              "      <td>2.4354</td>\n",
              "      <td>4.8708</td>\n",
              "      <td>47.139</td>\n",
              "      <td>1.2405</td>\n",
              "      <td>4.5406</td>\n",
              "      <td>...</td>\n",
              "      <td>0</td>\n",
              "      <td>0</td>\n",
              "      <td>0</td>\n",
              "      <td>1</td>\n",
              "      <td>0</td>\n",
              "      <td>0</td>\n",
              "      <td>0</td>\n",
              "      <td>0</td>\n",
              "      <td>1</td>\n",
              "      <td>1</td>\n",
              "    </tr>\n",
              "    <tr>\n",
              "      <th>1237</th>\n",
              "      <td>29.784</td>\n",
              "      <td>21.338</td>\n",
              "      <td>0</td>\n",
              "      <td>1</td>\n",
              "      <td>50.777</td>\n",
              "      <td>2.4038</td>\n",
              "      <td>4.8077</td>\n",
              "      <td>50.777</td>\n",
              "      <td>1.3362</td>\n",
              "      <td>4.5681</td>\n",
              "      <td>...</td>\n",
              "      <td>1</td>\n",
              "      <td>0</td>\n",
              "      <td>0</td>\n",
              "      <td>1</td>\n",
              "      <td>0</td>\n",
              "      <td>0</td>\n",
              "      <td>0</td>\n",
              "      <td>0</td>\n",
              "      <td>1</td>\n",
              "      <td>1</td>\n",
              "    </tr>\n",
              "    <tr>\n",
              "      <th>1238</th>\n",
              "      <td>28.003</td>\n",
              "      <td>20.095</td>\n",
              "      <td>0</td>\n",
              "      <td>4</td>\n",
              "      <td>46.018</td>\n",
              "      <td>2.3681</td>\n",
              "      <td>4.7362</td>\n",
              "      <td>46.018</td>\n",
              "      <td>1.2783</td>\n",
              "      <td>4.5001</td>\n",
              "      <td>...</td>\n",
              "      <td>0</td>\n",
              "      <td>1</td>\n",
              "      <td>0</td>\n",
              "      <td>0</td>\n",
              "      <td>0</td>\n",
              "      <td>0</td>\n",
              "      <td>0</td>\n",
              "      <td>1</td>\n",
              "      <td>1</td>\n",
              "      <td>1</td>\n",
              "    </tr>\n",
              "  </tbody>\n",
              "</table>\n",
              "<p>124 rows × 3276 columns</p>\n",
              "</div>\n",
              "    <div class=\"colab-df-buttons\">\n",
              "\n",
              "  <div class=\"colab-df-container\">\n",
              "    <button class=\"colab-df-convert\" onclick=\"convertToInteractive('df-08a6e973-0b35-4ba5-8db1-8127dd44c701')\"\n",
              "            title=\"Convert this dataframe to an interactive table.\"\n",
              "            style=\"display:none;\">\n",
              "\n",
              "  <svg xmlns=\"http://www.w3.org/2000/svg\" height=\"24px\" viewBox=\"0 -960 960 960\">\n",
              "    <path d=\"M120-120v-720h720v720H120Zm60-500h600v-160H180v160Zm220 220h160v-160H400v160Zm0 220h160v-160H400v160ZM180-400h160v-160H180v160Zm440 0h160v-160H620v160ZM180-180h160v-160H180v160Zm440 0h160v-160H620v160Z\"/>\n",
              "  </svg>\n",
              "    </button>\n",
              "\n",
              "  <style>\n",
              "    .colab-df-container {\n",
              "      display:flex;\n",
              "      gap: 12px;\n",
              "    }\n",
              "\n",
              "    .colab-df-convert {\n",
              "      background-color: #E8F0FE;\n",
              "      border: none;\n",
              "      border-radius: 50%;\n",
              "      cursor: pointer;\n",
              "      display: none;\n",
              "      fill: #1967D2;\n",
              "      height: 32px;\n",
              "      padding: 0 0 0 0;\n",
              "      width: 32px;\n",
              "    }\n",
              "\n",
              "    .colab-df-convert:hover {\n",
              "      background-color: #E2EBFA;\n",
              "      box-shadow: 0px 1px 2px rgba(60, 64, 67, 0.3), 0px 1px 3px 1px rgba(60, 64, 67, 0.15);\n",
              "      fill: #174EA6;\n",
              "    }\n",
              "\n",
              "    .colab-df-buttons div {\n",
              "      margin-bottom: 4px;\n",
              "    }\n",
              "\n",
              "    [theme=dark] .colab-df-convert {\n",
              "      background-color: #3B4455;\n",
              "      fill: #D2E3FC;\n",
              "    }\n",
              "\n",
              "    [theme=dark] .colab-df-convert:hover {\n",
              "      background-color: #434B5C;\n",
              "      box-shadow: 0px 1px 3px 1px rgba(0, 0, 0, 0.15);\n",
              "      filter: drop-shadow(0px 1px 2px rgba(0, 0, 0, 0.3));\n",
              "      fill: #FFFFFF;\n",
              "    }\n",
              "  </style>\n",
              "\n",
              "    <script>\n",
              "      const buttonEl =\n",
              "        document.querySelector('#df-08a6e973-0b35-4ba5-8db1-8127dd44c701 button.colab-df-convert');\n",
              "      buttonEl.style.display =\n",
              "        google.colab.kernel.accessAllowed ? 'block' : 'none';\n",
              "\n",
              "      async function convertToInteractive(key) {\n",
              "        const element = document.querySelector('#df-08a6e973-0b35-4ba5-8db1-8127dd44c701');\n",
              "        const dataTable =\n",
              "          await google.colab.kernel.invokeFunction('convertToInteractive',\n",
              "                                                    [key], {});\n",
              "        if (!dataTable) return;\n",
              "\n",
              "        const docLinkHtml = 'Like what you see? Visit the ' +\n",
              "          '<a target=\"_blank\" href=https://colab.research.google.com/notebooks/data_table.ipynb>data table notebook</a>'\n",
              "          + ' to learn more about interactive tables.';\n",
              "        element.innerHTML = '';\n",
              "        dataTable['output_type'] = 'display_data';\n",
              "        await google.colab.output.renderOutput(dataTable, element);\n",
              "        const docLink = document.createElement('div');\n",
              "        docLink.innerHTML = docLinkHtml;\n",
              "        element.appendChild(docLink);\n",
              "      }\n",
              "    </script>\n",
              "  </div>\n",
              "\n",
              "\n",
              "<div id=\"df-ddf75ecc-3cd1-4c11-8fec-a6bdfb80e3f3\">\n",
              "  <button class=\"colab-df-quickchart\" onclick=\"quickchart('df-ddf75ecc-3cd1-4c11-8fec-a6bdfb80e3f3')\"\n",
              "            title=\"Suggest charts\"\n",
              "            style=\"display:none;\">\n",
              "\n",
              "<svg xmlns=\"http://www.w3.org/2000/svg\" height=\"24px\"viewBox=\"0 0 24 24\"\n",
              "     width=\"24px\">\n",
              "    <g>\n",
              "        <path d=\"M19 3H5c-1.1 0-2 .9-2 2v14c0 1.1.9 2 2 2h14c1.1 0 2-.9 2-2V5c0-1.1-.9-2-2-2zM9 17H7v-7h2v7zm4 0h-2V7h2v10zm4 0h-2v-4h2v4z\"/>\n",
              "    </g>\n",
              "</svg>\n",
              "  </button>\n",
              "\n",
              "<style>\n",
              "  .colab-df-quickchart {\n",
              "      --bg-color: #E8F0FE;\n",
              "      --fill-color: #1967D2;\n",
              "      --hover-bg-color: #E2EBFA;\n",
              "      --hover-fill-color: #174EA6;\n",
              "      --disabled-fill-color: #AAA;\n",
              "      --disabled-bg-color: #DDD;\n",
              "  }\n",
              "\n",
              "  [theme=dark] .colab-df-quickchart {\n",
              "      --bg-color: #3B4455;\n",
              "      --fill-color: #D2E3FC;\n",
              "      --hover-bg-color: #434B5C;\n",
              "      --hover-fill-color: #FFFFFF;\n",
              "      --disabled-bg-color: #3B4455;\n",
              "      --disabled-fill-color: #666;\n",
              "  }\n",
              "\n",
              "  .colab-df-quickchart {\n",
              "    background-color: var(--bg-color);\n",
              "    border: none;\n",
              "    border-radius: 50%;\n",
              "    cursor: pointer;\n",
              "    display: none;\n",
              "    fill: var(--fill-color);\n",
              "    height: 32px;\n",
              "    padding: 0;\n",
              "    width: 32px;\n",
              "  }\n",
              "\n",
              "  .colab-df-quickchart:hover {\n",
              "    background-color: var(--hover-bg-color);\n",
              "    box-shadow: 0 1px 2px rgba(60, 64, 67, 0.3), 0 1px 3px 1px rgba(60, 64, 67, 0.15);\n",
              "    fill: var(--button-hover-fill-color);\n",
              "  }\n",
              "\n",
              "  .colab-df-quickchart-complete:disabled,\n",
              "  .colab-df-quickchart-complete:disabled:hover {\n",
              "    background-color: var(--disabled-bg-color);\n",
              "    fill: var(--disabled-fill-color);\n",
              "    box-shadow: none;\n",
              "  }\n",
              "\n",
              "  .colab-df-spinner {\n",
              "    border: 2px solid var(--fill-color);\n",
              "    border-color: transparent;\n",
              "    border-bottom-color: var(--fill-color);\n",
              "    animation:\n",
              "      spin 1s steps(1) infinite;\n",
              "  }\n",
              "\n",
              "  @keyframes spin {\n",
              "    0% {\n",
              "      border-color: transparent;\n",
              "      border-bottom-color: var(--fill-color);\n",
              "      border-left-color: var(--fill-color);\n",
              "    }\n",
              "    20% {\n",
              "      border-color: transparent;\n",
              "      border-left-color: var(--fill-color);\n",
              "      border-top-color: var(--fill-color);\n",
              "    }\n",
              "    30% {\n",
              "      border-color: transparent;\n",
              "      border-left-color: var(--fill-color);\n",
              "      border-top-color: var(--fill-color);\n",
              "      border-right-color: var(--fill-color);\n",
              "    }\n",
              "    40% {\n",
              "      border-color: transparent;\n",
              "      border-right-color: var(--fill-color);\n",
              "      border-top-color: var(--fill-color);\n",
              "    }\n",
              "    60% {\n",
              "      border-color: transparent;\n",
              "      border-right-color: var(--fill-color);\n",
              "    }\n",
              "    80% {\n",
              "      border-color: transparent;\n",
              "      border-right-color: var(--fill-color);\n",
              "      border-bottom-color: var(--fill-color);\n",
              "    }\n",
              "    90% {\n",
              "      border-color: transparent;\n",
              "      border-bottom-color: var(--fill-color);\n",
              "    }\n",
              "  }\n",
              "</style>\n",
              "\n",
              "  <script>\n",
              "    async function quickchart(key) {\n",
              "      const quickchartButtonEl =\n",
              "        document.querySelector('#' + key + ' button');\n",
              "      quickchartButtonEl.disabled = true;  // To prevent multiple clicks.\n",
              "      quickchartButtonEl.classList.add('colab-df-spinner');\n",
              "      try {\n",
              "        const charts = await google.colab.kernel.invokeFunction(\n",
              "            'suggestCharts', [key], {});\n",
              "      } catch (error) {\n",
              "        console.error('Error during call to suggestCharts:', error);\n",
              "      }\n",
              "      quickchartButtonEl.classList.remove('colab-df-spinner');\n",
              "      quickchartButtonEl.classList.add('colab-df-quickchart-complete');\n",
              "    }\n",
              "    (() => {\n",
              "      let quickchartButtonEl =\n",
              "        document.querySelector('#df-ddf75ecc-3cd1-4c11-8fec-a6bdfb80e3f3 button');\n",
              "      quickchartButtonEl.style.display =\n",
              "        google.colab.kernel.accessAllowed ? 'block' : 'none';\n",
              "    })();\n",
              "  </script>\n",
              "</div>\n",
              "    </div>\n",
              "  </div>\n"
            ]
          },
          "metadata": {},
          "execution_count": 24
        }
      ]
    },
    {
      "cell_type": "code",
      "execution_count": 25,
      "metadata": {
        "id": "xm6cj2XVMoTY"
      },
      "outputs": [],
      "source": [
        "X, y = df_train.values, labels\n",
        "X_test = df_test.values"
      ]
    },
    {
      "cell_type": "markdown",
      "metadata": {
        "id": "OA6KmsZrFgDB"
      },
      "source": [
        "#### Explore classes"
      ]
    },
    {
      "cell_type": "code",
      "execution_count": 26,
      "metadata": {
        "colab": {
          "base_uri": "https://localhost:8080/"
        },
        "id": "DozdF855JBUi",
        "outputId": "292bf4eb-8396-4d17-8051-7ca6ac2bb57d"
      },
      "outputs": [
        {
          "output_type": "stream",
          "name": "stdout",
          "text": [
            "[1 1 1 ... 1 0 1]\n",
            "(1115,)\n"
          ]
        }
      ],
      "source": [
        "print(labels)\n",
        "print(labels.shape)"
      ]
    },
    {
      "cell_type": "code",
      "execution_count": 27,
      "metadata": {
        "colab": {
          "base_uri": "https://localhost:8080/"
        },
        "id": "-xVxv6INQIsF",
        "outputId": "e532f11c-1637-4fc4-ee05-84425cfa3f97"
      },
      "outputs": [
        {
          "output_type": "stream",
          "name": "stdout",
          "text": [
            "Number of data with label 0 is: 374\n",
            "Number of data with label 1 is: 741\n"
          ]
        }
      ],
      "source": [
        "print(f\"Number of data with label 0 is: {list(labels).count(0)}\")\n",
        "print(f\"Number of data with label 1 is: {list(labels).count(1)}\")"
      ]
    },
    {
      "cell_type": "code",
      "execution_count": 28,
      "metadata": {
        "colab": {
          "base_uri": "https://localhost:8080/",
          "height": 472
        },
        "id": "seYO9OsHQfGR",
        "outputId": "202507dd-b5ad-40ea-d171-21c98484dbb7"
      },
      "outputs": [
        {
          "output_type": "display_data",
          "data": {
            "text/plain": [
              "<Figure size 640x480 with 1 Axes>"
            ],
            "image/png": "[encoded data removed]"
          },
          "metadata": {}
        }
      ],
      "source": [
        "# Count the occurrences of labels 0 and 1\n",
        "count_label_0 = list(labels).count(0)\n",
        "count_label_1 = list(labels).count(1)\n",
        "\n",
        "# Create a bar diagram\n",
        "labels_list = ['Label 0', 'Label 1']\n",
        "counts = [count_label_0, count_label_1]\n",
        "\n",
        "plt.bar(labels_list, counts, color=['red', 'blue'])\n",
        "plt.xlabel('Labels')\n",
        "plt.ylabel('Count')\n",
        "plt.title('Distribution of Labels')\n",
        "plt.show()"
      ]
    },
    {
      "cell_type": "markdown",
      "metadata": {
        "id": "CSfN9PGfNbMd"
      },
      "source": [
        "### Try different classifiers"
      ]
    },
    {
      "cell_type": "markdown",
      "metadata": {
        "id": "1186Q6CJrD_7"
      },
      "source": [
        "#### Decision Tree"
      ]
    },
    {
      "cell_type": "code",
      "execution_count": null,
      "metadata": {
        "colab": {
          "base_uri": "https://localhost:8080/"
        },
        "id": "NKQzA17crI_G",
        "outputId": "98ed22a1-97dc-4a8c-d487-2f556e01ae5e"
      },
      "outputs": [
        {
          "name": "stdout",
          "output_type": "stream",
          "text": [
            "Cross-validation scores: [0.87892377 0.89237668 0.90134529 0.91479821 0.85650224]\n",
            "Mean CV accuracy: 88.8789%\n"
          ]
        }
      ],
      "source": [
        "# Tree\n",
        "tree = DecisionTreeClassifier(random_state=RANDOM_SEED)\n",
        "\n",
        "# Perform cross-validation with 5 folds\n",
        "cv_scores = cross_val_score(tree, X, y, cv=5)\n",
        "\n",
        "# Print the cross-validation scores\n",
        "print(\"Cross-validation scores:\", cv_scores)\n",
        "\n",
        "# Print the mean cross-validation score\n",
        "print(f\"Mean CV accuracy: {cv_scores.mean() * 100:.4f}%\")"
      ]
    },
    {
      "cell_type": "code",
      "source": [
        "# Tree, F1 Score\n",
        "tree = DecisionTreeClassifier(random_state=RANDOM_SEED)\n",
        "\n",
        "# Perform cross-validation with 5 folds\n",
        "f1_scorer = make_scorer(f1_score)\n",
        "cv_scores_f1 = cross_val_score(tree, X, y, cv=5, scoring=f1_scorer)\n",
        "\n",
        "# Print the mean cross-validation score\n",
        "print(\"Cross-validation F1 scores:\", cv_scores_f1) # Score of 1 indicates perfect precision and recall\n",
        "print(f\"Mean CV F1 score: {cv_scores_f1.mean():.4f}\")"
      ],
      "metadata": {
        "colab": {
          "base_uri": "https://localhost:8080/"
        },
        "id": "lkL2KiJjbIsl",
        "outputId": "fbcd351a-7a40-497e-b783-f3fceb2f2c0f"
      },
      "execution_count": null,
      "outputs": [
        {
          "output_type": "stream",
          "name": "stdout",
          "text": [
            "Cross-validation F1 scores: [0.909699   0.91724138 0.9261745  0.93559322 0.89333333]\n",
            "Mean CV F1 score: 0.9164\n"
          ]
        }
      ]
    },
    {
      "cell_type": "markdown",
      "metadata": {
        "id": "hDSzB2ulaBpi"
      },
      "source": [
        "#### Random Forest"
      ]
    },
    {
      "cell_type": "code",
      "execution_count": null,
      "metadata": {
        "colab": {
          "base_uri": "https://localhost:8080/"
        },
        "id": "qR_hJ-HsJSDe",
        "outputId": "576b0dee-3847-4aa2-ec45-22767e43cd08"
      },
      "outputs": [
        {
          "name": "stdout",
          "output_type": "stream",
          "text": [
            "Cross-validation scores: [0.88340807 0.92376682 0.91479821 0.91479821 0.88789238]\n",
            "Mean CV accuracy: 90.4933%\n"
          ]
        }
      ],
      "source": [
        "# Random Forest\n",
        "random_forest = RandomForestClassifier(n_estimators=100, max_depth=7, random_state=RANDOM_SEED)\n",
        "\n",
        "# Perform cross-validation with 5 folds\n",
        "cv_scores = cross_val_score(random_forest, X, y, cv=5)\n",
        "\n",
        "# Print the cross-validation scores\n",
        "print(\"Cross-validation scores:\", cv_scores)\n",
        "\n",
        "# Print the mean cross-validation score\n",
        "print(f\"Mean CV accuracy: {cv_scores.mean() * 100:.4f}%\")"
      ]
    },
    {
      "cell_type": "code",
      "source": [
        "# Random Forest, F1 Score\n",
        "random_forest = RandomForestClassifier(n_estimators=100, max_depth=7, random_state=RANDOM_SEED)\n",
        "\n",
        "# Perform cross-validation with 5 folds\n",
        "f1_scorer = make_scorer(f1_score)\n",
        "cv_scores_f1 = cross_val_score(random_forest, X, y, cv=5, scoring=f1_scorer)\n",
        "\n",
        "# Print the mean cross-validation score\n",
        "print(\"Cross-validation F1 scores:\", cv_scores_f1) # Score of 1 indicates perfect precision and recall\n",
        "print(f\"Mean CV F1 score: {cv_scores_f1.mean():.4f}\")"
      ],
      "metadata": {
        "colab": {
          "base_uri": "https://localhost:8080/"
        },
        "id": "iYtGylgMbX6n",
        "outputId": "f79be84b-e967-4369-ffb1-af7c1e059043"
      },
      "execution_count": null,
      "outputs": [
        {
          "output_type": "stream",
          "name": "stdout",
          "text": [
            "Cross-validation F1 scores: [0.91612903 0.9442623  0.93890675 0.93890675 0.92113565]\n",
            "Mean CV F1 score: 0.9319\n"
          ]
        }
      ]
    },
    {
      "cell_type": "code",
      "execution_count": null,
      "metadata": {
        "colab": {
          "base_uri": "https://localhost:8080/",
          "height": 49,
          "referenced_widgets": [
            "3a47350a12c548718a3af5adc7f373f6",
            "3129c6bda543460d85a389cb59c3b6bd",
            "bd06389d6f894c9d93842fb0c97af9bb",
            "97bf1d7a58ab4fb9a53b464250484117",
            "5b34c41eb3a840f48faa155128f0ce4a",
            "613b43a4503b47b38c581c4c0f97f070",
            "76b2373aabe7481e85d99f6191b359df",
            "5f7bec13028943e3811df25396e3e507",
            "334b9de5ce774b58aee3f10ccceb3a11",
            "fcfb41edf161473f8f2ad330e3e415af",
            "e4551d563f044aea9396f8daad9dada2"
          ]
        },
        "id": "L6b6kv9dQ_jj",
        "outputId": "fd84a06f-8733-4cb6-ee9e-8fad80c41492"
      },
      "outputs": [
        {
          "data": {
            "application/vnd.jupyter.widget-view+json": {
              "model_id": "3a47350a12c548718a3af5adc7f373f6",
              "version_major": 2,
              "version_minor": 0
            },
            "text/plain": [
              "Grid Search Progress:   0%|          | 0/12 [00:00<?, ?it/s]"
            ]
          },
          "metadata": {},
          "output_type": "display_data"
        }
      ],
      "source": [
        "# Define the parameter grid\n",
        "param_grid = {\n",
        "    'n_estimators': [50, 100, 200, 300],\n",
        "    'max_depth': [5, 7, 10]\n",
        "}\n",
        "\n",
        "# Create the combinations of hyperparameters\n",
        "param_combinations = list(itertools.product(*param_grid.values()))\n",
        "# Total number of combinations\n",
        "total_combinations = len(param_combinations)\n",
        "\n",
        "# Create a Random Forest classifier\n",
        "random_forest = RandomForestClassifier(random_state=RANDOM_SEED)\n",
        "# Create the GridSearchCV object\n",
        "grid_search = GridSearchCV(estimator=random_forest, param_grid=param_grid, cv=5, scoring='accuracy', n_jobs=-1)\n",
        "\n",
        "# Perform the grid search with tqdm progress bar\n",
        "for param_combination in tqdm(param_combinations, desc=\"Grid Search Progress\"):\n",
        "  params = dict(zip(param_grid.keys(), param_combination))\n",
        "\n",
        "  # Update the parameters of the RandomForestClassifier within the GridSearchCV\n",
        "  random_forest.set_params(**params)\n",
        "\n",
        "  # Set the updated RandomForestClassifier as the estimator for the GridSearchCV\n",
        "  grid_search.estimator = random_forest\n",
        "\n",
        "  # Fit the GridSearchCV with the updated estimator\n",
        "  grid_search.fit(X, y)"
      ]
    },
    {
      "cell_type": "code",
      "execution_count": null,
      "metadata": {
        "colab": {
          "base_uri": "https://localhost:8080/"
        },
        "id": "HMpb9iudEA5o",
        "outputId": "a5000c46-1a22-4e48-c3c0-4c230ff2d707"
      },
      "outputs": [
        {
          "name": "stdout",
          "output_type": "stream",
          "text": [
            "Best Parameters: {'max_depth': 10, 'n_estimators': 300}\n"
          ]
        }
      ],
      "source": [
        "# Get the best parameters from the grid search\n",
        "best_params = grid_search.best_params_\n",
        "\n",
        "# Train a new Random Forest model with the best parameters\n",
        "best_random_forest = RandomForestClassifier(n_estimators=best_params['n_estimators'],\n",
        "                                            max_depth=best_params['max_depth'],\n",
        "                                            random_state=RANDOM_SEED)\n",
        "\n",
        "print(\"Best Parameters:\", best_params)"
      ]
    },
    {
      "cell_type": "code",
      "execution_count": null,
      "metadata": {
        "colab": {
          "base_uri": "https://localhost:8080/"
        },
        "id": "Dnb6RSWajd6K",
        "outputId": "47ec8140-3310-41ae-f0db-27fd0d38c43d"
      },
      "outputs": [
        {
          "output_type": "stream",
          "name": "stdout",
          "text": [
            "Cross-validation scores: [0.88340807 0.91928251 0.92825112 0.93273543 0.89686099]\n",
            "Mean CV accuracy: 91.2108%\n"
          ]
        }
      ],
      "source": [
        "# Random Forest\n",
        "random_forest = RandomForestClassifier(n_estimators=300, max_depth=10, random_state=RANDOM_SEED)\n",
        "\n",
        "# Perform cross-validation with 5 folds\n",
        "cv_scores = cross_val_score(random_forest, X, y, cv=5)\n",
        "\n",
        "# Print the cross-validation scores\n",
        "print(\"Cross-validation scores:\", cv_scores)\n",
        "\n",
        "# Print the mean cross-validation score\n",
        "print(f\"Mean CV accuracy: {cv_scores.mean() * 100:.4f}%\")"
      ]
    },
    {
      "cell_type": "code",
      "source": [
        "# Random Forest, F1 Score\n",
        "random_forest = RandomForestClassifier(n_estimators=300, max_depth=10, random_state=RANDOM_SEED)\n",
        "\n",
        "# Perform cross-validation with 5 folds\n",
        "f1_scorer = make_scorer(f1_score)\n",
        "cv_scores_f1 = cross_val_score(random_forest, X, y, cv=5, scoring=f1_scorer)\n",
        "\n",
        "# Print the mean cross-validation score\n",
        "print(\"Cross-validation F1 scores:\", cv_scores_f1) # Score of 1 indicates perfect precision and recall\n",
        "print(f\"Mean CV F1 score: {cv_scores_f1.mean():.4f}\")"
      ],
      "metadata": {
        "colab": {
          "base_uri": "https://localhost:8080/"
        },
        "id": "VU9h7QbbbfRx",
        "outputId": "fe0cdf13-769a-4f9c-82ed-8fbb89763425"
      },
      "execution_count": null,
      "outputs": [
        {
          "output_type": "stream",
          "name": "stdout",
          "text": [
            "Cross-validation F1 scores: [0.91447368 0.94117647 0.94805195 0.95114007 0.92698413]\n",
            "Mean CV F1 score: 0.9364\n"
          ]
        }
      ]
    },
    {
      "cell_type": "markdown",
      "metadata": {
        "id": "n1sFjKZseoLy"
      },
      "source": [
        "#### AdaBoost"
      ]
    },
    {
      "cell_type": "code",
      "execution_count": null,
      "metadata": {
        "colab": {
          "base_uri": "https://localhost:8080/"
        },
        "id": "iU2ech58j3su",
        "outputId": "d224220e-0e6b-486d-fc1e-ab3d693aecbe"
      },
      "outputs": [
        {
          "name": "stdout",
          "output_type": "stream",
          "text": [
            "Cross-validation scores: [0.87892377 0.90134529 0.92376682 0.9103139  0.90134529]\n",
            "Mean CV accuracy: 90.3139%\n"
          ]
        }
      ],
      "source": [
        "# Adaboost\n",
        "adaboost = AdaBoostClassifier(n_estimators=100, random_state=RANDOM_SEED)\n",
        "\n",
        "# Perform cross-validation with 5 folds\n",
        "cv_scores = cross_val_score(adaboost, X, y, cv=5)\n",
        "\n",
        "# Print the cross-validation scores\n",
        "print(\"Cross-validation scores:\", cv_scores)\n",
        "\n",
        "# Print the mean cross-validation score\n",
        "print(f\"Mean CV accuracy: {cv_scores.mean() * 100:.4f}%\")"
      ]
    },
    {
      "cell_type": "code",
      "execution_count": null,
      "metadata": {
        "colab": {
          "base_uri": "https://localhost:8080/"
        },
        "id": "zE-M04opSvVK",
        "outputId": "3d1c15c0-2d7f-42ac-8eeb-f5bb90fba8e3"
      },
      "outputs": [
        {
          "name": "stdout",
          "output_type": "stream",
          "text": [
            "Cross-validation scores: [0.89237668 0.93273543 0.92376682 0.93721973 0.91479821]\n",
            "Mean CV accuracy: 92.0179%\n"
          ]
        }
      ],
      "source": [
        "# Adaboost\n",
        "base_classifier = RandomForestClassifier(n_estimators=100, max_depth=7, random_state=RANDOM_SEED)\n",
        "adaboost = AdaBoostClassifier(base_classifier, n_estimators=100, random_state=RANDOM_SEED)\n",
        "\n",
        "# Perform cross-validation with 5 folds\n",
        "cv_scores = cross_val_score(adaboost, X, y, cv=5)\n",
        "\n",
        "# Print the cross-validation scores\n",
        "print(\"Cross-validation scores:\", cv_scores)\n",
        "\n",
        "# Print the mean cross-validation score\n",
        "print(f\"Mean CV accuracy: {cv_scores.mean() * 100:.4f}%\")"
      ]
    },
    {
      "cell_type": "code",
      "source": [
        "# Adaboost, F1-score\n",
        "base_classifier = RandomForestClassifier(n_estimators=100, max_depth=7, random_state=RANDOM_SEED)\n",
        "adaboost = AdaBoostClassifier(base_classifier, n_estimators=100, random_state=RANDOM_SEED)\n",
        "\n",
        "# Perform cross-validation with 5 folds\n",
        "f1_scorer = make_scorer(f1_score)\n",
        "cv_scores_f1 = cross_val_score(adaboost, X, y, cv=5, scoring=f1_scorer)\n",
        "\n",
        "# Print the mean cross-validation score\n",
        "print(\"Cross-validation F1 scores:\", cv_scores_f1) # Score of 1 indicates perfect precision and recall\n",
        "print(f\"Mean CV F1 score: {cv_scores_f1.mean():.4f}\")"
      ],
      "metadata": {
        "colab": {
          "base_uri": "https://localhost:8080/"
        },
        "id": "WvySqs5ybjyw",
        "outputId": "300f8d77-720e-4158-9fc8-bf204351138b"
      },
      "execution_count": null,
      "outputs": [
        {
          "output_type": "stream",
          "name": "stdout",
          "text": [
            "Cross-validation F1 scores: [0.91946309 0.95081967 0.94533762 0.95424837 0.93890675]\n",
            "Mean CV F1 score: 0.9418\n"
          ]
        }
      ]
    },
    {
      "cell_type": "markdown",
      "metadata": {
        "id": "SyckhtZ5eqO_"
      },
      "source": [
        "#### XGBoost"
      ]
    },
    {
      "cell_type": "code",
      "execution_count": null,
      "metadata": {
        "colab": {
          "base_uri": "https://localhost:8080/"
        },
        "id": "w47dhxwid6KT",
        "outputId": "67eff8b9-3612-4810-913b-30e484fef27c"
      },
      "outputs": [
        {
          "output_type": "stream",
          "name": "stdout",
          "text": [
            "Cross-validation scores: [0.88789238 0.94170404 0.92825112 0.93721973 0.92825112]\n",
            "Mean CV accuracy: 92.4664%\n"
          ]
        }
      ],
      "source": [
        "# XGBoost\n",
        "xgboost = XGBClassifier(n_estimators=50, max_depth=6, random_state=RANDOM_SEED, n_jobs=-1)\n",
        "\n",
        "# Perform cross-validation with 5 folds\n",
        "cv_scores = cross_val_score(xgboost, X, y, cv=5)\n",
        "\n",
        "# Print the cross-validation scores\n",
        "print(\"Cross-validation scores:\", cv_scores)\n",
        "\n",
        "# Print the mean cross-validation score\n",
        "print(f\"Mean CV accuracy: {cv_scores.mean() * 100:.4f}%\")"
      ]
    },
    {
      "cell_type": "code",
      "source": [
        "# XGBoost, F1 Score\n",
        "xgboost = XGBClassifier(n_estimators=50, max_depth=6, random_state=RANDOM_SEED, n_jobs=-1) # max_depth=6 default\n",
        "\n",
        "# Perform cross-validation with 5 folds\n",
        "f1_scorer = make_scorer(f1_score)\n",
        "cv_scores_f1 = cross_val_score(xgboost, X, y, cv=5, scoring=f1_scorer)\n",
        "\n",
        "# Print the mean cross-validation score\n",
        "print(\"Cross-validation F1 scores:\", cv_scores_f1) # Score of 1 indicates perfect precision and recall\n",
        "print(f\"Mean CV F1 score: {cv_scores_f1.mean():.4f}\")"
      ],
      "metadata": {
        "colab": {
          "base_uri": "https://localhost:8080/"
        },
        "id": "YeKNSXASZzE6",
        "outputId": "e30b50ff-56f6-425c-f344-861a009e7713"
      },
      "execution_count": null,
      "outputs": [
        {
          "output_type": "stream",
          "name": "stdout",
          "text": [
            "Cross-validation F1 scores: [0.91694352 0.95709571 0.94771242 0.95333333 0.9483871 ]\n",
            "Mean CV F1 score: 0.9447\n"
          ]
        }
      ]
    },
    {
      "cell_type": "code",
      "execution_count": null,
      "metadata": {
        "colab": {
          "base_uri": "https://localhost:8080/",
          "height": 49,
          "referenced_widgets": [
            "4dc3f722358348d2bf839dc67e906d16",
            "a79bf93ecc9242c288d1e6c81db2d4dd",
            "440f63c10d6c43c0949289b4fb422fa5",
            "9fac99293b0c474f83b57d85c612a444",
            "dd90daa8517446eeb3bc031329d7c075",
            "4f3c0cfdd00b4c8990137377292dc0b3",
            "9c06cad3287a4e0b83534fe357c43c8a",
            "4f478a9692124fea836c04b93fe27f5e",
            "8e46c432bc774e55b3a6f08c64d03bde",
            "6f9f3acb23df4a91a8929a7c9c807df6",
            "905c93f31c8c4a35a5f5069b68937133"
          ]
        },
        "id": "fds8b3xwgOQX",
        "outputId": "4260b52e-55db-4365-e345-f1811e758908"
      },
      "outputs": [
        {
          "output_type": "display_data",
          "data": {
            "text/plain": [
              "Grid Search Progress:   0%|          | 0/9 [00:00<?, ?it/s]"
            ],
            "application/vnd.jupyter.widget-view+json": {
              "version_major": 2,
              "version_minor": 0,
              "model_id": "4dc3f722358348d2bf839dc67e906d16"
            }
          },
          "metadata": {}
        }
      ],
      "source": [
        "# Define the parameter grid\n",
        "param_grid = {\n",
        "    'n_estimators': [50, 100, 200],\n",
        "    'max_depth': [4, 6, 10],\n",
        "}\n",
        "\n",
        "# Create the combinations of hyperparameters\n",
        "param_combinations = list(itertools.product(*param_grid.values()))\n",
        "# Total number of combinations\n",
        "total_combinations = len(param_combinations)\n",
        "\n",
        "# Create an XGBoost classifier\n",
        "xgboost = XGBClassifier(random_state=RANDOM_SEED, n_jobs=-1)\n",
        "# Create the GridSearchCV object\n",
        "grid_search = GridSearchCV(estimator=xgboost, param_grid=param_grid, cv=5, scoring='accuracy', n_jobs=-1)\n",
        "\n",
        "# Perform the grid search with tqdm progress bar\n",
        "for param_combination in tqdm(param_combinations, desc=\"Grid Search Progress\"):\n",
        "  params = dict(zip(param_grid.keys(), param_combination))\n",
        "\n",
        "  # Update the parameters of the RandomForestClassifier within the GridSearchCV\n",
        "  xgboost.set_params(**params)\n",
        "\n",
        "  # Set the updated RandomForestClassifier as the estimator for the GridSearchCV\n",
        "  grid_search.estimator = xgboost\n",
        "\n",
        "  # Fit the GridSearchCV with the updated estimator\n",
        "  grid_search.fit(X, y)"
      ]
    },
    {
      "cell_type": "code",
      "execution_count": null,
      "metadata": {
        "colab": {
          "base_uri": "https://localhost:8080/"
        },
        "id": "VQuHJA84ED01",
        "outputId": "9df50f7f-4c74-4078-9f78-41590d77090c"
      },
      "outputs": [
        {
          "output_type": "stream",
          "name": "stdout",
          "text": [
            "Best Parameters: {'max_depth': 6, 'n_estimators': 200}\n"
          ]
        }
      ],
      "source": [
        "# Get the best parameters from the grid search\n",
        "best_params = grid_search.best_params_\n",
        "\n",
        "# Train a new Random Forest model with the best parameters\n",
        "best_xgboost = XGBClassifier(n_estimators=best_params['n_estimators'],\n",
        "                             max_depth=best_params['max_depth'],\n",
        "                             random_state=RANDOM_SEED)\n",
        "\n",
        "print(\"Best Parameters:\", best_params)"
      ]
    },
    {
      "cell_type": "code",
      "execution_count": null,
      "metadata": {
        "colab": {
          "base_uri": "https://localhost:8080/"
        },
        "id": "JGnDlzBek6bJ",
        "outputId": "71d77e75-5628-409e-a540-393a2b544c3d"
      },
      "outputs": [
        {
          "output_type": "stream",
          "name": "stdout",
          "text": [
            "Cross-validation scores: [0.88340807 0.94170404 0.93273543 0.94618834 0.92825112]\n",
            "Mean CV accuracy: 92.6457%\n"
          ]
        }
      ],
      "source": [
        "# XGBoost\n",
        "xgboost = XGBClassifier(n_estimators=200, max_depth=6, random_state=RANDOM_SEED, n_jobs=-1)\n",
        "\n",
        "# Perform cross-validation with 5 folds\n",
        "cv_scores = cross_val_score(xgboost, X, y, cv=5)\n",
        "\n",
        "# Print the cross-validation scores\n",
        "print(\"Cross-validation scores:\", cv_scores)\n",
        "\n",
        "# Print the mean cross-validation score\n",
        "print(f\"Mean CV accuracy: {cv_scores.mean() * 100:.4f}%\")"
      ]
    },
    {
      "cell_type": "code",
      "execution_count": null,
      "metadata": {
        "colab": {
          "base_uri": "https://localhost:8080/"
        },
        "id": "Y2KzUfA59W3n",
        "outputId": "ad1fa5c0-429b-4550-8618-25ef43acc760"
      },
      "outputs": [
        {
          "output_type": "stream",
          "name": "stdout",
          "text": [
            "Cross-validation F1 scores: [0.91333333 0.95709571 0.95049505 0.96       0.9483871 ]\n",
            "Mean CV F1 score: 0.9459\n"
          ]
        }
      ],
      "source": [
        "# XGBoost, F1 Score\n",
        "xgboost = XGBClassifier(n_estimators=200, random_state=RANDOM_SEED, n_jobs=-1) # max_depth=6 default\n",
        "\n",
        "# Perform cross-validation with 5 folds\n",
        "f1_scorer = make_scorer(f1_score)\n",
        "cv_scores_f1 = cross_val_score(xgboost, X, y, cv=5, scoring=f1_scorer)\n",
        "\n",
        "# Print the mean cross-validation score\n",
        "print(\"Cross-validation F1 scores:\", cv_scores_f1) # Score of 1 indicates perfect precision and recall\n",
        "print(f\"Mean CV F1 score: {cv_scores_f1.mean():.4f}\")"
      ]
    },
    {
      "cell_type": "markdown",
      "source": [
        "### RandomForest Tuning more the hyperparameters"
      ],
      "metadata": {
        "id": "S4nMBH-GWkDt"
      }
    },
    {
      "cell_type": "code",
      "execution_count": null,
      "metadata": {
        "colab": {
          "base_uri": "https://localhost:8080/"
        },
        "outputId": "cb60bb7e-fe6d-4409-8d65-a3f61719eb4e",
        "id": "GItqpdMqqZNV"
      },
      "outputs": [
        {
          "output_type": "stream",
          "name": "stdout",
          "text": [
            "Cross-validation scores: [0.88340807 0.92376682 0.93721973 0.93721973 0.90134529]\n",
            "Mean CV accuracy: 91.6592%\n"
          ]
        }
      ],
      "source": [
        "# Random Forest\n",
        "random_forest = RandomForestClassifier(n_estimators=350, max_depth=12, random_state=RANDOM_SEED)\n",
        "\n",
        "# Perform cross-validation with 5 folds\n",
        "cv_scores = cross_val_score(random_forest, X, y, cv=5)\n",
        "\n",
        "# Print the cross-validation scores\n",
        "print(\"Cross-validation scores:\", cv_scores)\n",
        "\n",
        "# Print the mean cross-validation score\n",
        "print(f\"Mean CV accuracy: {cv_scores.mean() * 100:.4f}%\")"
      ]
    },
    {
      "cell_type": "code",
      "source": [
        "# Random Forest, F1 Score\n",
        "random_forest = RandomForestClassifier(n_estimators=350, max_depth=12, random_state=RANDOM_SEED)\n",
        "\n",
        "# Perform cross-validation with 5 folds\n",
        "f1_scorer = make_scorer(f1_score)\n",
        "cv_scores_f1 = cross_val_score(random_forest, X, y, cv=5, scoring=f1_scorer)\n",
        "\n",
        "# Print the mean cross-validation score\n",
        "print(\"Cross-validation F1 scores:\", cv_scores_f1) # Score of 1 indicates perfect precision and recall\n",
        "print(f\"Mean CV F1 score: {cv_scores_f1.mean():.4f}\")"
      ],
      "metadata": {
        "colab": {
          "base_uri": "https://localhost:8080/"
        },
        "outputId": "d19dcfc2-86ad-4d11-caca-03f8fd221139",
        "id": "0Bvpt2f1qZNW"
      },
      "execution_count": null,
      "outputs": [
        {
          "output_type": "stream",
          "name": "stdout",
          "text": [
            "Cross-validation F1 scores: [0.91333333 0.9442623  0.95424837 0.95424837 0.92993631]\n",
            "Mean CV F1 score: 0.9392\n"
          ]
        }
      ]
    },
    {
      "cell_type": "code",
      "source": [
        "random_forest = RandomForestClassifier(n_estimators=350, max_depth=12, random_state=RANDOM_SEED)\n",
        "auc_and_accuracy_scores(X, y, random_forest)"
      ],
      "metadata": {
        "colab": {
          "base_uri": "https://localhost:8080/"
        },
        "id": "fnJHNx7IJLuD",
        "outputId": "f389a72a-e8fb-411f-c1e6-cbfa58020381"
      },
      "execution_count": null,
      "outputs": [
        {
          "output_type": "stream",
          "name": "stdout",
          "text": [
            "AUC for fold 1: 0.9706\n",
            "Accuracy for fold 1: 0.9013\n",
            "\n",
            "AUC for fold 2: 0.9783\n",
            "Accuracy for fold 2: 0.9058\n",
            "\n",
            "AUC for fold 3: 0.9821\n",
            "Accuracy for fold 3: 0.9193\n",
            "\n",
            "AUC for fold 4: 0.9792\n",
            "Accuracy for fold 4: 0.9283\n",
            "\n",
            "AUC for fold 5: 0.9835\n",
            "Accuracy for fold 5: 0.9283\n",
            "\n",
            "Mean AUC score: 0.97875\n",
            "Mean accuracy score: 91.6592%\n"
          ]
        }
      ]
    },
    {
      "cell_type": "markdown",
      "source": [
        "### XGBoost Tuning more the hyperparameters"
      ],
      "metadata": {
        "id": "eZHDuzCVCpBK"
      }
    },
    {
      "cell_type": "code",
      "source": [
        "# XGBoost\n",
        "xgboost = XGBClassifier(n_estimators=275, max_depth=6, random_state=RANDOM_SEED, n_jobs=-1)\n",
        "\n",
        "# Perform cross-validation with 5 folds\n",
        "cv_scores = cross_val_score(xgboost, X, y, cv=5)\n",
        "\n",
        "# Print the cross-validation scores\n",
        "print(\"Cross-validation scores:\", cv_scores)\n",
        "\n",
        "# Print the mean cross-validation score\n",
        "print(f\"Mean CV accuracy: {cv_scores.mean() * 100:.4f}%\")"
      ],
      "metadata": {
        "colab": {
          "base_uri": "https://localhost:8080/"
        },
        "id": "AEyzQqdIzBIc",
        "outputId": "03461716-f213-4694-9b27-9f3b1c5981f1"
      },
      "execution_count": null,
      "outputs": [
        {
          "output_type": "stream",
          "name": "stdout",
          "text": [
            "Cross-validation scores: [0.88340807 0.94618834 0.93273543 0.94618834 0.93273543]\n",
            "Mean CV accuracy: 92.8251%\n"
          ]
        }
      ]
    },
    {
      "cell_type": "code",
      "source": [
        "# XGBoost, F1 Score\n",
        "xgboost = XGBClassifier(n_estimators=275, max_depth=6, random_state=RANDOM_SEED, n_jobs=-1)\n",
        "\n",
        "# Perform cross-validation with 5 folds\n",
        "f1_scorer = make_scorer(f1_score)\n",
        "cv_scores_f1 = cross_val_score(xgboost, X, y, cv=5, scoring=f1_scorer)\n",
        "\n",
        "# Print the mean cross-validation score\n",
        "print(\"Cross-validation F1 scores:\", cv_scores_f1) # Score of 1 indicates perfect precision and recall\n",
        "print(f\"Mean CV F1 score: {cv_scores_f1.mean():.4f}\")"
      ],
      "metadata": {
        "colab": {
          "base_uri": "https://localhost:8080/"
        },
        "id": "cxfJ8IM0zmth",
        "outputId": "505c8dba-9e63-4942-9536-9a31b3b0a3f6"
      },
      "execution_count": null,
      "outputs": [
        {
          "output_type": "stream",
          "name": "stdout",
          "text": [
            "Cross-validation F1 scores: [0.91333333 0.9602649  0.95049505 0.96       0.95145631]\n",
            "Mean CV F1 score: 0.9471\n"
          ]
        }
      ]
    },
    {
      "cell_type": "code",
      "source": [
        "xgboost = XGBClassifier(n_estimators=275, max_depth=6, random_state=RANDOM_SEED, n_jobs=-1)\n",
        "auc_and_accuracy_scores(X, y, xgboost)"
      ],
      "metadata": {
        "colab": {
          "base_uri": "https://localhost:8080/"
        },
        "id": "RoKHuZI1JgB7",
        "outputId": "4ada9f89-615d-4d17-adaf-28ea555eda03"
      },
      "execution_count": null,
      "outputs": [
        {
          "output_type": "stream",
          "name": "stdout",
          "text": [
            "AUC for fold 1: 0.9708\n",
            "Accuracy for fold 1: 0.9103\n",
            "\n",
            "AUC for fold 2: 0.9822\n",
            "Accuracy for fold 2: 0.9193\n",
            "\n",
            "AUC for fold 3: 0.9861\n",
            "Accuracy for fold 3: 0.9327\n",
            "\n",
            "AUC for fold 4: 0.9856\n",
            "Accuracy for fold 4: 0.9372\n",
            "\n",
            "AUC for fold 5: 0.9887\n",
            "Accuracy for fold 5: 0.9417\n",
            "\n",
            "Mean AUC score: 0.98268\n",
            "Mean accuracy score: 92.8251%\n"
          ]
        }
      ]
    },
    {
      "cell_type": "markdown",
      "source": [
        "### XGBoost Less weight to positive class"
      ],
      "metadata": {
        "id": "YJWmW6rDJ1vm"
      }
    },
    {
      "cell_type": "code",
      "source": [
        "# Define the XGBoost classifier\n",
        "xgboost = XGBClassifier(n_estimators=275, max_depth=6, scale_pos_weight=0.5, random_state=RANDOM_SEED, n_jobs=-1) # default scale_pos_weight = 1\n",
        "\n",
        "# Define the StratifiedKFold\n",
        "stratified_kfold = StratifiedKFold(n_splits=5, shuffle=True, random_state=RANDOM_SEED)\n",
        "\n",
        "# Perform cross-validation with 5 folds using stratified k-fold\n",
        "cv_scores = cross_val_score(xgboost, X, y, cv=stratified_kfold)\n",
        "\n",
        "# Print the cross-validation scores\n",
        "print(\"Cross-validation scores:\", cv_scores)\n",
        "\n",
        "# Print the mean cross-validation score\n",
        "print(f\"Mean CV accuracy: {cv_scores.mean() * 100:.4f}%\")"
      ],
      "metadata": {
        "colab": {
          "base_uri": "https://localhost:8080/"
        },
        "id": "gS2Y71m81QWA",
        "outputId": "8763da98-ec8d-4222-e233-bda0ac719686"
      },
      "execution_count": null,
      "outputs": [
        {
          "output_type": "stream",
          "name": "stdout",
          "text": [
            "Cross-validation scores: [0.9103139  0.92376682 0.93273543 0.92825112 0.91928251]\n",
            "Mean CV accuracy: 92.2870%\n"
          ]
        }
      ]
    },
    {
      "cell_type": "code",
      "source": [
        "# Define the XGBoost classifier\n",
        "xgboost = XGBClassifier(n_estimators=275, max_depth=6, scale_pos_weight=0.5, random_state=RANDOM_SEED, n_jobs=-1)\n",
        "\n",
        "# Define the StratifiedKFold\n",
        "stratified_kfold = StratifiedKFold(n_splits=5, shuffle=True, random_state=RANDOM_SEED)\n",
        "\n",
        "# Perform cross-validation with 5 folds\n",
        "f1_scorer = make_scorer(f1_score)\n",
        "cv_scores_f1 = cross_val_score(xgboost, X, y, scoring=f1_scorer, cv=stratified_kfold)\n",
        "\n",
        "# Print the mean cross-validation score\n",
        "print(\"Cross-validation F1 scores:\", cv_scores_f1) # Score of 1 indicates perfect precision and recall\n",
        "print(f\"Mean CV F1 score: {cv_scores_f1.mean():.4f}\")"
      ],
      "metadata": {
        "colab": {
          "base_uri": "https://localhost:8080/"
        },
        "id": "LNXiHcIV1Vn0",
        "outputId": "7df6c3ca-0e16-448f-fde6-eec0d3401635"
      },
      "execution_count": null,
      "outputs": [
        {
          "output_type": "stream",
          "name": "stdout",
          "text": [
            "Cross-validation F1 scores: [0.93421053 0.94352159 0.94809689 0.94701987 0.94117647]\n",
            "Mean CV F1 score: 0.9428\n"
          ]
        }
      ]
    },
    {
      "cell_type": "code",
      "source": [
        "# Define the XGBoost classifier\n",
        "xgboost = XGBClassifier(n_estimators=275, max_depth=6, scale_pos_weight=0.75, random_state=RANDOM_SEED, n_jobs=-1)\n",
        "\n",
        "# Define the StratifiedKFold\n",
        "stratified_kfold = StratifiedKFold(n_splits=5, shuffle=True, random_state=RANDOM_SEED)\n",
        "\n",
        "# Perform cross-validation with 5 folds using stratified k-fold\n",
        "cv_scores = cross_val_score(xgboost, X, y, cv=stratified_kfold)\n",
        "\n",
        "# Print the cross-validation scores\n",
        "print(\"Cross-validation scores:\", cv_scores)\n",
        "\n",
        "# Print the mean cross-validation score\n",
        "print(f\"Mean CV accuracy: {cv_scores.mean() * 100:.4f}%\")"
      ],
      "metadata": {
        "colab": {
          "base_uri": "https://localhost:8080/"
        },
        "id": "WLJreexhtjRF",
        "outputId": "3590697e-92ff-4c01-eebd-f9ba4b96791d"
      },
      "execution_count": null,
      "outputs": [
        {
          "output_type": "stream",
          "name": "stdout",
          "text": [
            "Cross-validation scores: [0.92376682 0.92376682 0.95515695 0.92376682 0.9103139 ]\n",
            "Mean CV accuracy: 92.7354%\n"
          ]
        }
      ]
    },
    {
      "cell_type": "code",
      "source": [
        "# Define the XGBoost classifier\n",
        "xgboost = XGBClassifier(n_estimators=275, max_depth=6, scale_pos_weight=0.75, random_state=RANDOM_SEED, n_jobs=-1)\n",
        "\n",
        "# Define the StratifiedKFold\n",
        "stratified_kfold = StratifiedKFold(n_splits=5, shuffle=True, random_state=RANDOM_SEED)\n",
        "\n",
        "# Perform cross-validation with 5 folds\n",
        "f1_scorer = make_scorer(f1_score)\n",
        "cv_scores_f1 = cross_val_score(xgboost, X, y, scoring=f1_scorer, cv=stratified_kfold)\n",
        "\n",
        "# Print the mean cross-validation score\n",
        "print(\"Cross-validation F1 scores:\", cv_scores_f1) # Score of 1 indicates perfect precision and recall\n",
        "print(f\"Mean CV F1 score: {cv_scores_f1.mean():.4f}\")"
      ],
      "metadata": {
        "colab": {
          "base_uri": "https://localhost:8080/"
        },
        "id": "8KK3MPcMx29-",
        "outputId": "76caf043-614d-410d-a44b-c88d3b35c6e9"
      },
      "execution_count": null,
      "outputs": [
        {
          "output_type": "stream",
          "name": "stdout",
          "text": [
            "Cross-validation F1 scores: [0.94462541 0.94389439 0.96598639 0.9442623  0.93421053]\n",
            "Mean CV F1 score: 0.9466\n"
          ]
        }
      ]
    },
    {
      "cell_type": "code",
      "source": [
        "# Define the XGBoost classifier\n",
        "xgboost = XGBClassifier(n_estimators=275, max_depth=6, scale_pos_weight=0.95, random_state=RANDOM_SEED, n_jobs=-1)\n",
        "\n",
        "# Define the StratifiedKFold\n",
        "stratified_kfold = StratifiedKFold(n_splits=5, shuffle=True, random_state=RANDOM_SEED)\n",
        "\n",
        "# Perform cross-validation with 5 folds using stratified k-fold\n",
        "cv_scores = cross_val_score(xgboost, X, y, cv=stratified_kfold)\n",
        "\n",
        "# Print the cross-validation scores\n",
        "print(\"Cross-validation scores:\", cv_scores)\n",
        "\n",
        "# Print the mean cross-validation score\n",
        "print(f\"Mean CV accuracy: {cv_scores.mean() * 100:.4f}%\")"
      ],
      "metadata": {
        "colab": {
          "base_uri": "https://localhost:8080/"
        },
        "id": "ehnLd25ttqWX",
        "outputId": "90ed40a6-7f39-47a9-ddde-854404d1fa67"
      },
      "execution_count": null,
      "outputs": [
        {
          "output_type": "stream",
          "name": "stdout",
          "text": [
            "Cross-validation scores: [0.91479821 0.93721973 0.94618834 0.92825112 0.91928251]\n",
            "Mean CV accuracy: 92.9148%\n"
          ]
        }
      ]
    },
    {
      "cell_type": "code",
      "source": [
        "# Define the XGBoost classifier\n",
        "xgboost = XGBClassifier(n_estimators=275, max_depth=6, scale_pos_weight=0.95, random_state=RANDOM_SEED, n_jobs=-1)\n",
        "\n",
        "# Define the StratifiedKFold\n",
        "stratified_kfold = StratifiedKFold(n_splits=5, shuffle=True, random_state=RANDOM_SEED)\n",
        "\n",
        "# Perform cross-validation with 5 folds\n",
        "f1_scorer = make_scorer(f1_score)\n",
        "cv_scores_f1 = cross_val_score(xgboost, X, y, scoring=f1_scorer, cv=stratified_kfold)\n",
        "\n",
        "# Print the mean cross-validation score\n",
        "print(\"Cross-validation F1 scores:\", cv_scores_f1) # Score of 1 indicates perfect precision and recall\n",
        "print(f\"Mean CV F1 score: {cv_scores_f1.mean():.4f}\")"
      ],
      "metadata": {
        "colab": {
          "base_uri": "https://localhost:8080/"
        },
        "id": "sXu-8oRXxaMy",
        "outputId": "5bd4a167-9a20-4695-ca49-9b37c76ee9f1"
      },
      "execution_count": null,
      "outputs": [
        {
          "output_type": "stream",
          "name": "stdout",
          "text": [
            "Cross-validation F1 scores: [0.93811075 0.95364238 0.95945946 0.94771242 0.94117647]\n",
            "Mean CV F1 score: 0.9480\n"
          ]
        }
      ]
    },
    {
      "cell_type": "code",
      "source": [
        "xgboost = XGBClassifier(n_estimators=275, max_depth=6, scale_pos_weight=0.95, random_state=RANDOM_SEED, n_jobs=-1)\n",
        "auc_and_accuracy_scores_stratified(X, y, xgboost)"
      ],
      "metadata": {
        "colab": {
          "base_uri": "https://localhost:8080/"
        },
        "id": "8ZnRiHJQKty6",
        "outputId": "a8bbfe38-7fd8-4508-d05c-f80d7df88743"
      },
      "execution_count": null,
      "outputs": [
        {
          "output_type": "stream",
          "name": "stdout",
          "text": [
            "AUC for fold 1: 0.9627\n",
            "Accuracy for fold 1: 0.9148\n",
            "\n",
            "AUC for fold 2: 0.9820\n",
            "Accuracy for fold 2: 0.9372\n",
            "\n",
            "AUC for fold 3: 0.9939\n",
            "Accuracy for fold 3: 0.9462\n",
            "\n",
            "AUC for fold 4: 0.9889\n",
            "Accuracy for fold 4: 0.9283\n",
            "\n",
            "AUC for fold 5: 0.9765\n",
            "Accuracy for fold 5: 0.9193\n",
            "\n",
            "Mean AUC score: 0.98080\n",
            "Mean accuracy score: 92.9148%\n"
          ]
        }
      ]
    },
    {
      "cell_type": "markdown",
      "metadata": {
        "id": "V3qL0MyXVSyN"
      },
      "source": [
        "### Dimensionality Reduction"
      ]
    },
    {
      "cell_type": "markdown",
      "metadata": {
        "id": "2b3O1nwVVXgy"
      },
      "source": [
        "#### PCA"
      ]
    },
    {
      "cell_type": "markdown",
      "metadata": {
        "id": "5KBrBSVq2Y_4"
      },
      "source": [
        "##### On all features"
      ]
    },
    {
      "cell_type": "code",
      "execution_count": null,
      "metadata": {
        "colab": {
          "base_uri": "https://localhost:8080/"
        },
        "id": "kP9X2DXkB1Kn",
        "outputId": "17f73f97-7594-4c67-f273-b7a0082c7990"
      },
      "outputs": [
        {
          "output_type": "execute_result",
          "data": {
            "text/plain": [
              "(1115, 3276)"
            ]
          },
          "metadata": {},
          "execution_count": 40
        }
      ],
      "source": [
        "X.shape"
      ]
    },
    {
      "cell_type": "code",
      "execution_count": null,
      "metadata": {
        "colab": {
          "base_uri": "https://localhost:8080/"
        },
        "id": "Y0ktqTkFvEYV",
        "outputId": "6bb9f48d-f552-4724-ec08-d5aae68aaebb"
      },
      "outputs": [
        {
          "output_type": "execute_result",
          "data": {
            "text/plain": [
              "(1115, 1241)"
            ]
          },
          "metadata": {},
          "execution_count": 41
        }
      ],
      "source": [
        "X_continuous = X[:, 0:1241] # 1425-184\n",
        "X_binary = X[:, 1241:]\n",
        "\n",
        "# Standardize only continuous features\n",
        "scaler = StandardScaler()\n",
        "X_standardized = scaler.fit_transform(X_continuous)\n",
        "X_standardized.shape"
      ]
    },
    {
      "cell_type": "code",
      "execution_count": null,
      "metadata": {
        "colab": {
          "base_uri": "https://localhost:8080/"
        },
        "id": "IHFZFkgF2EsC",
        "outputId": "55f49d44-e02d-4a47-da24-b5051569eafc"
      },
      "outputs": [
        {
          "output_type": "execute_result",
          "data": {
            "text/plain": [
              "(1115, 3276)"
            ]
          },
          "metadata": {},
          "execution_count": 42
        }
      ],
      "source": [
        "X_combined = np.concatenate((X_standardized, X_binary), axis=1)\n",
        "X_combined.shape"
      ]
    },
    {
      "cell_type": "code",
      "execution_count": null,
      "metadata": {
        "colab": {
          "base_uri": "https://localhost:8080/"
        },
        "id": "tV2Ou0_40HIJ",
        "outputId": "38327b16-125c-4ba5-953f-ffc3d1514933"
      },
      "outputs": [
        {
          "output_type": "stream",
          "name": "stdout",
          "text": [
            "Explained Variance Ratio is:\n",
            "[2.30620573e-01 1.26420990e-01 8.05613948e-02 ... 1.24079586e-33\n",
            " 5.20306798e-34 4.92629194e-34]\n",
            "Cumulative Explained Variance Ratio is:\n",
            "[0.23062057 0.35704156 0.43760296 ... 1.         1.         1.        ]\n",
            "To explain 90% of the variance we need at least 47 principal components.\n",
            "To explain 99% of the variance we need at least 260 principal components.\n"
          ]
        }
      ],
      "source": [
        "# Perform PCA on the dataset\n",
        "pca = PCA() # If n_components is not set all components are kept\n",
        "x_pca = pca.fit_transform(X_combined) # Fit the model with x_data and apply the dimensionality reduction on x_data\n",
        "\n",
        "# Percentage of variance explained by each of the selected components\n",
        "explained_variance_ratio = pca.explained_variance_ratio_\n",
        "print(f\"Explained Variance Ratio is:\\n{explained_variance_ratio}\")\n",
        "\n",
        "# Percentage of the cumulative explained variance ratio, total variance explaied by component n and all the previous components\n",
        "cumulative_explained_variance = np.cumsum(explained_variance_ratio)\n",
        "print(f\"Cumulative Explained Variance Ratio is:\\n{cumulative_explained_variance}\")\n",
        "\n",
        "# Find the index of which component can achieve cumulative variance >= 90%, + 1 because list index starts from 0\n",
        "min_components_90 = np.argmax(cumulative_explained_variance >= 0.9) + 1\n",
        "# Find the index of which component can achieve cumulative variance >= 99%, + 1 because list index starts from 0\n",
        "min_components_99 = np.argmax(cumulative_explained_variance >= 0.99) + 1\n",
        "\n",
        "print(f\"To explain 90% of the variance we need at least {min_components_90} principal components.\")\n",
        "print(f\"To explain 99% of the variance we need at least {min_components_99} principal components.\")"
      ]
    },
    {
      "cell_type": "code",
      "execution_count": null,
      "metadata": {
        "colab": {
          "base_uri": "https://localhost:8080/"
        },
        "id": "fRg0pdLzVXos",
        "outputId": "2048396e-9898-46a3-b104-69873de56e2d"
      },
      "outputs": [
        {
          "output_type": "execute_result",
          "data": {
            "text/plain": [
              "(1115, 260)"
            ]
          },
          "metadata": {},
          "execution_count": 45
        }
      ],
      "source": [
        "# Apply PCA\n",
        "n_components = 260  # Number of components, the maximum number is min(features, samples)\n",
        "pca = PCA(n_components=n_components)\n",
        "X_pca = pca.fit_transform(X_combined) # X_combined (n_samples, n_features)\n",
        "\n",
        "# Create a new DataFrame with the PCA components\n",
        "X_pca.shape"
      ]
    },
    {
      "cell_type": "code",
      "execution_count": null,
      "metadata": {
        "colab": {
          "base_uri": "https://localhost:8080/"
        },
        "id": "ZsTx4SKxsZ1V",
        "outputId": "fcf46890-9013-48d6-d09c-bc40dd8accd0"
      },
      "outputs": [
        {
          "output_type": "stream",
          "name": "stdout",
          "text": [
            "Cross-validation scores: [0.88340807 0.9103139  0.89686099 0.91479821 0.90134529]\n",
            "Mean CV accuracy: 90.1345%\n"
          ]
        }
      ],
      "source": [
        "# Random Forest\n",
        "random_forest = RandomForestClassifier(n_estimators=350, max_depth=12, random_state=RANDOM_SEED)\n",
        "\n",
        "# Perform cross-validation with 5 folds\n",
        "cv_scores = cross_val_score(random_forest, X_pca, y, cv=5)\n",
        "\n",
        "# Print the cross-validation scores\n",
        "print(\"Cross-validation scores:\", cv_scores)\n",
        "\n",
        "# Print the mean cross-validation score\n",
        "print(f\"Mean CV accuracy: {cv_scores.mean() * 100:.4f}%\")"
      ]
    },
    {
      "cell_type": "code",
      "source": [
        "# Random Forest, F1 Score\n",
        "random_forest = RandomForestClassifier(n_estimators=350, max_depth=12, random_state=RANDOM_SEED)\n",
        "\n",
        "# Perform cross-validation with 5 folds\n",
        "f1_scorer = make_scorer(f1_score)\n",
        "cv_scores_f1 = cross_val_score(random_forest, X_pca, y, cv=5, scoring=f1_scorer)\n",
        "\n",
        "# Print the mean cross-validation score\n",
        "print(\"Cross-validation F1 scores:\", cv_scores_f1) # Score of 1 indicates perfect precision and recall\n",
        "print(f\"Mean CV F1 score: {cv_scores_f1.mean():.4f}\")"
      ],
      "metadata": {
        "colab": {
          "base_uri": "https://localhost:8080/"
        },
        "id": "VaYe-HW2R6gG",
        "outputId": "3278f522-5c10-4d3a-bb4d-fc165b825108"
      },
      "execution_count": null,
      "outputs": [
        {
          "output_type": "stream",
          "name": "stdout",
          "text": [
            "Cross-validation F1 scores: [0.91612903 0.93506494 0.92744479 0.93890675 0.93037975]\n",
            "Mean CV F1 score: 0.9296\n"
          ]
        }
      ]
    },
    {
      "cell_type": "code",
      "execution_count": null,
      "metadata": {
        "colab": {
          "base_uri": "https://localhost:8080/"
        },
        "id": "Kj9QkvO0GbWk",
        "outputId": "ff686da5-54c6-486c-c1e0-abafebc114f7"
      },
      "outputs": [
        {
          "output_type": "stream",
          "name": "stdout",
          "text": [
            "Cross-validation scores: [0.89686099 0.92376682 0.9058296  0.9058296  0.9058296 ]\n",
            "Mean CV accuracy: 90.7623%\n"
          ]
        }
      ],
      "source": [
        "# XGBoost\n",
        "xgboost = XGBClassifier(n_estimators=275, max_depth=6, random_state=RANDOM_SEED, n_jobs=-1)\n",
        "\n",
        "# Perform cross-validation with 5 folds\n",
        "cv_scores = cross_val_score(xgboost, X_pca, y, cv=5)\n",
        "\n",
        "# Print the cross-validation scores\n",
        "print(\"Cross-validation scores:\", cv_scores)\n",
        "\n",
        "# Print the mean cross-validation score\n",
        "print(f\"Mean CV accuracy: {cv_scores.mean() * 100:.4f}%\")"
      ]
    },
    {
      "cell_type": "code",
      "source": [
        "# XGBoost, F1 Score\n",
        "xgboost = XGBClassifier(n_estimators=275, max_depth=6, random_state=RANDOM_SEED, n_jobs=-1)\n",
        "\n",
        "# Perform cross-validation with 5 folds\n",
        "f1_scorer = make_scorer(f1_score)\n",
        "cv_scores_f1 = cross_val_score(xgboost, X_pca, y, cv=5, scoring=f1_scorer)\n",
        "\n",
        "# Print the mean cross-validation score\n",
        "print(\"Cross-validation F1 scores:\", cv_scores_f1) # Score of 1 indicates perfect precision and recall\n",
        "print(f\"Mean CV F1 score: {cv_scores_f1.mean():.4f}\")"
      ],
      "metadata": {
        "colab": {
          "base_uri": "https://localhost:8080/"
        },
        "id": "VaJRieNcSSIe",
        "outputId": "01e0be77-e058-4764-f715-1c16370c4ab5"
      },
      "execution_count": null,
      "outputs": [
        {
          "output_type": "stream",
          "name": "stdout",
          "text": [
            "Cross-validation F1 scores: [0.92307692 0.94389439 0.93114754 0.93159609 0.93203883]\n",
            "Mean CV F1 score: 0.9324\n"
          ]
        }
      ]
    },
    {
      "cell_type": "markdown",
      "metadata": {
        "id": "t-3LMSII2fBp"
      },
      "source": [
        "##### Only on continuous features"
      ]
    },
    {
      "cell_type": "code",
      "execution_count": null,
      "metadata": {
        "colab": {
          "base_uri": "https://localhost:8080/"
        },
        "id": "ASYswQyA2fBy",
        "outputId": "3b23818b-be0d-4e3b-bc19-2df3ca5e8429"
      },
      "outputs": [
        {
          "output_type": "execute_result",
          "data": {
            "text/plain": [
              "(1115, 3276)"
            ]
          },
          "metadata": {},
          "execution_count": 46
        }
      ],
      "source": [
        "X.shape"
      ]
    },
    {
      "cell_type": "code",
      "execution_count": null,
      "metadata": {
        "colab": {
          "base_uri": "https://localhost:8080/"
        },
        "id": "wa_bK_cl2fBz",
        "outputId": "ad8859e5-e582-4e3a-a15a-4196da686f9c"
      },
      "outputs": [
        {
          "output_type": "execute_result",
          "data": {
            "text/plain": [
              "(1115, 1241)"
            ]
          },
          "metadata": {},
          "execution_count": 47
        }
      ],
      "source": [
        "X_continuous = X[:, 0:1241] # 1425-184\n",
        "X_binary = X[:, 1241:]\n",
        "\n",
        "# Standardize only constant features\n",
        "scaler = StandardScaler()\n",
        "X_standardized = scaler.fit_transform(X_continuous)\n",
        "X_standardized.shape"
      ]
    },
    {
      "cell_type": "code",
      "execution_count": null,
      "metadata": {
        "colab": {
          "base_uri": "https://localhost:8080/"
        },
        "id": "tMXaMv-f2fBz",
        "outputId": "7d5fe0dc-ea64-4c29-9234-f2c2cd2b6e73"
      },
      "outputs": [
        {
          "output_type": "stream",
          "name": "stdout",
          "text": [
            "Explained Variance Ratio is:\n",
            "[2.78423416e-01 1.40632495e-01 9.02391163e-02 ... 1.63312985e-33\n",
            " 1.63312985e-33 7.91538110e-34]\n",
            "Cumulative Explained Variance Ratio is:\n",
            "[0.27842342 0.41905591 0.50929503 ... 1.         1.         1.        ]\n",
            "To explain 90% of the variance we need at least 27 principal components.\n",
            "To explain 99% of the variance we need at least 97 principal components.\n"
          ]
        }
      ],
      "source": [
        "# Perform PCA on the dataset\n",
        "pca = PCA() # If n_components is not set all components are kept\n",
        "x_pca = pca.fit_transform(X_standardized) # Fit the model with x_data and apply the dimensionality reduction on x_data\n",
        "\n",
        "# Percentage of variance explained by each of the selected components\n",
        "explained_variance_ratio = pca.explained_variance_ratio_\n",
        "print(f\"Explained Variance Ratio is:\\n{explained_variance_ratio}\")\n",
        "\n",
        "# Percentage of the cumulative explained variance ratio, total variance explaied by component n and all the previous components\n",
        "cumulative_explained_variance = np.cumsum(explained_variance_ratio)\n",
        "print(f\"Cumulative Explained Variance Ratio is:\\n{cumulative_explained_variance}\")\n",
        "\n",
        "# Find the index of which component can achieve cumulative variance >= 90%, + 1 because list index starts from 0\n",
        "min_components_90 = np.argmax(cumulative_explained_variance >= 0.9) + 1\n",
        "# Find the index of which component can achieve cumulative variance >= 99%, + 1 because list index starts from 0\n",
        "min_components_99 = np.argmax(cumulative_explained_variance >= 0.99) + 1\n",
        "\n",
        "print(f\"To explain 90% of the variance we need at least {min_components_90} principal components.\")\n",
        "print(f\"To explain 99% of the variance we need at least {min_components_99} principal components.\")"
      ]
    },
    {
      "cell_type": "code",
      "execution_count": null,
      "metadata": {
        "colab": {
          "base_uri": "https://localhost:8080/"
        },
        "id": "UTPkR1K82fB0",
        "outputId": "9305c948-9d77-4ed8-c908-9e5d1e137e56"
      },
      "outputs": [
        {
          "output_type": "execute_result",
          "data": {
            "text/plain": [
              "(1115, 97)"
            ]
          },
          "metadata": {},
          "execution_count": 49
        }
      ],
      "source": [
        "# Apply PCA\n",
        "n_components = 97  # Number of components, the maximum number is min(features, samples)\n",
        "pca = PCA(n_components=n_components)\n",
        "X_pca = pca.fit_transform(X_standardized) # X_combined (n_samples, n_features)\n",
        "\n",
        "# Create a new DataFrame with the PCA components\n",
        "X_pca.shape"
      ]
    },
    {
      "cell_type": "code",
      "execution_count": null,
      "metadata": {
        "colab": {
          "base_uri": "https://localhost:8080/"
        },
        "id": "1eCPYs6Z2fBz",
        "outputId": "4e5a80e5-85d8-445e-f76f-8fb18b2ccfff"
      },
      "outputs": [
        {
          "output_type": "execute_result",
          "data": {
            "text/plain": [
              "(1115, 2132)"
            ]
          },
          "metadata": {},
          "execution_count": 50
        }
      ],
      "source": [
        "X_combined = np.concatenate((X_pca, X_binary), axis=1)\n",
        "X_combined.shape"
      ]
    },
    {
      "cell_type": "code",
      "execution_count": null,
      "metadata": {
        "colab": {
          "base_uri": "https://localhost:8080/"
        },
        "id": "heX_Pdur2fB0",
        "outputId": "ca257bad-53bc-40b8-fe30-2b23659bf3e9"
      },
      "outputs": [
        {
          "output_type": "stream",
          "name": "stdout",
          "text": [
            "Cross-validation scores: [0.91928251 0.93721973 0.93721973 0.9103139  0.91928251]\n",
            "Mean CV accuracy: 92.4664%\n"
          ]
        }
      ],
      "source": [
        "# Random Forest\n",
        "random_forest = RandomForestClassifier(n_estimators=350, max_depth=12, random_state=RANDOM_SEED)\n",
        "\n",
        "# Perform cross-validation with 5 folds\n",
        "cv_scores = cross_val_score(random_forest, X_combined, y, cv=5)\n",
        "\n",
        "# Print the cross-validation scores\n",
        "print(\"Cross-validation scores:\", cv_scores)\n",
        "\n",
        "# Print the mean cross-validation score\n",
        "print(f\"Mean CV accuracy: {cv_scores.mean() * 100:.4f}%\")"
      ]
    },
    {
      "cell_type": "code",
      "source": [
        "# Random Forest, F1 Score\n",
        "random_forest = RandomForestClassifier(n_estimators=350, max_depth=12, random_state=RANDOM_SEED)\n",
        "\n",
        "# Perform cross-validation with 5 folds\n",
        "f1_scorer = make_scorer(f1_score)\n",
        "cv_scores_f1 = cross_val_score(random_forest, X_combined, y, cv=5, scoring=f1_scorer)\n",
        "\n",
        "# Print the mean cross-validation score\n",
        "print(\"Cross-validation F1 scores:\", cv_scores_f1) # Score of 1 indicates perfect precision and recall\n",
        "print(f\"Mean CV F1 score: {cv_scores_f1.mean():.4f}\")"
      ],
      "metadata": {
        "colab": {
          "base_uri": "https://localhost:8080/"
        },
        "id": "TzdhtExBS4Vw",
        "outputId": "7a2deeac-1379-4346-fccc-fa7d55b48618"
      },
      "execution_count": null,
      "outputs": [
        {
          "output_type": "stream",
          "name": "stdout",
          "text": [
            "Cross-validation F1 scores: [0.94       0.95394737 0.95424837 0.93548387 0.94230769]\n",
            "Mean CV F1 score: 0.9452\n"
          ]
        }
      ]
    },
    {
      "cell_type": "code",
      "execution_count": null,
      "metadata": {
        "colab": {
          "base_uri": "https://localhost:8080/"
        },
        "id": "XRv8I_xC2fB0",
        "outputId": "df4c99b0-5a11-4d46-8390-b452578b7056"
      },
      "outputs": [
        {
          "output_type": "stream",
          "name": "stdout",
          "text": [
            "Cross-validation scores: [0.87892377 0.92825112 0.92376682 0.9103139  0.91928251]\n",
            "Mean CV accuracy: 91.2108%\n"
          ]
        }
      ],
      "source": [
        "# XGBoost\n",
        "xgboost = XGBClassifier(n_estimators=275, max_depth=6, random_state=RANDOM_SEED, n_jobs=-1)\n",
        "\n",
        "# Perform cross-validation with 5 folds\n",
        "cv_scores = cross_val_score(xgboost, X_combined, y, cv=5)\n",
        "\n",
        "# Print the cross-validation scores\n",
        "print(\"Cross-validation scores:\", cv_scores)\n",
        "\n",
        "# Print the mean cross-validation score\n",
        "print(f\"Mean CV accuracy: {cv_scores.mean() * 100:.4f}%\")"
      ]
    },
    {
      "cell_type": "code",
      "source": [
        "# XGBoost, F1 Score\n",
        "xgboost = XGBClassifier(n_estimators=275, max_depth=6, random_state=RANDOM_SEED, n_jobs=-1)\n",
        "\n",
        "# Perform cross-validation with 5 folds\n",
        "f1_scorer = make_scorer(f1_score)\n",
        "cv_scores_f1 = cross_val_score(xgboost, X_combined, y, cv=5, scoring=f1_scorer)\n",
        "\n",
        "# Print the mean cross-validation score\n",
        "print(\"Cross-validation F1 scores:\", cv_scores_f1) # Score of 1 indicates perfect precision and recall\n",
        "print(f\"Mean CV F1 score: {cv_scores_f1.mean():.4f}\")"
      ],
      "metadata": {
        "colab": {
          "base_uri": "https://localhost:8080/"
        },
        "id": "t8fk38-PS7n1",
        "outputId": "bbbe30c5-0d52-425d-bb91-c30f788678b3"
      },
      "execution_count": null,
      "outputs": [
        {
          "output_type": "stream",
          "name": "stdout",
          "text": [
            "Cross-validation F1 scores: [0.909699   0.94771242 0.94462541 0.93506494 0.94193548]\n",
            "Mean CV F1 score: 0.9358\n"
          ]
        }
      ]
    },
    {
      "cell_type": "markdown",
      "metadata": {
        "id": "KEUx7IZYVXvP"
      },
      "source": [
        "#### Autoencoder"
      ]
    },
    {
      "cell_type": "markdown",
      "metadata": {
        "id": "9iQnLYuj5eS-"
      },
      "source": [
        "##### On binary features"
      ]
    },
    {
      "cell_type": "code",
      "execution_count": null,
      "metadata": {
        "colab": {
          "base_uri": "https://localhost:8080/"
        },
        "outputId": "31d66ae0-9a10-48f0-a404-d23627472c60",
        "id": "F5b3ejUx5eS-"
      },
      "outputs": [
        {
          "output_type": "execute_result",
          "data": {
            "text/plain": [
              "(1115, 3276)"
            ]
          },
          "metadata": {},
          "execution_count": 51
        }
      ],
      "source": [
        "X.shape"
      ]
    },
    {
      "cell_type": "code",
      "source": [
        "X_binary = X[:, 1241:] # 1425-184"
      ],
      "metadata": {
        "id": "jPewEFiB5eS_"
      },
      "execution_count": null,
      "outputs": []
    },
    {
      "cell_type": "code",
      "source": [
        "X_binary.shape"
      ],
      "metadata": {
        "colab": {
          "base_uri": "https://localhost:8080/"
        },
        "outputId": "ca1e9741-555b-4193-d776-8a090f78c912",
        "id": "HpxlMsPW5eS_"
      },
      "execution_count": null,
      "outputs": [
        {
          "output_type": "execute_result",
          "data": {
            "text/plain": [
              "(1115, 2035)"
            ]
          },
          "metadata": {},
          "execution_count": 53
        }
      ]
    },
    {
      "cell_type": "code",
      "execution_count": null,
      "metadata": {
        "colab": {
          "base_uri": "https://localhost:8080/"
        },
        "outputId": "d795fdaa-73ca-49ce-c538-b44b141a4035",
        "id": "Z1qV_YJLUs97"
      },
      "outputs": [
        {
          "output_type": "execute_result",
          "data": {
            "text/plain": [
              "(1115, 1241)"
            ]
          },
          "metadata": {},
          "execution_count": 54
        }
      ],
      "source": [
        "X_continuous = X[:, 0:1241] # 1425-184\n",
        "\n",
        "# Standardize only continuous features\n",
        "scaler = StandardScaler()\n",
        "X_standardized = scaler.fit_transform(X_continuous)\n",
        "X_standardized.shape"
      ]
    },
    {
      "cell_type": "code",
      "execution_count": null,
      "metadata": {
        "colab": {
          "base_uri": "https://localhost:8080/"
        },
        "outputId": "dddda12b-bf3c-41a5-de4b-ce26ae0b5616",
        "id": "pbwCtX5YUs98"
      },
      "outputs": [
        {
          "output_type": "execute_result",
          "data": {
            "text/plain": [
              "(1115, 3276)"
            ]
          },
          "metadata": {},
          "execution_count": 55
        }
      ],
      "source": [
        "X_combined = np.concatenate((X_standardized, X_binary), axis=1)\n",
        "X_combined.shape"
      ]
    },
    {
      "cell_type": "code",
      "execution_count": null,
      "metadata": {
        "colab": {
          "base_uri": "https://localhost:8080/"
        },
        "outputId": "0056fc45-af91-49af-b205-5988c0771b53",
        "id": "m5QVSAsZ5eTA"
      },
      "outputs": [
        {
          "output_type": "stream",
          "name": "stdout",
          "text": [
            "Number of batches is 35\n"
          ]
        }
      ],
      "source": [
        "X_tensor = torch.FloatTensor(X_binary)\n",
        "y_tensor = torch.LongTensor(y)\n",
        "\n",
        "batch_size = 32\n",
        "\n",
        "dataset = torch.utils.data.TensorDataset(X_tensor, y_tensor)\n",
        "dataloader = DataLoader(dataset, batch_size=batch_size, shuffle=True)\n",
        "print(f\"Number of batches is {len(dataloader)}\")"
      ]
    },
    {
      "cell_type": "code",
      "execution_count": null,
      "metadata": {
        "id": "aNZl-Dbn5eTA"
      },
      "outputs": [],
      "source": [
        "# Set device (GPU if available, else CPU)\n",
        "device = torch.device(\"cuda\" if torch.cuda.is_available() else \"cpu\")\n",
        "\n",
        "# Define the autoencoder architecture separately in order to easily retrieve latent representations\n",
        "class Autoencoder(nn.Module):\n",
        "    def __init__(self, input_size, latent_size):\n",
        "        super(Autoencoder, self).__init__()\n",
        "        self.encoder = nn.Sequential(\n",
        "            nn.Linear(input_size, 1500),\n",
        "            nn.ReLU(),\n",
        "            nn.Linear(1500, latent_size)\n",
        "        )\n",
        "        self.decoder = nn.Sequential(\n",
        "            nn.Linear(latent_size, 1500),\n",
        "            nn.ReLU(),\n",
        "            nn.Linear(1500, input_size),\n",
        "            nn.Sigmoid()\n",
        "        )\n",
        "\n",
        "    # Define forward pass as an encoding followed by decoding\n",
        "    def forward(self, x):\n",
        "        x = self.encoder(x)\n",
        "        x = self.decoder(x)\n",
        "        return x"
      ]
    },
    {
      "cell_type": "code",
      "execution_count": null,
      "metadata": {
        "colab": {
          "base_uri": "https://localhost:8080/"
        },
        "outputId": "ee2e8bb7-0203-47fb-abd4-b7b1499406a2",
        "id": "7viqgQVo5eTA"
      },
      "outputs": [
        {
          "output_type": "stream",
          "name": "stdout",
          "text": [
            "Epoch [1/35], Loss: 0.0837\n",
            "Epoch [2/35], Loss: 0.0782\n",
            "Epoch [3/35], Loss: 0.0494\n",
            "Epoch [4/35], Loss: 0.0599\n",
            "Epoch [5/35], Loss: 0.0469\n",
            "Epoch [6/35], Loss: 0.0331\n",
            "Epoch [7/35], Loss: 0.0359\n",
            "Epoch [8/35], Loss: 0.0371\n",
            "Epoch [9/35], Loss: 0.0271\n",
            "Epoch [10/35], Loss: 0.0267\n",
            "Epoch [11/35], Loss: 0.0201\n",
            "Epoch [12/35], Loss: 0.0218\n",
            "Epoch [13/35], Loss: 0.0189\n",
            "Epoch [14/35], Loss: 0.0184\n",
            "Epoch [15/35], Loss: 0.0198\n",
            "Epoch [16/35], Loss: 0.0177\n",
            "Epoch [17/35], Loss: 0.0155\n",
            "Epoch [18/35], Loss: 0.0121\n",
            "Epoch [19/35], Loss: 0.0120\n",
            "Epoch [20/35], Loss: 0.0119\n",
            "Epoch [21/35], Loss: 0.0114\n",
            "Epoch [22/35], Loss: 0.0090\n",
            "Epoch [23/35], Loss: 0.0110\n",
            "Epoch [24/35], Loss: 0.0106\n",
            "Epoch [25/35], Loss: 0.0090\n",
            "Epoch [26/35], Loss: 0.0088\n",
            "Epoch [27/35], Loss: 0.0089\n",
            "Epoch [28/35], Loss: 0.0102\n",
            "Epoch [29/35], Loss: 0.0091\n",
            "Epoch [30/35], Loss: 0.0107\n",
            "Epoch [31/35], Loss: 0.0074\n",
            "Epoch [32/35], Loss: 0.0090\n",
            "Epoch [33/35], Loss: 0.0100\n",
            "Epoch [34/35], Loss: 0.0113\n",
            "Epoch [35/35], Loss: 0.0063\n"
          ]
        }
      ],
      "source": [
        "# Hyperparameters\n",
        "input_size = 2035\n",
        "latent_size = 1200\n",
        "learning_rate = 0.001\n",
        "num_epochs = 35\n",
        "\n",
        "# Initialize the autoencoder\n",
        "model1 = Autoencoder(input_size, latent_size).to(device)\n",
        "\n",
        "# Define loss function and optimizer\n",
        "criterion = nn.MSELoss() # MSE is the standard reconstruction-oriented loss\n",
        "optimizer = optim.Adam(model1.parameters(), lr=learning_rate)\n",
        "\n",
        "scheduler = lr_scheduler.StepLR(optimizer, step_size=10, gamma=0.8)\n",
        "\n",
        "# Training the autoencoder\n",
        "for epoch in range(num_epochs):\n",
        "    for data in dataloader:\n",
        "        inputs, _ = data\n",
        "        inputs = inputs.to(device)\n",
        "\n",
        "        # Forward pass\n",
        "        output = model1(inputs)\n",
        "\n",
        "        # Compute the loss\n",
        "        loss = criterion(output, inputs)\n",
        "\n",
        "        # Backward pass and optimization\n",
        "        optimizer.zero_grad()\n",
        "        loss.backward()\n",
        "        optimizer.step()\n",
        "\n",
        "    scheduler.step()\n",
        "\n",
        "    # Print the loss for every epoch\n",
        "    print(f'Epoch [{epoch+1}/{num_epochs}], Loss: {loss.item():.4f}')"
      ]
    },
    {
      "cell_type": "markdown",
      "source": [
        "##### Encode and make predictions"
      ],
      "metadata": {
        "id": "sVlCh67C7ke3"
      }
    },
    {
      "cell_type": "code",
      "source": [
        "# Binary\n",
        "X_tensor = torch.FloatTensor(X_binary)\n",
        "y_tensor = torch.LongTensor(y)\n",
        "\n",
        "batch_size = 32\n",
        "\n",
        "encoded_list = []\n",
        "\n",
        "dataset = torch.utils.data.TensorDataset(X_tensor, y_tensor)\n",
        "dataloader = DataLoader(dataset, batch_size=batch_size, shuffle=True)\n",
        "\n",
        "with torch.inference_mode():\n",
        "    for data in dataloader:\n",
        "        inputs, labels = data\n",
        "        inputs = inputs.to(device)\n",
        "\n",
        "        # Encode the input images\n",
        "        encoded = model1.encoder(inputs)\n",
        "\n",
        "        # Convert encoded to NumPy array and append to the list\n",
        "        encoded_list.append(encoded.cpu().detach().numpy())\n",
        "\n",
        "# Concatenate the list of NumPy arrays into a single NumPy array\n",
        "encoded_numpy = np.concatenate(encoded_list, axis=0)"
      ],
      "metadata": {
        "id": "Lb-gYEcr8RsG"
      },
      "execution_count": null,
      "outputs": []
    },
    {
      "cell_type": "code",
      "source": [
        "encoded_numpy.shape"
      ],
      "metadata": {
        "colab": {
          "base_uri": "https://localhost:8080/"
        },
        "id": "XEojvZyS9Fmo",
        "outputId": "d7fe8dfe-923c-42f1-9485-d75bff38cba7"
      },
      "execution_count": null,
      "outputs": [
        {
          "output_type": "execute_result",
          "data": {
            "text/plain": [
              "(1115, 1200)"
            ]
          },
          "metadata": {},
          "execution_count": 60
        }
      ]
    },
    {
      "cell_type": "code",
      "source": [
        "X_combined = np.concatenate((X_standardized, encoded_numpy), axis=1)\n",
        "X_combined.shape"
      ],
      "metadata": {
        "colab": {
          "base_uri": "https://localhost:8080/"
        },
        "id": "XX6H9y-T_gF3",
        "outputId": "4cb69d07-6f97-4d55-a5e0-7cbc17403d52"
      },
      "execution_count": null,
      "outputs": [
        {
          "output_type": "execute_result",
          "data": {
            "text/plain": [
              "(1115, 2441)"
            ]
          },
          "metadata": {},
          "execution_count": 61
        }
      ]
    },
    {
      "cell_type": "code",
      "execution_count": null,
      "metadata": {
        "colab": {
          "base_uri": "https://localhost:8080/"
        },
        "outputId": "aa30d890-e4ab-4742-cfea-3e72f9d6c009",
        "id": "loeSBsu2T1sk"
      },
      "outputs": [
        {
          "output_type": "stream",
          "name": "stdout",
          "text": [
            "Cross-validation scores: [0.88340807 0.91928251 0.91479821 0.9058296  0.89686099]\n",
            "Mean CV accuracy: 90.4036%\n"
          ]
        }
      ],
      "source": [
        "# Random Forest\n",
        "random_forest = RandomForestClassifier(n_estimators=350, max_depth=12, random_state=RANDOM_SEED)\n",
        "\n",
        "# Perform cross-validation with 5 folds\n",
        "cv_scores = cross_val_score(random_forest, X_combined, y, cv=5)\n",
        "\n",
        "# Print the cross-validation scores\n",
        "print(\"Cross-validation scores:\", cv_scores)\n",
        "\n",
        "# Print the mean cross-validation score\n",
        "print(f\"Mean CV accuracy: {cv_scores.mean() * 100:.4f}%\")"
      ]
    },
    {
      "cell_type": "code",
      "source": [
        "# Random Forest, F1 Score\n",
        "random_forest = RandomForestClassifier(n_estimators=350, max_depth=12, random_state=RANDOM_SEED)\n",
        "\n",
        "# Perform cross-validation with 5 folds\n",
        "f1_scorer = make_scorer(f1_score)\n",
        "cv_scores_f1 = cross_val_score(random_forest, X_combined, y, cv=5, scoring=f1_scorer)\n",
        "\n",
        "# Print the mean cross-validation score\n",
        "print(\"Cross-validation F1 scores:\", cv_scores_f1) # Score of 1 indicates perfect precision and recall\n",
        "print(f\"Mean CV F1 score: {cv_scores_f1.mean():.4f}\")"
      ],
      "metadata": {
        "colab": {
          "base_uri": "https://localhost:8080/"
        },
        "outputId": "ccae90f7-9715-4edd-f272-3d889f3a29bf",
        "id": "-fH-xOH5T1s0"
      },
      "execution_count": null,
      "outputs": [
        {
          "output_type": "stream",
          "name": "stdout",
          "text": [
            "Cross-validation F1 scores: [0.91612903 0.94117647 0.93890675 0.93203883 0.92789969]\n",
            "Mean CV F1 score: 0.9312\n"
          ]
        }
      ]
    },
    {
      "cell_type": "code",
      "execution_count": null,
      "metadata": {
        "colab": {
          "base_uri": "https://localhost:8080/"
        },
        "outputId": "462c702c-97bd-45ba-c10c-a955335f3e6a",
        "id": "Zfte2j9nT1s0"
      },
      "outputs": [
        {
          "output_type": "stream",
          "name": "stdout",
          "text": [
            "Cross-validation scores: [0.88340807 0.91928251 0.9058296  0.9103139  0.91479821]\n",
            "Mean CV accuracy: 90.6726%\n"
          ]
        }
      ],
      "source": [
        "# XGBoost\n",
        "xgboost = XGBClassifier(n_estimators=275, max_depth=6, random_state=RANDOM_SEED, n_jobs=-1)\n",
        "\n",
        "# Perform cross-validation with 5 folds\n",
        "cv_scores = cross_val_score(xgboost, X_combined, y, cv=5)\n",
        "\n",
        "# Print the cross-validation scores\n",
        "print(\"Cross-validation scores:\", cv_scores)\n",
        "\n",
        "# Print the mean cross-validation score\n",
        "print(f\"Mean CV accuracy: {cv_scores.mean() * 100:.4f}%\")"
      ]
    },
    {
      "cell_type": "code",
      "source": [
        "# XGBoost, F1 Score\n",
        "xgboost = XGBClassifier(n_estimators=275, max_depth=6, random_state=RANDOM_SEED, n_jobs=-1)\n",
        "\n",
        "# Perform cross-validation with 5 folds\n",
        "f1_scorer = make_scorer(f1_score)\n",
        "cv_scores_f1 = cross_val_score(xgboost, X_combined, y, cv=5, scoring=f1_scorer)\n",
        "\n",
        "# Print the mean cross-validation score\n",
        "print(\"Cross-validation F1 scores:\", cv_scores_f1) # Score of 1 indicates perfect precision and recall\n",
        "print(f\"Mean CV F1 score: {cv_scores_f1.mean():.4f}\")"
      ],
      "metadata": {
        "colab": {
          "base_uri": "https://localhost:8080/"
        },
        "outputId": "8d594841-44ca-476b-bf66-9fcaf36acf26",
        "id": "rv5LyXJ9T1s1"
      },
      "execution_count": null,
      "outputs": [
        {
          "output_type": "stream",
          "name": "stdout",
          "text": [
            "Cross-validation F1 scores: [0.91275168 0.94039735 0.93203883 0.93377483 0.93890675]\n",
            "Mean CV F1 score: 0.9316\n"
          ]
        }
      ]
    },
    {
      "cell_type": "markdown",
      "source": [
        "#### Autoencoder and PCA"
      ],
      "metadata": {
        "id": "XuPAoYwxWHZv"
      }
    },
    {
      "cell_type": "code",
      "source": [
        "X_combined = np.concatenate((X_pca, encoded_numpy), axis=1)\n",
        "X_combined.shape"
      ],
      "metadata": {
        "colab": {
          "base_uri": "https://localhost:8080/"
        },
        "id": "8Tiw4bilBwUs",
        "outputId": "939d6aea-8d88-4c98-f851-458a3da09504"
      },
      "execution_count": null,
      "outputs": [
        {
          "output_type": "execute_result",
          "data": {
            "text/plain": [
              "(1115, 1297)"
            ]
          },
          "metadata": {},
          "execution_count": 62
        }
      ]
    },
    {
      "cell_type": "code",
      "execution_count": null,
      "metadata": {
        "colab": {
          "base_uri": "https://localhost:8080/"
        },
        "id": "23t0wZ-aWQta",
        "outputId": "cb13a5b2-5579-424c-9714-480cc06b30d9"
      },
      "outputs": [
        {
          "output_type": "stream",
          "name": "stdout",
          "text": [
            "Cross-validation scores: [0.79820628 0.8161435  0.78923767 0.79820628 0.78026906]\n",
            "Mean CV accuracy: 79.6413%\n"
          ]
        }
      ],
      "source": [
        "# Random Forest\n",
        "random_forest = RandomForestClassifier(n_estimators=350, max_depth=12, random_state=RANDOM_SEED)\n",
        "\n",
        "# Perform cross-validation with 5 folds\n",
        "cv_scores = cross_val_score(random_forest, X_combined, y, cv=5)\n",
        "\n",
        "# Print the cross-validation scores\n",
        "print(\"Cross-validation scores:\", cv_scores)\n",
        "\n",
        "# Print the mean cross-validation score\n",
        "print(f\"Mean CV accuracy: {cv_scores.mean() * 100:.4f}%\")"
      ]
    },
    {
      "cell_type": "code",
      "source": [
        "# Random Forest, F1 Score\n",
        "random_forest = RandomForestClassifier(n_estimators=350, max_depth=12, random_state=RANDOM_SEED)\n",
        "\n",
        "# Perform cross-validation with 5 folds\n",
        "f1_scorer = make_scorer(f1_score)\n",
        "cv_scores_f1 = cross_val_score(random_forest, X_combined, y, cv=5, scoring=f1_scorer)\n",
        "\n",
        "# Print the mean cross-validation score\n",
        "print(\"Cross-validation F1 scores:\", cv_scores_f1) # Score of 1 indicates perfect precision and recall\n",
        "print(f\"Mean CV F1 score: {cv_scores_f1.mean():.4f}\")"
      ],
      "metadata": {
        "colab": {
          "base_uri": "https://localhost:8080/"
        },
        "id": "HC_LT9fFWQtb",
        "outputId": "271173be-0ec0-4a48-a068-dc749577eb79"
      },
      "execution_count": null,
      "outputs": [
        {
          "output_type": "stream",
          "name": "stdout",
          "text": [
            "Cross-validation F1 scores: [0.86646884 0.87461774 0.86217009 0.86322188 0.85630499]\n",
            "Mean CV F1 score: 0.8646\n"
          ]
        }
      ]
    },
    {
      "cell_type": "code",
      "execution_count": null,
      "metadata": {
        "colab": {
          "base_uri": "https://localhost:8080/"
        },
        "id": "DXXHtICTWQtc",
        "outputId": "194d3614-280c-4134-f126-a26260d2b615"
      },
      "outputs": [
        {
          "output_type": "stream",
          "name": "stdout",
          "text": [
            "Cross-validation scores: [0.87892377 0.89237668 0.9058296  0.88789238 0.85201794]\n",
            "Mean CV accuracy: 88.3408%\n"
          ]
        }
      ],
      "source": [
        "# XGBoost\n",
        "xgboost = XGBClassifier(n_estimators=275, max_depth=6, random_state=RANDOM_SEED, n_jobs=-1)\n",
        "\n",
        "# Perform cross-validation with 5 folds\n",
        "cv_scores = cross_val_score(xgboost, X_combined, y, cv=5)\n",
        "\n",
        "# Print the cross-validation scores\n",
        "print(\"Cross-validation scores:\", cv_scores)\n",
        "\n",
        "# Print the mean cross-validation score\n",
        "print(f\"Mean CV accuracy: {cv_scores.mean() * 100:.4f}%\")"
      ]
    },
    {
      "cell_type": "code",
      "source": [
        "# XGBoost, F1 Score\n",
        "xgboost = XGBClassifier(n_estimators=275, max_depth=6, random_state=RANDOM_SEED, n_jobs=-1)\n",
        "\n",
        "# Perform cross-validation with 5 folds\n",
        "f1_scorer = make_scorer(f1_score)\n",
        "cv_scores_f1 = cross_val_score(xgboost, X_combined, y, cv=5, scoring=f1_scorer)\n",
        "\n",
        "# Print the mean cross-validation score\n",
        "print(\"Cross-validation F1 scores:\", cv_scores_f1) # Score of 1 indicates perfect precision and recall\n",
        "print(f\"Mean CV F1 score: {cv_scores_f1.mean():.4f}\")"
      ],
      "metadata": {
        "id": "mvdi8Sk_WQtc",
        "colab": {
          "base_uri": "https://localhost:8080/"
        },
        "outputId": "78f5ed02-953b-4123-d35f-5c477e9365e2"
      },
      "execution_count": null,
      "outputs": [
        {
          "output_type": "stream",
          "name": "stdout",
          "text": [
            "Cross-validation F1 scores: [0.90728477 0.93114754 0.91823899 0.91147541 0.91318328]\n",
            "Mean CV F1 score: 0.9163\n"
          ]
        }
      ]
    },
    {
      "cell_type": "markdown",
      "source": [
        "### Ensembles with XGBoost"
      ],
      "metadata": {
        "id": "aYzZMq72UeDk"
      }
    },
    {
      "cell_type": "code",
      "source": [
        "# SVM\n",
        "X_continuous = X[:, 0:1241] # 1425-184\n",
        "X_binary = X[:, 1241:]\n",
        "\n",
        "# Standardize only continuous features\n",
        "scaler = StandardScaler()\n",
        "X_standardized = scaler.fit_transform(X_continuous)\n",
        "X_combined = np.concatenate((X_standardized, X_binary), axis=1)\n",
        "\n",
        "svm_model = SVC(kernel='rbf', random_state=RANDOM_SEED)\n",
        "\n",
        "# Perform cross-validation with 5 folds\n",
        "cv_scores = cross_val_score(svm_model, X_combined, y, cv=5)\n",
        "\n",
        "# Print the cross-validation scores\n",
        "print(\"Cross-validation scores:\", cv_scores)\n",
        "\n",
        "# Print the mean cross-validation score\n",
        "print(f\"Mean CV accuracy: {cv_scores.mean() * 100:.4f}%\")"
      ],
      "metadata": {
        "colab": {
          "base_uri": "https://localhost:8080/"
        },
        "id": "wwGGQOxTDTsq",
        "outputId": "b7b85a1c-332b-4dbf-cbe3-c88efecaa3d9"
      },
      "execution_count": null,
      "outputs": [
        {
          "output_type": "stream",
          "name": "stdout",
          "text": [
            "Cross-validation scores: [0.88340807 0.92376682 0.89686099 0.90134529 0.9058296 ]\n",
            "Mean CV accuracy: 90.2242%\n"
          ]
        }
      ]
    },
    {
      "cell_type": "code",
      "source": [
        "# Perform cross-validation with 5 folds\n",
        "f1_scorer = make_scorer(f1_score)\n",
        "cv_scores_f1 = cross_val_score(svm_model, X_combined, y, cv=5, scoring=f1_scorer)\n",
        "\n",
        "# Print the mean cross-validation score\n",
        "print(\"Cross-validation F1 scores:\", cv_scores_f1) # Score of 1 indicates perfect precision and recall\n",
        "print(f\"Mean CV F1 score: {cv_scores_f1.mean():.4f}\")"
      ],
      "metadata": {
        "id": "Ji9YDkhmZupN",
        "colab": {
          "base_uri": "https://localhost:8080/"
        },
        "outputId": "de7dfd56-85dc-43a7-c2e7-f8155e0751b1"
      },
      "execution_count": null,
      "outputs": [
        {
          "output_type": "stream",
          "name": "stdout",
          "text": [
            "Cross-validation F1 scores: [0.91447368 0.9442623  0.92744479 0.92903226 0.93247588]\n",
            "Mean CV F1 score: 0.9295\n"
          ]
        }
      ]
    },
    {
      "cell_type": "code",
      "source": [
        "# XGBoost, random forest and SVM ensemble, final_estimator = RandomForestClassifier\n",
        "# Create base models for classification\n",
        "xgb_model = XGBClassifier(n_estimators=275, max_depth=6, random_state=RANDOM_SEED, n_jobs=-1)\n",
        "svm_model = SVC(kernel='rbf', random_state=RANDOM_SEED)\n",
        "random_forest = RandomForestClassifier(n_estimators=350, max_depth=12, random_state=RANDOM_SEED)\n",
        "\n",
        "\n",
        "# Create a stacked ensemble using a Logistic Regression meta-learner\n",
        "stacked_ensemble = StackingClassifier(\n",
        "    estimators=[('xgb', xgb_model), ('rf', random_forest), ('svm', svm_model)],\n",
        "    final_estimator=RandomForestClassifier(n_estimators=100, random_state=RANDOM_SEED)\n",
        ")\n",
        "\n",
        "# Perform cross-validation with 5 folds\n",
        "cv_scores = cross_val_score(stacked_ensemble, X_combined, y, cv=5, verbose=0)\n",
        "\n",
        "# Print the cross-validation scores\n",
        "print(\"Cross-validation scores:\", cv_scores)\n",
        "\n",
        "# Print the mean cross-validation score\n",
        "print(f\"Mean CV accuracy: {cv_scores.mean() * 100:.4f}%\")"
      ],
      "metadata": {
        "colab": {
          "base_uri": "https://localhost:8080/"
        },
        "id": "43xQ86G_Hk0R",
        "outputId": "6adcc941-49b2-4481-e7a9-da4663315a28"
      },
      "execution_count": null,
      "outputs": [
        {
          "output_type": "stream",
          "name": "stdout",
          "text": [
            "Cross-validation scores: [0.88340807 0.93721973 0.91928251 0.93721973 0.92376682]\n",
            "Mean CV accuracy: 92.0179%\n"
          ]
        }
      ]
    },
    {
      "cell_type": "code",
      "source": [
        "# Create base models for classification\n",
        "xgb_model = XGBClassifier(n_estimators=275, max_depth=6, random_state=RANDOM_SEED, n_jobs=-1)\n",
        "svm_model = SVC(kernel='rbf', random_state=RANDOM_SEED)\n",
        "random_forest = RandomForestClassifier(n_estimators=350, max_depth=12, random_state=RANDOM_SEED)\n",
        "\n",
        "\n",
        "# Create a stacked ensemble using a Logistic Regression meta-learner\n",
        "stacked_ensemble = StackingClassifier(\n",
        "    estimators=[('xgb', xgb_model), ('rf', random_forest), ('svm', svm_model)],\n",
        "    final_estimator=RandomForestClassifier(n_estimators=100, random_state=RANDOM_SEED)\n",
        ")\n",
        "\n",
        "# Perform cross-validation with 5 folds\n",
        "f1_scorer = make_scorer(f1_score)\n",
        "cv_scores_f1 = cross_val_score(stacked_ensemble, X, y, cv=5, scoring=f1_scorer)\n",
        "\n",
        "# Print the mean cross-validation score\n",
        "print(\"Cross-validation F1 scores:\", cv_scores_f1) # Score of 1 indicates perfect precision and recall\n",
        "print(f\"Mean CV F1 score: {cv_scores_f1.mean():.4f}\")"
      ],
      "metadata": {
        "colab": {
          "base_uri": "https://localhost:8080/"
        },
        "id": "nvXNGzacZsx9",
        "outputId": "85443d30-25ba-4aa4-fc6b-b5bbc4266454"
      },
      "execution_count": null,
      "outputs": [
        {
          "output_type": "stream",
          "name": "stdout",
          "text": [
            "Cross-validation F1 scores: [0.9023569  0.9559322  0.94983278 0.9632107  0.9442623 ]\n",
            "Mean CV F1 score: 0.9431\n"
          ]
        }
      ]
    },
    {
      "cell_type": "code",
      "source": [
        "# XGBoost and random forest, final_estimator = LogisticRegression\n",
        "# Create base models\n",
        "xgb_model = XGBClassifier(n_estimators=275, max_depth=6, random_state=RANDOM_SEED, n_jobs=-1)\n",
        "\n",
        "# Random Forest\n",
        "random_forest = RandomForestClassifier(n_estimators=350, max_depth=12, random_state=RANDOM_SEED)\n",
        "\n",
        "# Create a stacked ensemble using a Logistic Regression meta-learner\n",
        "stacked_ensemble = StackingClassifier(\n",
        "    estimators=[('xgb', xgb_model), ('rf', random_forest)],\n",
        "    final_estimator=LogisticRegression()\n",
        ")\n",
        "\n",
        "# Perform cross-validation with 5 folds\n",
        "cv_scores = cross_val_score(stacked_ensemble, X, y, cv=5)\n",
        "\n",
        "# Print the cross-validation scores\n",
        "print(\"Cross-validation scores:\", cv_scores)\n",
        "\n",
        "# Print the mean cross-validation score\n",
        "print(f\"Mean CV accuracy: {cv_scores.mean() * 100:.4f}%\")"
      ],
      "metadata": {
        "colab": {
          "base_uri": "https://localhost:8080/"
        },
        "id": "c3PTWAobLqUN",
        "outputId": "6f9b48c8-12e6-40ef-a627-d25397e85172"
      },
      "execution_count": null,
      "outputs": [
        {
          "output_type": "stream",
          "name": "stdout",
          "text": [
            "Cross-validation scores: [0.88340807 0.94170404 0.93273543 0.94618834 0.92376682]\n",
            "Mean CV accuracy: 92.5561%\n"
          ]
        }
      ]
    },
    {
      "cell_type": "code",
      "source": [
        "# Create base models\n",
        "xgb_model = XGBClassifier(n_estimators=275, max_depth=6, random_state=RANDOM_SEED, n_jobs=-1)\n",
        "\n",
        "# Random Forest\n",
        "random_forest = RandomForestClassifier(n_estimators=350, max_depth=12, random_state=RANDOM_SEED)\n",
        "\n",
        "# Create a stacked ensemble using a Logistic Regression meta-learner\n",
        "stacked_ensemble = StackingClassifier(\n",
        "    estimators=[('xgb', xgb_model), ('rf', random_forest)],\n",
        "    final_estimator=LogisticRegression()\n",
        ")\n",
        "\n",
        "# Perform cross-validation with 5 folds\n",
        "f1_scorer = make_scorer(f1_score)\n",
        "cv_scores_f1 = cross_val_score(stacked_ensemble, X, y, cv=5, scoring=f1_scorer)\n",
        "\n",
        "# Print the mean cross-validation score\n",
        "print(\"Cross-validation F1 scores:\", cv_scores_f1) # Score of 1 indicates perfect precision and recall\n",
        "print(f\"Mean CV F1 score: {cv_scores_f1.mean():.4f}\")"
      ],
      "metadata": {
        "colab": {
          "base_uri": "https://localhost:8080/"
        },
        "id": "td-CpMzBZtb6",
        "outputId": "e8da2a1a-883c-41ff-8c03-3bc34c9a681c"
      },
      "execution_count": null,
      "outputs": [
        {
          "output_type": "stream",
          "name": "stdout",
          "text": [
            "Cross-validation F1 scores: [0.91333333 0.95681063 0.95081967 0.96       0.94498382]\n",
            "Mean CV F1 score: 0.9452\n"
          ]
        }
      ]
    },
    {
      "cell_type": "code",
      "source": [
        "# XGBoost and random forest, final_estimator = GradientBoostingClassifier\n",
        "# Create base models\n",
        "xgb_model = XGBClassifier(n_estimators=275, max_depth=6, random_state=RANDOM_SEED, n_jobs=-1)\n",
        "\n",
        "# Random Forest\n",
        "random_forest = RandomForestClassifier(n_estimators=350, max_depth=12, random_state=RANDOM_SEED)\n",
        "\n",
        "# Create a stacked ensemble using a Logistic Regression meta-learner\n",
        "stacked_ensemble = StackingClassifier(\n",
        "    estimators=[('xgb', xgb_model), ('rf', random_forest)],\n",
        "    final_estimator=GradientBoostingClassifier()\n",
        ")\n",
        "\n",
        "# Perform cross-validation with 5 folds\n",
        "cv_scores = cross_val_score(stacked_ensemble, X, y, cv=5, verbose=0)\n",
        "\n",
        "# Print the cross-validation scores\n",
        "print(\"Cross-validation scores:\", cv_scores)\n",
        "\n",
        "# Print the mean cross-validation score\n",
        "print(f\"Mean CV accuracy: {cv_scores.mean() * 100:.4f}%\")"
      ],
      "metadata": {
        "colab": {
          "base_uri": "https://localhost:8080/"
        },
        "id": "K6YNlMTDJD2v",
        "outputId": "709a995c-2257-455c-dc0d-2195c60607e2"
      },
      "execution_count": null,
      "outputs": [
        {
          "output_type": "stream",
          "name": "stdout",
          "text": [
            "Cross-validation scores: [0.87892377 0.91928251 0.90134529 0.92825112 0.9103139 ]\n",
            "Mean CV accuracy: 90.7623%\n"
          ]
        }
      ]
    },
    {
      "cell_type": "code",
      "source": [
        "# Create base models\n",
        "xgb_model = XGBClassifier(n_estimators=275, max_depth=6, random_state=RANDOM_SEED, n_jobs=-1)\n",
        "\n",
        "# Random Forest\n",
        "random_forest = RandomForestClassifier(n_estimators=350, max_depth=12, random_state=RANDOM_SEED)\n",
        "\n",
        "# Create a stacked ensemble using a Logistic Regression meta-learner\n",
        "stacked_ensemble = StackingClassifier(\n",
        "    estimators=[('xgb', xgb_model), ('rf', random_forest)],\n",
        "    final_estimator=GradientBoostingClassifier()\n",
        ")\n",
        "\n",
        "# Perform cross-validation with 5 folds\n",
        "f1_scorer = make_scorer(f1_score)\n",
        "cv_scores_f1 = cross_val_score(stacked_ensemble, X, y, cv=5, scoring=f1_scorer)\n",
        "\n",
        "# Print the mean cross-validation score\n",
        "print(\"Cross-validation F1 scores:\", cv_scores_f1) # Score of 1 indicates perfect precision and recall\n",
        "print(f\"Mean CV F1 score: {cv_scores_f1.mean():.4f}\")"
      ],
      "metadata": {
        "colab": {
          "base_uri": "https://localhost:8080/"
        },
        "id": "7-02569JZuCq",
        "outputId": "b71094b2-87ab-423c-9548-ce886660208a"
      },
      "execution_count": null,
      "outputs": [
        {
          "output_type": "stream",
          "name": "stdout",
          "text": [
            "Cross-validation F1 scores: [0.90784983 0.93959732 0.92409241 0.94630872 0.93506494]\n",
            "Mean CV F1 score: 0.9306\n"
          ]
        }
      ]
    },
    {
      "cell_type": "markdown",
      "source": [
        "### Plots for the best models"
      ],
      "metadata": {
        "id": "s6z_TRYFrZPj"
      }
    },
    {
      "cell_type": "markdown",
      "source": [
        "#### Best model 92.8251% accuracy"
      ],
      "metadata": {
        "id": "4W82mGoDt3Ft"
      }
    },
    {
      "cell_type": "code",
      "source": [
        "# Perform cross-validated predictions and plots\n",
        "def plots(X, y, clf):\n",
        "  y_probs = cross_val_predict(clf, X, y, cv=5, method=\"predict_proba\")\n",
        "\n",
        "  # Calculate AUC for each fold\n",
        "  auc_scores = []\n",
        "  acc_scores =[]\n",
        "  kf = KFold(n_splits=5, shuffle=True, random_state=RANDOM_SEED)\n",
        "\n",
        "  for i, (train_index, test_index) in enumerate(kf.split(X)):\n",
        "    # Compute precision-recall pairs for the current class\n",
        "    precision, recall, thresholds = precision_recall_curve(y[test_index], y_probs[test_index, 1]) # Use only the test set for this iteration\n",
        "\n",
        "    # Calculate AUC for Precision-Recall curve\n",
        "    auc_score = auc(recall, precision)\n",
        "    auc_scores.append(auc_score)\n",
        "    print(f\"AUC for fold {i + 1}: {auc_score:.4f}\")\n",
        "\n",
        "    # Calculate accuracy\n",
        "    accuracy = accuracy_score(y[test_index], np.argmax(y_probs[test_index], axis=1))\n",
        "    acc_scores.append(accuracy)\n",
        "    print(f\"Accuracy for fold {i + 1}: {accuracy:.4f}\\n\")\n",
        "\n",
        "    # Create precision recall plot\n",
        "    plt.figure(figsize=(7, 6))\n",
        "    plt.plot(recall, precision, label=f'AUC = {auc_score:.2f}', color='blue')\n",
        "    # Set labels and title\n",
        "    plt.xlabel('Recall')\n",
        "    plt.ylabel('Precision')\n",
        "    plt.title('Precision-Recall Curve')\n",
        "    plt.legend()\n",
        "    plt.show()\n",
        "\n",
        "    # Plot confusion matrix\n",
        "    preds = np.round(y_probs[test_index, 1])\n",
        "    classes = [\"0\", \"1\"]\n",
        "    cm = confusion_matrix(y[test_index], preds)\n",
        "    plt.figure(figsize=(7, 6))\n",
        "    sns.heatmap(cm, annot=True, fmt=\"d\", cmap=\"Blues\", xticklabels=classes, yticklabels=classes)\n",
        "    plt.title(\"Confusion Matrix\")\n",
        "    plt.xlabel(\"Predicted Labels\")\n",
        "    plt.ylabel(\"True Labels\")\n",
        "    plt.show()\n",
        "\n",
        "  # Print the mean AUC score and accuracy\n",
        "  print(f\"Mean AUC score: {np.mean(auc_scores):.5f}\")\n",
        "  print(f\"Mean accuracy score: {np.mean(acc_scores)*100:.4f}%\")"
      ],
      "metadata": {
        "id": "kz07GukTsXW9"
      },
      "execution_count": null,
      "outputs": []
    },
    {
      "cell_type": "code",
      "source": [
        "xgboost = XGBClassifier(n_estimators=275, max_depth=6, random_state=RANDOM_SEED, n_jobs=-1)\n",
        "plots(X, y, xgboost)"
      ],
      "metadata": {
        "colab": {
          "base_uri": "https://localhost:8080/",
          "height": 1000
        },
        "id": "JKfM0gj6s8jl",
        "outputId": "afa01d11-3dc9-46fe-feff-6500aab8a446"
      },
      "execution_count": null,
      "outputs": [
        {
          "output_type": "stream",
          "name": "stdout",
          "text": [
            "AUC for fold 1: 0.9708\n",
            "Accuracy for fold 1: 0.9103\n",
            "\n"
          ]
        },
        {
          "output_type": "display_data",
          "data": {
            "text/plain": [
              "<Figure size 700x600 with 1 Axes>"
            ],
            "image/png": "[encoded data removed]"
          },
          "metadata": {}
        },
        {
          "output_type": "display_data",
          "data": {
            "text/plain": [
              "<Figure size 700x600 with 2 Axes>"
            ],
            "image/png": "[encoded data removed]"
          },
          "metadata": {}
        },
        {
          "output_type": "stream",
          "name": "stdout",
          "text": [
            "AUC for fold 2: 0.9822\n",
            "Accuracy for fold 2: 0.9193\n",
            "\n"
          ]
        },
        {
          "output_type": "display_data",
          "data": {
            "text/plain": [
              "<Figure size 700x600 with 1 Axes>"
            ],
            "image/png": "[encoded data removed]"
          },
          "metadata": {}
        },
        {
          "output_type": "display_data",
          "data": {
            "text/plain": [
              "<Figure size 700x600 with 2 Axes>"
            ],
            "image/png": "[encoded data removed]"
          },
          "metadata": {}
        },
        {
          "output_type": "stream",
          "name": "stdout",
          "text": [
            "AUC for fold 3: 0.9861\n",
            "Accuracy for fold 3: 0.9327\n",
            "\n"
          ]
        },
        {
          "output_type": "display_data",
          "data": {
            "text/plain": [
              "<Figure size 700x600 with 1 Axes>"
            ],
            "image/png": "[encoded data removed]"
          },
          "metadata": {}
        },
        {
          "output_type": "display_data",
          "data": {
            "text/plain": [
              "<Figure size 700x600 with 2 Axes>"
            ],
            "image/png": "[encoded data removed]"
          },
          "metadata": {}
        },
        {
          "output_type": "stream",
          "name": "stdout",
          "text": [
            "AUC for fold 4: 0.9856\n",
            "Accuracy for fold 4: 0.9372\n",
            "\n"
          ]
        },
        {
          "output_type": "display_data",
          "data": {
            "text/plain": [
              "<Figure size 700x600 with 1 Axes>"
            ],
            "image/png": "[encoded data removed]"
          },
          "metadata": {}
        },
        {
          "output_type": "display_data",
          "data": {
            "text/plain": [
              "<Figure size 700x600 with 2 Axes>"
            ],
            "image/png": "[encoded data removed]"
          },
          "metadata": {}
        },
        {
          "output_type": "stream",
          "name": "stdout",
          "text": [
            "AUC for fold 5: 0.9887\n",
            "Accuracy for fold 5: 0.9417\n",
            "\n"
          ]
        },
        {
          "output_type": "display_data",
          "data": {
            "text/plain": [
              "<Figure size 700x600 with 1 Axes>"
            ],
            "image/png": "[encoded data removed]"
          },
          "metadata": {}
        },
        {
          "output_type": "display_data",
          "data": {
            "text/plain": [
              "<Figure size 700x600 with 2 Axes>"
            ],
            "image/png": "[encoded data removed]"
          },
          "metadata": {}
        },
        {
          "output_type": "stream",
          "name": "stdout",
          "text": [
            "Mean AUC score: 0.98268\n",
            "Mean accuracy score: 92.8251%\n"
          ]
        }
      ]
    },
    {
      "cell_type": "markdown",
      "source": [
        "#### Best model with less weight to positive class 92.9148% accuracy"
      ],
      "metadata": {
        "id": "iArM9NdeuAUU"
      }
    },
    {
      "cell_type": "code",
      "source": [
        "# Perform cross-validated predictions for AUC calculation\n",
        "def plots_stratified(X, y, clf):\n",
        "  # Define the StratifiedKFold\n",
        "  stratified_kfold = StratifiedKFold(n_splits=5, shuffle=True, random_state=RANDOM_SEED)\n",
        "  y_probs = cross_val_predict(clf, X, y, cv=stratified_kfold, method=\"predict_proba\")\n",
        "\n",
        "  # Calculate AUC for each fold\n",
        "  auc_scores = []\n",
        "  acc_scores =[]\n",
        "\n",
        "  for i, (train_index, test_index) in enumerate(stratified_kfold.split(X, y)):\n",
        "    # Compute precision-recall pairs for the current class\n",
        "    precision, recall, thresholds = precision_recall_curve(y[test_index], y_probs[test_index, 1]) # Use only the test set for this iteration\n",
        "\n",
        "    # Calculate AUC for Precision-Recall curve\n",
        "    auc_score = auc(recall, precision)\n",
        "    auc_scores.append(auc_score)\n",
        "    print(f\"AUC for fold {i + 1}: {auc_score:.4f}\")\n",
        "\n",
        "    # Calculate accuracy\n",
        "    accuracy = accuracy_score(y[test_index], np.argmax(y_probs[test_index], axis=1))\n",
        "    acc_scores.append(accuracy)\n",
        "    print(f\"Accuracy for fold {i + 1}: {accuracy:.4f}\\n\")\n",
        "\n",
        "    # Create precision recall plot\n",
        "    plt.figure(figsize=(7, 6))\n",
        "    plt.plot(recall, precision, label=f'AUC = {auc_score:.2f}', color='blue')\n",
        "    # Set labels and title\n",
        "    plt.xlabel('Recall')\n",
        "    plt.ylabel('Precision')\n",
        "    plt.title('Precision-Recall Curve')\n",
        "    plt.legend()\n",
        "    plt.show()\n",
        "\n",
        "    # Plot confusion matrix\n",
        "    preds = np.round(y_probs[test_index, 1])\n",
        "    classes = [\"0\", \"1\"]\n",
        "    cm = confusion_matrix(y[test_index], preds)\n",
        "    plt.figure(figsize=(7, 6))\n",
        "    sns.heatmap(cm, annot=True, fmt=\"d\", cmap=\"Blues\", xticklabels=classes, yticklabels=classes)\n",
        "    plt.title(\"Confusion Matrix\")\n",
        "    plt.xlabel(\"Predicted Labels\")\n",
        "    plt.ylabel(\"True Labels\")\n",
        "    plt.show()\n",
        "\n",
        "  # Print the mean AUC score and accuracy\n",
        "  print(f\"Mean AUC score: {np.mean(auc_scores):.5f}\")\n",
        "  print(f\"Mean accuracy score: {np.mean(acc_scores)*100:.4f}%\")"
      ],
      "metadata": {
        "id": "VDebsC2KxH5P"
      },
      "execution_count": null,
      "outputs": []
    },
    {
      "cell_type": "code",
      "source": [
        "xgboost = XGBClassifier(n_estimators=275, max_depth=6, scale_pos_weight=0.95, random_state=RANDOM_SEED, n_jobs=-1)\n",
        "plots_stratified(X, y, xgboost)"
      ],
      "metadata": {
        "colab": {
          "base_uri": "https://localhost:8080/",
          "height": 1000
        },
        "id": "fVHU-0CorcDu",
        "outputId": "def70589-5310-40af-bc32-60edc04c0658"
      },
      "execution_count": null,
      "outputs": [
        {
          "output_type": "stream",
          "name": "stdout",
          "text": [
            "AUC for fold 1: 0.9627\n",
            "Accuracy for fold 1: 0.9148\n",
            "\n"
          ]
        },
        {
          "output_type": "display_data",
          "data": {
            "text/plain": [
              "<Figure size 700x600 with 1 Axes>"
            ],
            "image/png": "[encoded data removed]"
          },
          "metadata": {}
        },
        {
          "output_type": "display_data",
          "data": {
            "text/plain": [
              "<Figure size 700x600 with 2 Axes>"
            ],
            "image/png": "[encoded data removed]"
          },
          "metadata": {}
        },
        {
          "output_type": "stream",
          "name": "stdout",
          "text": [
            "AUC for fold 2: 0.9820\n",
            "Accuracy for fold 2: 0.9372\n",
            "\n"
          ]
        },
        {
          "output_type": "display_data",
          "data": {
            "text/plain": [
              "<Figure size 700x600 with 1 Axes>"
            ],
            "image/png": "[encoded data removed]"
          },
          "metadata": {}
        },
        {
          "output_type": "display_data",
          "data": {
            "text/plain": [
              "<Figure size 700x600 with 2 Axes>"
            ],
            "image/png": "[encoded data removed]"
          },
          "metadata": {}
        },
        {
          "output_type": "stream",
          "name": "stdout",
          "text": [
            "AUC for fold 3: 0.9939\n",
            "Accuracy for fold 3: 0.9462\n",
            "\n"
          ]
        },
        {
          "output_type": "display_data",
          "data": {
            "text/plain": [
              "<Figure size 700x600 with 1 Axes>"
            ],
            "image/png": "[encoded data removed]"
          },
          "metadata": {}
        },
        {
          "output_type": "display_data",
          "data": {
            "text/plain": [
              "<Figure size 700x600 with 2 Axes>"
            ],
            "image/png": "[encoded data removed]"
          },
          "metadata": {}
        },
        {
          "output_type": "stream",
          "name": "stdout",
          "text": [
            "AUC for fold 4: 0.9889\n",
            "Accuracy for fold 4: 0.9283\n",
            "\n"
          ]
        },
        {
          "output_type": "display_data",
          "data": {
            "text/plain": [
              "<Figure size 700x600 with 1 Axes>"
            ],
            "image/png": "[encoded data removed]"
          },
          "metadata": {}
        },
        {
          "output_type": "display_data",
          "data": {
            "text/plain": [
              "<Figure size 700x600 with 2 Axes>"
            ],
            "image/png": "[encoded data removed]"
          },
          "metadata": {}
        },
        {
          "output_type": "stream",
          "name": "stdout",
          "text": [
            "AUC for fold 5: 0.9765\n",
            "Accuracy for fold 5: 0.9193\n",
            "\n"
          ]
        },
        {
          "output_type": "display_data",
          "data": {
            "text/plain": [
              "<Figure size 700x600 with 1 Axes>"
            ],
            "image/png": "[encoded data removed]"
          },
          "metadata": {}
        },
        {
          "output_type": "display_data",
          "data": {
            "text/plain": [
              "<Figure size 700x600 with 2 Axes>"
            ],
            "image/png": "[encoded data removed]"
          },
          "metadata": {}
        },
        {
          "output_type": "stream",
          "name": "stdout",
          "text": [
            "Mean AUC score: 0.98080\n",
            "Mean accuracy score: 92.9148%\n"
          ]
        }
      ]
    },
    {
      "cell_type": "markdown",
      "source": [
        "### Best model"
      ],
      "metadata": {
        "id": "t4qmrnuUmzce"
      }
    },
    {
      "cell_type": "markdown",
      "source": [
        "#### On the original data"
      ],
      "metadata": {
        "id": "FV5dQgPY9jlp"
      }
    },
    {
      "cell_type": "code",
      "source": [
        "# XGBoost, with original data (without remove useless features) -> the same results\n",
        "xgboost = XGBClassifier(n_estimators=275, max_depth=6, random_state=RANDOM_SEED, n_jobs=-1)\n",
        "\n",
        "# Perform cross-validation with 5 folds\n",
        "cv_scores = cross_val_score(xgboost, X_original, y_original, cv=5)\n",
        "\n",
        "# Print the cross-validation scores\n",
        "print(\"Cross-validation scores:\", cv_scores)\n",
        "\n",
        "# Print the mean cross-validation score\n",
        "print(f\"Mean CV accuracy: {cv_scores.mean() * 100:.4f}%\")"
      ],
      "metadata": {
        "colab": {
          "base_uri": "https://localhost:8080/"
        },
        "id": "Pd0Lqm1KglbE",
        "outputId": "faa3cd23-69cd-4c49-c5cb-26b7255cb96c"
      },
      "execution_count": 33,
      "outputs": [
        {
          "output_type": "stream",
          "name": "stdout",
          "text": [
            "Cross-validation scores: [0.88340807 0.94618834 0.93273543 0.94618834 0.93273543]\n",
            "Mean CV accuracy: 92.8251%\n"
          ]
        }
      ]
    },
    {
      "cell_type": "code",
      "source": [
        "errors = [round(1-acc, 4) for acc in cv_scores]\n",
        "errors"
      ],
      "metadata": {
        "colab": {
          "base_uri": "https://localhost:8080/"
        },
        "id": "cmXoTLDFBkw_",
        "outputId": "f6c33ddd-09e3-42ab-9a8a-daec31d64940"
      },
      "execution_count": 57,
      "outputs": [
        {
          "output_type": "execute_result",
          "data": {
            "text/plain": [
              "[0.1166, 0.0538, 0.0673, 0.0538, 0.0673]"
            ]
          },
          "metadata": {},
          "execution_count": 57
        }
      ]
    },
    {
      "cell_type": "code",
      "source": [
        "mean_error = round(1-cv_scores.mean(), 4)\n",
        "mean_error"
      ],
      "metadata": {
        "colab": {
          "base_uri": "https://localhost:8080/"
        },
        "id": "CZcJIvAACBCA",
        "outputId": "1f5e7c4a-c495-4d01-b39e-bb865131b4d4"
      },
      "execution_count": 58,
      "outputs": [
        {
          "output_type": "execute_result",
          "data": {
            "text/plain": [
              "0.0717"
            ]
          },
          "metadata": {},
          "execution_count": 58
        }
      ]
    },
    {
      "cell_type": "code",
      "source": [
        "std_deviation = round(statistics.stdev(errors), 4)\n",
        "std_deviation"
      ],
      "metadata": {
        "colab": {
          "base_uri": "https://localhost:8080/"
        },
        "id": "O7k_lmCPDNNi",
        "outputId": "fbfe1725-1e2d-497d-b2b3-0adc1f4fba75"
      },
      "execution_count": 59,
      "outputs": [
        {
          "output_type": "execute_result",
          "data": {
            "text/plain": [
              "0.026"
            ]
          },
          "metadata": {},
          "execution_count": 59
        }
      ]
    },
    {
      "cell_type": "code",
      "source": [
        "# XGBoost, F1 Score\n",
        "xgboost = XGBClassifier(n_estimators=275, max_depth=6, random_state=RANDOM_SEED, n_jobs=-1)\n",
        "\n",
        "# Perform cross-validation with 5 folds\n",
        "f1_scorer = make_scorer(f1_score)\n",
        "cv_scores_f1 = cross_val_score(xgboost, X_original, y_original, cv=5, scoring=f1_scorer)\n",
        "\n",
        "# Print the mean cross-validation score\n",
        "print(\"Cross-validation F1 scores:\", cv_scores_f1) # Score of 1 indicates perfect precision and recall\n",
        "print(f\"Mean CV F1 score: {cv_scores_f1.mean():.4f}\")"
      ],
      "metadata": {
        "colab": {
          "base_uri": "https://localhost:8080/"
        },
        "id": "0b89aAyijd2-",
        "outputId": "b78cc231-d5ff-49ed-c1ba-7f4d9146d2c4"
      },
      "execution_count": null,
      "outputs": [
        {
          "output_type": "stream",
          "name": "stdout",
          "text": [
            "Cross-validation F1 scores: [0.91333333 0.9602649  0.95049505 0.96       0.95145631]\n",
            "Mean CV F1 score: 0.9471\n"
          ]
        }
      ]
    },
    {
      "cell_type": "code",
      "source": [
        "xgboost = XGBClassifier(n_estimators=275, max_depth=6, random_state=RANDOM_SEED, n_jobs=-1)\n",
        "auc_and_accuracy_scores(X_original, y_original, xgboost)"
      ],
      "metadata": {
        "colab": {
          "base_uri": "https://localhost:8080/"
        },
        "id": "2Mg7kTyWjhyG",
        "outputId": "8f199062-7546-4bf7-bc02-59fbc92b63e9"
      },
      "execution_count": null,
      "outputs": [
        {
          "output_type": "stream",
          "name": "stdout",
          "text": [
            "AUC for fold 1: 0.9708\n",
            "Accuracy for fold 1: 0.9103\n",
            "\n",
            "AUC for fold 2: 0.9822\n",
            "Accuracy for fold 2: 0.9193\n",
            "\n",
            "AUC for fold 3: 0.9861\n",
            "Accuracy for fold 3: 0.9327\n",
            "\n",
            "AUC for fold 4: 0.9856\n",
            "Accuracy for fold 4: 0.9372\n",
            "\n",
            "AUC for fold 5: 0.9887\n",
            "Accuracy for fold 5: 0.9417\n",
            "\n",
            "Mean AUC score: 0.98268\n",
            "Mean accuracy score: 92.8251%\n"
          ]
        }
      ]
    },
    {
      "cell_type": "markdown",
      "source": [
        "#### On the data without the useless features"
      ],
      "metadata": {
        "id": "OEdJDG-89njy"
      }
    },
    {
      "cell_type": "code",
      "source": [
        "# XGBoost\n",
        "xgboost = XGBClassifier(n_estimators=275, max_depth=6, random_state=RANDOM_SEED, n_jobs=-1)\n",
        "\n",
        "# Perform cross-validation with 5 folds\n",
        "cv_scores = cross_val_score(xgboost, X, y, cv=5)\n",
        "\n",
        "# Print the cross-validation scores\n",
        "print(\"Cross-validation scores:\", cv_scores)\n",
        "\n",
        "# Print the mean cross-validation score\n",
        "print(f\"Mean CV accuracy: {cv_scores.mean() * 100:.4f}%\")"
      ],
      "metadata": {
        "colab": {
          "base_uri": "https://localhost:8080/"
        },
        "outputId": "10396289-8ab2-4d6f-e8ba-aa03f4a9ed29",
        "id": "qpp2hDjim59p"
      },
      "execution_count": null,
      "outputs": [
        {
          "output_type": "stream",
          "name": "stdout",
          "text": [
            "Cross-validation scores: [0.88340807 0.94618834 0.93273543 0.94618834 0.93273543]\n",
            "Mean CV accuracy: 92.8251%\n"
          ]
        }
      ]
    },
    {
      "cell_type": "code",
      "source": [
        "# XGBoost, F1 Score\n",
        "xgboost = XGBClassifier(n_estimators=275, max_depth=6, random_state=RANDOM_SEED, n_jobs=-1)\n",
        "\n",
        "# Perform cross-validation with 5 folds\n",
        "f1_scorer = make_scorer(f1_score)\n",
        "cv_scores_f1 = cross_val_score(xgboost, X, y, cv=5, scoring=f1_scorer)\n",
        "\n",
        "# Print the mean cross-validation score\n",
        "print(\"Cross-validation F1 scores:\", cv_scores_f1) # Score of 1 indicates perfect precision and recall\n",
        "print(f\"Mean CV F1 score: {cv_scores_f1.mean():.4f}\")"
      ],
      "metadata": {
        "colab": {
          "base_uri": "https://localhost:8080/"
        },
        "outputId": "d71681b1-a1be-4acb-b2e0-1bdbca1cc6f2",
        "id": "KksXcTC8m59q"
      },
      "execution_count": null,
      "outputs": [
        {
          "output_type": "stream",
          "name": "stdout",
          "text": [
            "Cross-validation F1 scores: [0.91333333 0.9602649  0.95049505 0.96       0.95145631]\n",
            "Mean CV F1 score: 0.9471\n"
          ]
        }
      ]
    },
    {
      "cell_type": "code",
      "source": [
        "xgboost = XGBClassifier(n_estimators=275, max_depth=6, random_state=RANDOM_SEED, n_jobs=-1)\n",
        "auc_and_accuracy_scores(X, y, xgboost)"
      ],
      "metadata": {
        "colab": {
          "base_uri": "https://localhost:8080/"
        },
        "outputId": "5729edd8-921e-4017-e2d7-f995d5f24801",
        "id": "nGwv1AVdm59r"
      },
      "execution_count": null,
      "outputs": [
        {
          "output_type": "stream",
          "name": "stdout",
          "text": [
            "AUC for fold 1: 0.9891\n",
            "Accuracy for fold 1: 0.9327\n",
            "\n",
            "AUC for fold 2: 0.9697\n",
            "Accuracy for fold 2: 0.9103\n",
            "\n",
            "AUC for fold 3: 0.9791\n",
            "Accuracy for fold 3: 0.9013\n",
            "\n",
            "AUC for fold 4: 0.9913\n",
            "Accuracy for fold 4: 0.9462\n",
            "\n",
            "AUC for fold 5: 0.9849\n",
            "Accuracy for fold 5: 0.9507\n",
            "\n",
            "Mean AUC score: 0.98283\n",
            "Mean accuracy score: 92.8251%\n"
          ]
        }
      ]
    },
    {
      "cell_type": "markdown",
      "source": [
        "#### On k_folds = 10"
      ],
      "metadata": {
        "id": "vMTiGbtD9uP_"
      }
    },
    {
      "cell_type": "code",
      "source": [
        "# XGBoost, with original data (without remove useless features) -> the same results\n",
        "xgboost = XGBClassifier(n_estimators=275, max_depth=6, random_state=RANDOM_SEED, n_jobs=-1)\n",
        "\n",
        "# Perform cross-validation with 5 folds\n",
        "cv_scores = cross_val_score(xgboost, X_original, y_original, cv=10)\n",
        "\n",
        "# Print the cross-validation scores\n",
        "print(\"Cross-validation scores:\", cv_scores)\n",
        "\n",
        "# Print the mean cross-validation score\n",
        "print(f\"Mean CV accuracy: {cv_scores.mean() * 100:.4f}%\")"
      ],
      "metadata": {
        "colab": {
          "base_uri": "https://localhost:8080/"
        },
        "outputId": "4f077dfd-4beb-49fb-cd5f-36b617113fa5",
        "id": "r6BklNH59hGt"
      },
      "execution_count": 60,
      "outputs": [
        {
          "output_type": "stream",
          "name": "stdout",
          "text": [
            "Cross-validation scores: [0.90178571 0.86607143 0.94642857 0.9375     0.88392857 0.96396396\n",
            " 0.94594595 0.90990991 0.89189189 0.96396396]\n",
            "Mean CV accuracy: 92.1139%\n"
          ]
        }
      ]
    },
    {
      "cell_type": "code",
      "source": [
        "errors = [round(1-acc, 4) for acc in cv_scores]\n",
        "errors"
      ],
      "metadata": {
        "colab": {
          "base_uri": "https://localhost:8080/"
        },
        "outputId": "5face83c-f377-49dd-8fc8-17a4221a5c19",
        "id": "pR2A5Kb5GqKg"
      },
      "execution_count": 61,
      "outputs": [
        {
          "output_type": "execute_result",
          "data": {
            "text/plain": [
              "[0.0982, 0.1339, 0.0536, 0.0625, 0.1161, 0.036, 0.0541, 0.0901, 0.1081, 0.036]"
            ]
          },
          "metadata": {},
          "execution_count": 61
        }
      ]
    },
    {
      "cell_type": "code",
      "source": [
        "mean_error = round(1-cv_scores.mean(), 4)\n",
        "mean_error"
      ],
      "metadata": {
        "colab": {
          "base_uri": "https://localhost:8080/"
        },
        "outputId": "c4f49924-a102-4a48-f140-498822816992",
        "id": "IMAjmyr1GqKi"
      },
      "execution_count": 62,
      "outputs": [
        {
          "output_type": "execute_result",
          "data": {
            "text/plain": [
              "0.0789"
            ]
          },
          "metadata": {},
          "execution_count": 62
        }
      ]
    },
    {
      "cell_type": "code",
      "source": [
        "std_deviation = round(statistics.stdev(errors), 4)\n",
        "std_deviation"
      ],
      "metadata": {
        "colab": {
          "base_uri": "https://localhost:8080/"
        },
        "outputId": "3ba121af-5d36-40b2-ba49-ce1e6110ba8d",
        "id": "HQGnPICDGqKi"
      },
      "execution_count": 63,
      "outputs": [
        {
          "output_type": "execute_result",
          "data": {
            "text/plain": [
              "0.0349"
            ]
          },
          "metadata": {},
          "execution_count": 63
        }
      ]
    },
    {
      "cell_type": "code",
      "source": [
        "# XGBoost, F1 Score\n",
        "xgboost = XGBClassifier(n_estimators=275, max_depth=6, random_state=RANDOM_SEED, n_jobs=-1)\n",
        "\n",
        "# Perform cross-validation with 5 folds\n",
        "f1_scorer = make_scorer(f1_score)\n",
        "cv_scores_f1 = cross_val_score(xgboost, X_original, y_original, cv=10, scoring=f1_scorer)\n",
        "\n",
        "# Print the mean cross-validation score\n",
        "print(\"Cross-validation F1 scores:\", cv_scores_f1) # Score of 1 indicates perfect precision and recall\n",
        "print(f\"Mean CV F1 score: {cv_scores_f1.mean():.4f}\")"
      ],
      "metadata": {
        "colab": {
          "base_uri": "https://localhost:8080/"
        },
        "outputId": "3a0371df-403a-4b3d-e36a-2e4515ad27c5",
        "id": "8I9Y1yJQ9hG3"
      },
      "execution_count": 31,
      "outputs": [
        {
          "output_type": "stream",
          "name": "stdout",
          "text": [
            "Cross-validation F1 scores: [0.92517007 0.90066225 0.96       0.95364238 0.91503268 0.97368421\n",
            " 0.96052632 0.93421053 0.92405063 0.97333333]\n",
            "Mean CV F1 score: 0.9420\n"
          ]
        }
      ]
    },
    {
      "cell_type": "markdown",
      "source": [
        "### Final Predictions with the best model"
      ],
      "metadata": {
        "id": "_W6bKol4cDD-"
      }
    },
    {
      "cell_type": "code",
      "source": [
        "X_test_original.shape, y_original.shape"
      ],
      "metadata": {
        "colab": {
          "base_uri": "https://localhost:8080/"
        },
        "id": "i3gETEF9jxS6",
        "outputId": "2bb8b472-c9d8-4efb-9d86-104e51154afb"
      },
      "execution_count": 66,
      "outputs": [
        {
          "output_type": "execute_result",
          "data": {
            "text/plain": [
              "((124, 3473), (1115,))"
            ]
          },
          "metadata": {},
          "execution_count": 66
        }
      ]
    },
    {
      "cell_type": "code",
      "source": [
        "X_test.shape"
      ],
      "metadata": {
        "colab": {
          "base_uri": "https://localhost:8080/"
        },
        "id": "sVOtS_QLjypp",
        "outputId": "358f62b9-41ec-44fb-ae64-ec3fcfc886ed"
      },
      "execution_count": 67,
      "outputs": [
        {
          "output_type": "execute_result",
          "data": {
            "text/plain": [
              "(124, 3276)"
            ]
          },
          "metadata": {},
          "execution_count": 67
        }
      ]
    },
    {
      "cell_type": "code",
      "source": [
        "# XGBoost, best model\n",
        "xgboost = XGBClassifier(n_estimators=275, max_depth=6, random_state=RANDOM_SEED, n_jobs=-1)\n",
        "\n",
        "# Train the classifier on the whole dataset\n",
        "xgboost.fit(X_original, y_original)\n",
        "\n",
        "# Use the trained XGBoost classifier to make predictions and obtain probability scores on the test dataset\n",
        "predictions = xgboost.predict(X_test_original)\n",
        "prob_scores = xgboost.predict_proba(X_test_original)[:, 1]\n",
        "\n",
        "# Create a DataFrame with both predictions and probabilities\n",
        "result_df = pd.DataFrame({'Predictions': predictions, 'Probabilities': prob_scores})\n",
        "\n",
        "# Save the DataFrame to a CSV file\n",
        "result_df.to_csv('test_predictions.csv', index=False, header=False)"
      ],
      "metadata": {
        "id": "wiVHAqZp553s"
      },
      "execution_count": 70,
      "outputs": []
    },
    {
      "cell_type": "code",
      "source": [
        "# Make predictions on the training data, very biased but just to check that the predictions are generated correctly\n",
        "train_predictions = xgboost.predict(X_original)\n",
        "\n",
        "# Calculate accuracy on the training data\n",
        "accuracy = accuracy_score(y_original, train_predictions)\n",
        "\n",
        "print(f'Accuracy on the training data: {accuracy*100:.4f}%')"
      ],
      "metadata": {
        "colab": {
          "base_uri": "https://localhost:8080/"
        },
        "outputId": "7aa45e29-5ca7-4406-f084-f862ec65cb62",
        "id": "qKhN6PQs5531"
      },
      "execution_count": 71,
      "outputs": [
        {
          "output_type": "stream",
          "name": "stdout",
          "text": [
            "Accuracy on the training data: 99.0135%\n"
          ]
        }
      ]
    }
  ],
"metadata": {
  "colab": {
    "provenance": []
  },
  "kernelspec": {
    "display_name": "Python 3",
    "name": "python3"
  },
  "language_info": {
    "name": "python"
  }
},
"nbformat": 4,
"nbformat_minor": 0
}
