{
  "nbformat": 4,
  "nbformat_minor": 0,
  "metadata": {
    "colab": {
      "provenance": []
    },
    "kernelspec": {
      "name": "python3",
      "display_name": "Python 3"
    },
    "language_info": {
      "name": "python"
    }
  },
  "cells": [
    {
      "cell_type": "markdown",
      "source": [
        "# Ασκηση 2, Ερώτημα α"
      ],
      "metadata": {
        "id": "rilMKo9nFMzL"
      }
    },
    {
      "cell_type": "code",
      "execution_count": 9,
      "metadata": {
        "colab": {
          "base_uri": "https://localhost:8080/",
          "height": 472
        },
        "id": "ZVjbS9GjAaSg",
        "outputId": "141d5051-b661-47ed-c2aa-3cef37034b57"
      },
      "outputs": [
        {
          "output_type": "display_data",
          "data": {
            "text/plain": [
              "<Figure size 640x480 with 1 Axes>"
            ],
            "image/png": "[encoded data removed]"
          },
          "metadata": {}
        }
      ],
      "source": [
        "import numpy as np\n",
        "import matplotlib.pyplot as plt\n",
        "import pandas as pd\n",
        "\n",
        "x = np.linspace(-2.5, 2.5, 1000)\n",
        "y = 0.6*x**2 - 2*x + 1.456742\n",
        "\n",
        "plt.plot(x, y, label='0.6*x^2 - 2x + 1.456742')\n",
        "plt.xlabel('x')\n",
        "plt.ylabel('y')\n",
        "plt.legend()\n",
        "plt.grid()\n",
        "plt.title('y=0.6*x^2 - 2x + 1.456742')\n",
        "plt.show()\n"
      ]
    },
    {
      "cell_type": "code",
      "source": [
        "roots = np.roots([0.6, -2, 1.456742])\n",
        "print(\"Roots:\", roots)"
      ],
      "metadata": {
        "colab": {
          "base_uri": "https://localhost:8080/"
        },
        "id": "n0NVuGvdDRx1",
        "outputId": "a3be4ecd-9cd8-4699-ed8a-23d4634e5612"
      },
      "execution_count": 10,
      "outputs": [
        {
          "output_type": "stream",
          "name": "stdout",
          "text": [
            "Roots: [2.25816852 1.07516481]\n"
          ]
        }
      ]
    },
    {
      "cell_type": "markdown",
      "source": [
        "# Ασκηση 2, Ερώτημα β"
      ],
      "metadata": {
        "id": "oX-uVQ-zBWcx"
      }
    },
    {
      "cell_type": "code",
      "source": [
        "rng = np.random.default_rng(seed=6)\n",
        "number_of_samples = 100000 # Choose the number of samples\n",
        "\n",
        "p_w1, p_w2 = 1/4, 3/4\n",
        "w1_samples = int(p_w1 * number_of_samples)\n",
        "w2_samples = int(p_w2 * number_of_samples)\n",
        "l11, l12, l21, l22 = 0, 1, 3, 0\n",
        "m1, m2 = 2, 1.8\n",
        "s1, s2 = np.sqrt(0.5), np.sqrt(0.2)\n",
        "\n",
        "# Create samples that follow normal distribution\n",
        "class1 = rng.normal(m1, s1, w1_samples)\n",
        "class2 = rng.normal(m2, s2, w2_samples)\n",
        "\n",
        "# Find where the samples are classified\n",
        "classify_w1_to_w2, classify_w1_to_w1, classify_w2_to_w1, classify_w2_to_w2 = 0, 0, 0, 0\n",
        "root1 = 1.07516481\n",
        "root2 = 2.25816852\n",
        "\n",
        "for sample in class1:\n",
        "  if root1 < sample < root2:\n",
        "    classify_w1_to_w2 += 1\n",
        "  else:\n",
        "    classify_w1_to_w1 += 1\n",
        "\n",
        "for sample in class2:\n",
        "  if root1 < sample < root2:\n",
        "    classify_w2_to_w2 += 1\n",
        "  else:\n",
        "    classify_w2_to_w1 += 1\n",
        "\n",
        "# Find the probabilities (percentage)\n",
        "classify_w1_to_w1 = classify_w1_to_w1 / w1_samples\n",
        "classify_w1_to_w2 = classify_w1_to_w2 / w1_samples\n",
        "classify_w2_to_w1 = classify_w2_to_w1 / w2_samples\n",
        "classify_w2_to_w2 = classify_w2_to_w2 / w2_samples\n",
        "\n",
        "# Calculate the cost\n",
        "cost = p_w1 * ((l11 * classify_w1_to_w1) + (l21 * classify_w1_to_w2)) + p_w2 * ((l12 * classify_w2_to_w1) + (l22 * classify_w2_to_w2))"
      ],
      "metadata": {
        "id": "cGgge3siBXqc"
      },
      "execution_count": 11,
      "outputs": []
    },
    {
      "cell_type": "code",
      "source": [
        "# Results\n",
        "print(\"w1 classified as w1:\", round(classify_w1_to_w1, 3))\n",
        "print(\"w1 misclassified as w2:\", round(classify_w1_to_w2, 3))\n",
        "print(\"w2 misclassified as w1:\", round(classify_w2_to_w1, 3))\n",
        "print(\"w2 classified as w2\", round(classify_w2_to_w2, 3))\n",
        "print(\"The cost is:\", round(cost, 3))"
      ],
      "metadata": {
        "id": "NkdQBQ30C-aR",
        "colab": {
          "base_uri": "https://localhost:8080/"
        },
        "outputId": "33e8ac2e-dc08-4c38-eaf8-8d8ddc7b081e"
      },
      "execution_count": 12,
      "outputs": [
        {
          "output_type": "stream",
          "name": "stdout",
          "text": [
            "w1 classified as w1: 0.452\n",
            "w1 misclassified as w2: 0.548\n",
            "w2 misclassified as w1: 0.205\n",
            "w2 classified as w2 0.795\n",
            "The cost is: 0.564\n"
          ]
        }
      ]
    },
    {
      "cell_type": "code",
      "source": [
        "from scipy.stats import norm\n",
        "\n",
        "x = np.linspace(0, 5, 1000)\n",
        "pdf1 = norm.pdf(x, m1, s1)\n",
        "pdf2 = norm.pdf(x, m2, s2)\n",
        "\n",
        "# Plot the gaussian functions\n",
        "plt.plot(x, pdf1, label='Class 1')\n",
        "plt.plot(x, pdf2, label='Class 2')\n",
        "\n",
        "# Plot the decision boundary\n",
        "plt.axvline(x=root1, color='red', linestyle='--', label='Decision Boundary1')\n",
        "plt.axvline(x=root2, color='green', linestyle='--', label='Decision Boundary2')\n",
        "\n",
        "plt.xlabel('X')\n",
        "plt.ylabel('Probability Density')\n",
        "plt.legend()\n",
        "plt.title('Distributions and Decision Boundary')\n",
        "plt.grid(True)\n",
        "\n",
        "# Show the plot\n",
        "plt.show()"
      ],
      "metadata": {
        "colab": {
          "base_uri": "https://localhost:8080/",
          "height": 472
        },
        "id": "ZyJeg-zpQlq7",
        "outputId": "e1e513ed-6093-44e7-9e8e-64e7eeab1737"
      },
      "execution_count": 13,
      "outputs": [
        {
          "output_type": "display_data",
          "data": {
            "text/plain": [
              "<Figure size 640x480 with 1 Axes>"
            ],
            "image/png": "[encoded data removed]"
          },
          "metadata": {}
        }
      ]
    },
    {
      "cell_type": "markdown",
      "source": [
        "# Ασκηση 3, Ερώτημα α"
      ],
      "metadata": {
        "id": "813clhF7bLtZ"
      }
    },
    {
      "cell_type": "code",
      "source": [
        "def calculate_discriminant_function(x, m, s, d, prior):\n",
        "  if d > 1: # x is a vector\n",
        "    S_inv = np.linalg.inv(s)\n",
        "    det_S = round(abs(np.linalg.det(s)), 5)\n",
        "    return -(1/2)*np.linalg.multi_dot([(x - m).T, S_inv, (x - m)]) - (d/2)*np.log(2*np.pi) - (1/2)*np.log(det_S) + np.log(prior)\n",
        "  else: # x is a number\n",
        "    S_inv = 1/s\n",
        "    det_S = abs(s)\n",
        "    return -(1/2)*(x - m)*S_inv*(x - m) - (d/2)*np.log(2*np.pi) - (1/2)*np.log(det_S) + np.log(prior)\n",
        "\n",
        "def euclidian_distance(x1, x2, d):\n",
        "  if d > 1: # x is a vector\n",
        "    return np.sqrt(np.sum(np.square(x1 - x2)))\n",
        "  else: # x is a number\n",
        "    return abs(x1 - x2)\n",
        "\n",
        "def mahalanobis_distance(x, m, s, d):\n",
        "  if d > 1: # x is a vector\n",
        "    S_inv = np.linalg.inv(s)\n",
        "    return np.sqrt(np.linalg.multi_dot([(x - m).T, S_inv, (x - m)]))\n",
        "  else: # x is a number\n",
        "    S_inv = 1/s\n",
        "    return np.sqrt((x - m)*S_inv*(x - m))"
      ],
      "metadata": {
        "id": "0-q0sdP7bKON"
      },
      "execution_count": 14,
      "outputs": []
    },
    {
      "cell_type": "markdown",
      "source": [
        "# Ασκηση 3, Ερώτημα β"
      ],
      "metadata": {
        "id": "yzQMudjFNNYO"
      }
    },
    {
      "cell_type": "markdown",
      "source": [
        "Για να δουλέψει η εντολή που διαβάζει το αρχείο csv πρέπει να κάνουμε το αρχείο upload στο ίδιο φάκελο στο colab."
      ],
      "metadata": {
        "id": "dglFmknFPJ7r"
      }
    },
    {
      "cell_type": "code",
      "source": [
        "!ls"
      ],
      "metadata": {
        "colab": {
          "base_uri": "https://localhost:8080/"
        },
        "id": "HRIOb0ytPNjG",
        "outputId": "118f548e-9b1f-4ef5-e576-205eba0431b2"
      },
      "execution_count": 15,
      "outputs": [
        {
          "output_type": "stream",
          "name": "stdout",
          "text": [
            "data.csv  sample_data\n"
          ]
        }
      ]
    },
    {
      "cell_type": "code",
      "source": [
        "df = pd.read_csv(\"data.csv\")"
      ],
      "metadata": {
        "id": "7u_ME-cjhKdk"
      },
      "execution_count": 16,
      "outputs": []
    },
    {
      "cell_type": "code",
      "source": [
        "df"
      ],
      "metadata": {
        "colab": {
          "base_uri": "https://localhost:8080/",
          "height": 423
        },
        "id": "DdkWuV3dNjWr",
        "outputId": "62b88c7d-7e12-4d35-9913-093e535ebefa"
      },
      "execution_count": 17,
      "outputs": [
        {
          "output_type": "execute_result",
          "data": {
            "text/plain": [
              "       x1    x2    x3  ω_i\n",
              "0    1.60 -0.99  5.83    1\n",
              "1    6.51  1.19  2.35    1\n",
              "2   -9.01 -5.30 -2.21    1\n",
              "3    2.83  1.01  7.12    1\n",
              "4    0.77 -3.91 -4.31    1\n",
              "..    ...   ...   ...  ...\n",
              "115  1.16 -1.76 -5.77    3\n",
              "116  0.07 -3.78 -3.75    3\n",
              "117  6.55  3.24  8.75    3\n",
              "118  3.88  2.27  2.08    3\n",
              "119  3.72  2.37 -3.43    3\n",
              "\n",
              "[120 rows x 4 columns]"
            ],
            "text/html": [
              "\n",
              "  <div id=\"df-cf6a22db-f79b-4369-a05e-b9b592c7c607\" class=\"colab-df-container\">\n",
              "    <div>\n",
              "<style scoped>\n",
              "    .dataframe tbody tr th:only-of-type {\n",
              "        vertical-align: middle;\n",
              "    }\n",
              "\n",
              "    .dataframe tbody tr th {\n",
              "        vertical-align: top;\n",
              "    }\n",
              "\n",
              "    .dataframe thead th {\n",
              "        text-align: right;\n",
              "    }\n",
              "</style>\n",
              "<table border=\"1\" class=\"dataframe\">\n",
              "  <thead>\n",
              "    <tr style=\"text-align: right;\">\n",
              "      <th></th>\n",
              "      <th>x1</th>\n",
              "      <th>x2</th>\n",
              "      <th>x3</th>\n",
              "      <th>ω_i</th>\n",
              "    </tr>\n",
              "  </thead>\n",
              "  <tbody>\n",
              "    <tr>\n",
              "      <th>0</th>\n",
              "      <td>1.60</td>\n",
              "      <td>-0.99</td>\n",
              "      <td>5.83</td>\n",
              "      <td>1</td>\n",
              "    </tr>\n",
              "    <tr>\n",
              "      <th>1</th>\n",
              "      <td>6.51</td>\n",
              "      <td>1.19</td>\n",
              "      <td>2.35</td>\n",
              "      <td>1</td>\n",
              "    </tr>\n",
              "    <tr>\n",
              "      <th>2</th>\n",
              "      <td>-9.01</td>\n",
              "      <td>-5.30</td>\n",
              "      <td>-2.21</td>\n",
              "      <td>1</td>\n",
              "    </tr>\n",
              "    <tr>\n",
              "      <th>3</th>\n",
              "      <td>2.83</td>\n",
              "      <td>1.01</td>\n",
              "      <td>7.12</td>\n",
              "      <td>1</td>\n",
              "    </tr>\n",
              "    <tr>\n",
              "      <th>4</th>\n",
              "      <td>0.77</td>\n",
              "      <td>-3.91</td>\n",
              "      <td>-4.31</td>\n",
              "      <td>1</td>\n",
              "    </tr>\n",
              "    <tr>\n",
              "      <th>...</th>\n",
              "      <td>...</td>\n",
              "      <td>...</td>\n",
              "      <td>...</td>\n",
              "      <td>...</td>\n",
              "    </tr>\n",
              "    <tr>\n",
              "      <th>115</th>\n",
              "      <td>1.16</td>\n",
              "      <td>-1.76</td>\n",
              "      <td>-5.77</td>\n",
              "      <td>3</td>\n",
              "    </tr>\n",
              "    <tr>\n",
              "      <th>116</th>\n",
              "      <td>0.07</td>\n",
              "      <td>-3.78</td>\n",
              "      <td>-3.75</td>\n",
              "      <td>3</td>\n",
              "    </tr>\n",
              "    <tr>\n",
              "      <th>117</th>\n",
              "      <td>6.55</td>\n",
              "      <td>3.24</td>\n",
              "      <td>8.75</td>\n",
              "      <td>3</td>\n",
              "    </tr>\n",
              "    <tr>\n",
              "      <th>118</th>\n",
              "      <td>3.88</td>\n",
              "      <td>2.27</td>\n",
              "      <td>2.08</td>\n",
              "      <td>3</td>\n",
              "    </tr>\n",
              "    <tr>\n",
              "      <th>119</th>\n",
              "      <td>3.72</td>\n",
              "      <td>2.37</td>\n",
              "      <td>-3.43</td>\n",
              "      <td>3</td>\n",
              "    </tr>\n",
              "  </tbody>\n",
              "</table>\n",
              "<p>120 rows × 4 columns</p>\n",
              "</div>\n",
              "    <div class=\"colab-df-buttons\">\n",
              "\n",
              "  <div class=\"colab-df-container\">\n",
              "    <button class=\"colab-df-convert\" onclick=\"convertToInteractive('df-cf6a22db-f79b-4369-a05e-b9b592c7c607')\"\n",
              "            title=\"Convert this dataframe to an interactive table.\"\n",
              "            style=\"display:none;\">\n",
              "\n",
              "  <svg xmlns=\"http://www.w3.org/2000/svg\" height=\"24px\" viewBox=\"0 -960 960 960\">\n",
              "    <path d=\"M120-120v-720h720v720H120Zm60-500h600v-160H180v160Zm220 220h160v-160H400v160Zm0 220h160v-160H400v160ZM180-400h160v-160H180v160Zm440 0h160v-160H620v160ZM180-180h160v-160H180v160Zm440 0h160v-160H620v160Z\"/>\n",
              "  </svg>\n",
              "    </button>\n",
              "\n",
              "  <style>\n",
              "    .colab-df-container {\n",
              "      display:flex;\n",
              "      gap: 12px;\n",
              "    }\n",
              "\n",
              "    .colab-df-convert {\n",
              "      background-color: #E8F0FE;\n",
              "      border: none;\n",
              "      border-radius: 50%;\n",
              "      cursor: pointer;\n",
              "      display: none;\n",
              "      fill: #1967D2;\n",
              "      height: 32px;\n",
              "      padding: 0 0 0 0;\n",
              "      width: 32px;\n",
              "    }\n",
              "\n",
              "    .colab-df-convert:hover {\n",
              "      background-color: #E2EBFA;\n",
              "      box-shadow: 0px 1px 2px rgba(60, 64, 67, 0.3), 0px 1px 3px 1px rgba(60, 64, 67, 0.15);\n",
              "      fill: #174EA6;\n",
              "    }\n",
              "\n",
              "    .colab-df-buttons div {\n",
              "      margin-bottom: 4px;\n",
              "    }\n",
              "\n",
              "    [theme=dark] .colab-df-convert {\n",
              "      background-color: #3B4455;\n",
              "      fill: #D2E3FC;\n",
              "    }\n",
              "\n",
              "    [theme=dark] .colab-df-convert:hover {\n",
              "      background-color: #434B5C;\n",
              "      box-shadow: 0px 1px 3px 1px rgba(0, 0, 0, 0.15);\n",
              "      filter: drop-shadow(0px 1px 2px rgba(0, 0, 0, 0.3));\n",
              "      fill: #FFFFFF;\n",
              "    }\n",
              "  </style>\n",
              "\n",
              "    <script>\n",
              "      const buttonEl =\n",
              "        document.querySelector('#df-cf6a22db-f79b-4369-a05e-b9b592c7c607 button.colab-df-convert');\n",
              "      buttonEl.style.display =\n",
              "        google.colab.kernel.accessAllowed ? 'block' : 'none';\n",
              "\n",
              "      async function convertToInteractive(key) {\n",
              "        const element = document.querySelector('#df-cf6a22db-f79b-4369-a05e-b9b592c7c607');\n",
              "        const dataTable =\n",
              "          await google.colab.kernel.invokeFunction('convertToInteractive',\n",
              "                                                    [key], {});\n",
              "        if (!dataTable) return;\n",
              "\n",
              "        const docLinkHtml = 'Like what you see? Visit the ' +\n",
              "          '<a target=\"_blank\" href=https://colab.research.google.com/notebooks/data_table.ipynb>data table notebook</a>'\n",
              "          + ' to learn more about interactive tables.';\n",
              "        element.innerHTML = '';\n",
              "        dataTable['output_type'] = 'display_data';\n",
              "        await google.colab.output.renderOutput(dataTable, element);\n",
              "        const docLink = document.createElement('div');\n",
              "        docLink.innerHTML = docLinkHtml;\n",
              "        element.appendChild(docLink);\n",
              "      }\n",
              "    </script>\n",
              "  </div>\n",
              "\n",
              "\n",
              "<div id=\"df-ff0dca3c-31ac-4984-aa8e-b4ff4a4c022f\">\n",
              "  <button class=\"colab-df-quickchart\" onclick=\"quickchart('df-ff0dca3c-31ac-4984-aa8e-b4ff4a4c022f')\"\n",
              "            title=\"Suggest charts.\"\n",
              "            style=\"display:none;\">\n",
              "\n",
              "<svg xmlns=\"http://www.w3.org/2000/svg\" height=\"24px\"viewBox=\"0 0 24 24\"\n",
              "     width=\"24px\">\n",
              "    <g>\n",
              "        <path d=\"M19 3H5c-1.1 0-2 .9-2 2v14c0 1.1.9 2 2 2h14c1.1 0 2-.9 2-2V5c0-1.1-.9-2-2-2zM9 17H7v-7h2v7zm4 0h-2V7h2v10zm4 0h-2v-4h2v4z\"/>\n",
              "    </g>\n",
              "</svg>\n",
              "  </button>\n",
              "\n",
              "<style>\n",
              "  .colab-df-quickchart {\n",
              "      --bg-color: #E8F0FE;\n",
              "      --fill-color: #1967D2;\n",
              "      --hover-bg-color: #E2EBFA;\n",
              "      --hover-fill-color: #174EA6;\n",
              "      --disabled-fill-color: #AAA;\n",
              "      --disabled-bg-color: #DDD;\n",
              "  }\n",
              "\n",
              "  [theme=dark] .colab-df-quickchart {\n",
              "      --bg-color: #3B4455;\n",
              "      --fill-color: #D2E3FC;\n",
              "      --hover-bg-color: #434B5C;\n",
              "      --hover-fill-color: #FFFFFF;\n",
              "      --disabled-bg-color: #3B4455;\n",
              "      --disabled-fill-color: #666;\n",
              "  }\n",
              "\n",
              "  .colab-df-quickchart {\n",
              "    background-color: var(--bg-color);\n",
              "    border: none;\n",
              "    border-radius: 50%;\n",
              "    cursor: pointer;\n",
              "    display: none;\n",
              "    fill: var(--fill-color);\n",
              "    height: 32px;\n",
              "    padding: 0;\n",
              "    width: 32px;\n",
              "  }\n",
              "\n",
              "  .colab-df-quickchart:hover {\n",
              "    background-color: var(--hover-bg-color);\n",
              "    box-shadow: 0 1px 2px rgba(60, 64, 67, 0.3), 0 1px 3px 1px rgba(60, 64, 67, 0.15);\n",
              "    fill: var(--button-hover-fill-color);\n",
              "  }\n",
              "\n",
              "  .colab-df-quickchart-complete:disabled,\n",
              "  .colab-df-quickchart-complete:disabled:hover {\n",
              "    background-color: var(--disabled-bg-color);\n",
              "    fill: var(--disabled-fill-color);\n",
              "    box-shadow: none;\n",
              "  }\n",
              "\n",
              "  .colab-df-spinner {\n",
              "    border: 2px solid var(--fill-color);\n",
              "    border-color: transparent;\n",
              "    border-bottom-color: var(--fill-color);\n",
              "    animation:\n",
              "      spin 1s steps(1) infinite;\n",
              "  }\n",
              "\n",
              "  @keyframes spin {\n",
              "    0% {\n",
              "      border-color: transparent;\n",
              "      border-bottom-color: var(--fill-color);\n",
              "      border-left-color: var(--fill-color);\n",
              "    }\n",
              "    20% {\n",
              "      border-color: transparent;\n",
              "      border-left-color: var(--fill-color);\n",
              "      border-top-color: var(--fill-color);\n",
              "    }\n",
              "    30% {\n",
              "      border-color: transparent;\n",
              "      border-left-color: var(--fill-color);\n",
              "      border-top-color: var(--fill-color);\n",
              "      border-right-color: var(--fill-color);\n",
              "    }\n",
              "    40% {\n",
              "      border-color: transparent;\n",
              "      border-right-color: var(--fill-color);\n",
              "      border-top-color: var(--fill-color);\n",
              "    }\n",
              "    60% {\n",
              "      border-color: transparent;\n",
              "      border-right-color: var(--fill-color);\n",
              "    }\n",
              "    80% {\n",
              "      border-color: transparent;\n",
              "      border-right-color: var(--fill-color);\n",
              "      border-bottom-color: var(--fill-color);\n",
              "    }\n",
              "    90% {\n",
              "      border-color: transparent;\n",
              "      border-bottom-color: var(--fill-color);\n",
              "    }\n",
              "  }\n",
              "</style>\n",
              "\n",
              "  <script>\n",
              "    async function quickchart(key) {\n",
              "      const quickchartButtonEl =\n",
              "        document.querySelector('#' + key + ' button');\n",
              "      quickchartButtonEl.disabled = true;  // To prevent multiple clicks.\n",
              "      quickchartButtonEl.classList.add('colab-df-spinner');\n",
              "      try {\n",
              "        const charts = await google.colab.kernel.invokeFunction(\n",
              "            'suggestCharts', [key], {});\n",
              "      } catch (error) {\n",
              "        console.error('Error during call to suggestCharts:', error);\n",
              "      }\n",
              "      quickchartButtonEl.classList.remove('colab-df-spinner');\n",
              "      quickchartButtonEl.classList.add('colab-df-quickchart-complete');\n",
              "    }\n",
              "    (() => {\n",
              "      let quickchartButtonEl =\n",
              "        document.querySelector('#df-ff0dca3c-31ac-4984-aa8e-b4ff4a4c022f button');\n",
              "      quickchartButtonEl.style.display =\n",
              "        google.colab.kernel.accessAllowed ? 'block' : 'none';\n",
              "    })();\n",
              "  </script>\n",
              "</div>\n",
              "    </div>\n",
              "  </div>\n"
            ]
          },
          "metadata": {},
          "execution_count": 17
        }
      ]
    },
    {
      "cell_type": "code",
      "source": [
        "class1 = df[df[\"ω_i\"] == 1].drop(\"ω_i\", axis=1)\n",
        "class2 = df[df[\"ω_i\"] == 2].drop(\"ω_i\", axis=1)\n",
        "class3 = df[df[\"ω_i\"] == 3].drop(\"ω_i\", axis=1)"
      ],
      "metadata": {
        "id": "1wquiVv4PuDu"
      },
      "execution_count": 18,
      "outputs": []
    },
    {
      "cell_type": "code",
      "source": [
        "mean_class1 = np.mean(class1, axis=0) # axis = 0, means each column is a feature\n",
        "mean_class2 = np.mean(class2, axis=0)\n",
        "mean_class3 = np.mean(class3, axis=0)\n",
        "\n",
        "result_mean = pd.concat([mean_class1, mean_class2, mean_class3], axis=1)\n",
        "result_mean"
      ],
      "metadata": {
        "colab": {
          "base_uri": "https://localhost:8080/",
          "height": 143
        },
        "id": "t_dzaJulRRFL",
        "outputId": "4e86319a-0adc-429e-b783-e8260ab1c198"
      },
      "execution_count": 19,
      "outputs": [
        {
          "output_type": "execute_result",
          "data": {
            "text/plain": [
              "           0        1         2\n",
              "x1  0.906410 -1.48425  3.680244\n",
              "x2 -1.044872 -1.14825  1.244390\n",
              "x3 -0.361795 -1.00925  1.056098"
            ],
            "text/html": [
              "\n",
              "  <div id=\"df-d22b848f-2a73-4ead-880a-295dcf16be35\" class=\"colab-df-container\">\n",
              "    <div>\n",
              "<style scoped>\n",
              "    .dataframe tbody tr th:only-of-type {\n",
              "        vertical-align: middle;\n",
              "    }\n",
              "\n",
              "    .dataframe tbody tr th {\n",
              "        vertical-align: top;\n",
              "    }\n",
              "\n",
              "    .dataframe thead th {\n",
              "        text-align: right;\n",
              "    }\n",
              "</style>\n",
              "<table border=\"1\" class=\"dataframe\">\n",
              "  <thead>\n",
              "    <tr style=\"text-align: right;\">\n",
              "      <th></th>\n",
              "      <th>0</th>\n",
              "      <th>1</th>\n",
              "      <th>2</th>\n",
              "    </tr>\n",
              "  </thead>\n",
              "  <tbody>\n",
              "    <tr>\n",
              "      <th>x1</th>\n",
              "      <td>0.906410</td>\n",
              "      <td>-1.48425</td>\n",
              "      <td>3.680244</td>\n",
              "    </tr>\n",
              "    <tr>\n",
              "      <th>x2</th>\n",
              "      <td>-1.044872</td>\n",
              "      <td>-1.14825</td>\n",
              "      <td>1.244390</td>\n",
              "    </tr>\n",
              "    <tr>\n",
              "      <th>x3</th>\n",
              "      <td>-0.361795</td>\n",
              "      <td>-1.00925</td>\n",
              "      <td>1.056098</td>\n",
              "    </tr>\n",
              "  </tbody>\n",
              "</table>\n",
              "</div>\n",
              "    <div class=\"colab-df-buttons\">\n",
              "\n",
              "  <div class=\"colab-df-container\">\n",
              "    <button class=\"colab-df-convert\" onclick=\"convertToInteractive('df-d22b848f-2a73-4ead-880a-295dcf16be35')\"\n",
              "            title=\"Convert this dataframe to an interactive table.\"\n",
              "            style=\"display:none;\">\n",
              "\n",
              "  <svg xmlns=\"http://www.w3.org/2000/svg\" height=\"24px\" viewBox=\"0 -960 960 960\">\n",
              "    <path d=\"M120-120v-720h720v720H120Zm60-500h600v-160H180v160Zm220 220h160v-160H400v160Zm0 220h160v-160H400v160ZM180-400h160v-160H180v160Zm440 0h160v-160H620v160ZM180-180h160v-160H180v160Zm440 0h160v-160H620v160Z\"/>\n",
              "  </svg>\n",
              "    </button>\n",
              "\n",
              "  <style>\n",
              "    .colab-df-container {\n",
              "      display:flex;\n",
              "      gap: 12px;\n",
              "    }\n",
              "\n",
              "    .colab-df-convert {\n",
              "      background-color: #E8F0FE;\n",
              "      border: none;\n",
              "      border-radius: 50%;\n",
              "      cursor: pointer;\n",
              "      display: none;\n",
              "      fill: #1967D2;\n",
              "      height: 32px;\n",
              "      padding: 0 0 0 0;\n",
              "      width: 32px;\n",
              "    }\n",
              "\n",
              "    .colab-df-convert:hover {\n",
              "      background-color: #E2EBFA;\n",
              "      box-shadow: 0px 1px 2px rgba(60, 64, 67, 0.3), 0px 1px 3px 1px rgba(60, 64, 67, 0.15);\n",
              "      fill: #174EA6;\n",
              "    }\n",
              "\n",
              "    .colab-df-buttons div {\n",
              "      margin-bottom: 4px;\n",
              "    }\n",
              "\n",
              "    [theme=dark] .colab-df-convert {\n",
              "      background-color: #3B4455;\n",
              "      fill: #D2E3FC;\n",
              "    }\n",
              "\n",
              "    [theme=dark] .colab-df-convert:hover {\n",
              "      background-color: #434B5C;\n",
              "      box-shadow: 0px 1px 3px 1px rgba(0, 0, 0, 0.15);\n",
              "      filter: drop-shadow(0px 1px 2px rgba(0, 0, 0, 0.3));\n",
              "      fill: #FFFFFF;\n",
              "    }\n",
              "  </style>\n",
              "\n",
              "    <script>\n",
              "      const buttonEl =\n",
              "        document.querySelector('#df-d22b848f-2a73-4ead-880a-295dcf16be35 button.colab-df-convert');\n",
              "      buttonEl.style.display =\n",
              "        google.colab.kernel.accessAllowed ? 'block' : 'none';\n",
              "\n",
              "      async function convertToInteractive(key) {\n",
              "        const element = document.querySelector('#df-d22b848f-2a73-4ead-880a-295dcf16be35');\n",
              "        const dataTable =\n",
              "          await google.colab.kernel.invokeFunction('convertToInteractive',\n",
              "                                                    [key], {});\n",
              "        if (!dataTable) return;\n",
              "\n",
              "        const docLinkHtml = 'Like what you see? Visit the ' +\n",
              "          '<a target=\"_blank\" href=https://colab.research.google.com/notebooks/data_table.ipynb>data table notebook</a>'\n",
              "          + ' to learn more about interactive tables.';\n",
              "        element.innerHTML = '';\n",
              "        dataTable['output_type'] = 'display_data';\n",
              "        await google.colab.output.renderOutput(dataTable, element);\n",
              "        const docLink = document.createElement('div');\n",
              "        docLink.innerHTML = docLinkHtml;\n",
              "        element.appendChild(docLink);\n",
              "      }\n",
              "    </script>\n",
              "  </div>\n",
              "\n",
              "\n",
              "<div id=\"df-bcdd4f26-dd5c-4782-9298-17182620347d\">\n",
              "  <button class=\"colab-df-quickchart\" onclick=\"quickchart('df-bcdd4f26-dd5c-4782-9298-17182620347d')\"\n",
              "            title=\"Suggest charts.\"\n",
              "            style=\"display:none;\">\n",
              "\n",
              "<svg xmlns=\"http://www.w3.org/2000/svg\" height=\"24px\"viewBox=\"0 0 24 24\"\n",
              "     width=\"24px\">\n",
              "    <g>\n",
              "        <path d=\"M19 3H5c-1.1 0-2 .9-2 2v14c0 1.1.9 2 2 2h14c1.1 0 2-.9 2-2V5c0-1.1-.9-2-2-2zM9 17H7v-7h2v7zm4 0h-2V7h2v10zm4 0h-2v-4h2v4z\"/>\n",
              "    </g>\n",
              "</svg>\n",
              "  </button>\n",
              "\n",
              "<style>\n",
              "  .colab-df-quickchart {\n",
              "      --bg-color: #E8F0FE;\n",
              "      --fill-color: #1967D2;\n",
              "      --hover-bg-color: #E2EBFA;\n",
              "      --hover-fill-color: #174EA6;\n",
              "      --disabled-fill-color: #AAA;\n",
              "      --disabled-bg-color: #DDD;\n",
              "  }\n",
              "\n",
              "  [theme=dark] .colab-df-quickchart {\n",
              "      --bg-color: #3B4455;\n",
              "      --fill-color: #D2E3FC;\n",
              "      --hover-bg-color: #434B5C;\n",
              "      --hover-fill-color: #FFFFFF;\n",
              "      --disabled-bg-color: #3B4455;\n",
              "      --disabled-fill-color: #666;\n",
              "  }\n",
              "\n",
              "  .colab-df-quickchart {\n",
              "    background-color: var(--bg-color);\n",
              "    border: none;\n",
              "    border-radius: 50%;\n",
              "    cursor: pointer;\n",
              "    display: none;\n",
              "    fill: var(--fill-color);\n",
              "    height: 32px;\n",
              "    padding: 0;\n",
              "    width: 32px;\n",
              "  }\n",
              "\n",
              "  .colab-df-quickchart:hover {\n",
              "    background-color: var(--hover-bg-color);\n",
              "    box-shadow: 0 1px 2px rgba(60, 64, 67, 0.3), 0 1px 3px 1px rgba(60, 64, 67, 0.15);\n",
              "    fill: var(--button-hover-fill-color);\n",
              "  }\n",
              "\n",
              "  .colab-df-quickchart-complete:disabled,\n",
              "  .colab-df-quickchart-complete:disabled:hover {\n",
              "    background-color: var(--disabled-bg-color);\n",
              "    fill: var(--disabled-fill-color);\n",
              "    box-shadow: none;\n",
              "  }\n",
              "\n",
              "  .colab-df-spinner {\n",
              "    border: 2px solid var(--fill-color);\n",
              "    border-color: transparent;\n",
              "    border-bottom-color: var(--fill-color);\n",
              "    animation:\n",
              "      spin 1s steps(1) infinite;\n",
              "  }\n",
              "\n",
              "  @keyframes spin {\n",
              "    0% {\n",
              "      border-color: transparent;\n",
              "      border-bottom-color: var(--fill-color);\n",
              "      border-left-color: var(--fill-color);\n",
              "    }\n",
              "    20% {\n",
              "      border-color: transparent;\n",
              "      border-left-color: var(--fill-color);\n",
              "      border-top-color: var(--fill-color);\n",
              "    }\n",
              "    30% {\n",
              "      border-color: transparent;\n",
              "      border-left-color: var(--fill-color);\n",
              "      border-top-color: var(--fill-color);\n",
              "      border-right-color: var(--fill-color);\n",
              "    }\n",
              "    40% {\n",
              "      border-color: transparent;\n",
              "      border-right-color: var(--fill-color);\n",
              "      border-top-color: var(--fill-color);\n",
              "    }\n",
              "    60% {\n",
              "      border-color: transparent;\n",
              "      border-right-color: var(--fill-color);\n",
              "    }\n",
              "    80% {\n",
              "      border-color: transparent;\n",
              "      border-right-color: var(--fill-color);\n",
              "      border-bottom-color: var(--fill-color);\n",
              "    }\n",
              "    90% {\n",
              "      border-color: transparent;\n",
              "      border-bottom-color: var(--fill-color);\n",
              "    }\n",
              "  }\n",
              "</style>\n",
              "\n",
              "  <script>\n",
              "    async function quickchart(key) {\n",
              "      const quickchartButtonEl =\n",
              "        document.querySelector('#' + key + ' button');\n",
              "      quickchartButtonEl.disabled = true;  // To prevent multiple clicks.\n",
              "      quickchartButtonEl.classList.add('colab-df-spinner');\n",
              "      try {\n",
              "        const charts = await google.colab.kernel.invokeFunction(\n",
              "            'suggestCharts', [key], {});\n",
              "      } catch (error) {\n",
              "        console.error('Error during call to suggestCharts:', error);\n",
              "      }\n",
              "      quickchartButtonEl.classList.remove('colab-df-spinner');\n",
              "      quickchartButtonEl.classList.add('colab-df-quickchart-complete');\n",
              "    }\n",
              "    (() => {\n",
              "      let quickchartButtonEl =\n",
              "        document.querySelector('#df-bcdd4f26-dd5c-4782-9298-17182620347d button');\n",
              "      quickchartButtonEl.style.display =\n",
              "        google.colab.kernel.accessAllowed ? 'block' : 'none';\n",
              "    })();\n",
              "  </script>\n",
              "</div>\n",
              "    </div>\n",
              "  </div>\n"
            ]
          },
          "metadata": {},
          "execution_count": 19
        }
      ]
    },
    {
      "cell_type": "code",
      "source": [
        "covariance_class1 = np.cov(class1, rowvar=False) # rowvar = False, means each column is a feature\n",
        "covariance_class1"
      ],
      "metadata": {
        "colab": {
          "base_uri": "https://localhost:8080/"
        },
        "id": "PBjiS3TISDTz",
        "outputId": "24382574-3d1a-4aac-870a-dfe0c2f1dad7"
      },
      "execution_count": 20,
      "outputs": [
        {
          "output_type": "execute_result",
          "data": {
            "text/plain": [
              "array([[26.65228151, 15.823661  ,  4.65561444],\n",
              "       [15.823661  , 18.38869933, -0.83357476],\n",
              "       [ 4.65561444, -0.83357476, 20.78017827]])"
            ]
          },
          "metadata": {},
          "execution_count": 20
        }
      ]
    },
    {
      "cell_type": "code",
      "source": [
        "covariance_class2 = np.cov(class2, rowvar=False)\n",
        "covariance_class2"
      ],
      "metadata": {
        "colab": {
          "base_uri": "https://localhost:8080/"
        },
        "id": "xiJ1pC21SDbB",
        "outputId": "7b105b0a-c49c-4bc0-a117-5bdd78b5f843"
      },
      "execution_count": 21,
      "outputs": [
        {
          "output_type": "execute_result",
          "data": {
            "text/plain": [
              "array([[ 38.95285071,   7.96999481, -18.84354801],\n",
              "       [  7.96999481,  11.40803532,   0.42592429],\n",
              "       [-18.84354801,   0.42592429,  19.70946865]])"
            ]
          },
          "metadata": {},
          "execution_count": 21
        }
      ]
    },
    {
      "cell_type": "code",
      "source": [
        "covariance_class3 = np.cov(class3, rowvar=False)\n",
        "covariance_class3"
      ],
      "metadata": {
        "colab": {
          "base_uri": "https://localhost:8080/"
        },
        "id": "DyJnQxSSSDfk",
        "outputId": "e861080b-5dd7-48a8-e3dc-a9b2c7f73022"
      },
      "execution_count": 22,
      "outputs": [
        {
          "output_type": "execute_result",
          "data": {
            "text/plain": [
              "array([[ 9.45306744,  6.3758239 ,  9.46632848],\n",
              "       [ 6.3758239 ,  6.85514024,  5.76523256],\n",
              "       [ 9.46632848,  5.76523256, 40.60765439]])"
            ]
          },
          "metadata": {},
          "execution_count": 22
        }
      ]
    },
    {
      "cell_type": "code",
      "source": [
        "mean_class1_x1 = np.mean(class1['x1'])\n",
        "covariance_class1_x1 = np.cov(class1['x1'])\n",
        "\n",
        "mean_class2_x1 = np.mean(class2['x1'])\n",
        "covariance_class2_x1 = np.cov(class2['x1'])\n",
        "\n",
        "mean_class3_x1 = np.mean(class3['x1'])\n",
        "covariance_class3_x1 = np.cov(class3['x1'])\n",
        "\n",
        "print(f\"Mean for x1, Class 1: {mean_class1_x1}\")\n",
        "print(f\"Mean for x1, Class 2: {mean_class2_x1}\")\n",
        "print(f\"Mean for x1, Class 3: {mean_class3_x1}\\n\")\n",
        "\n",
        "print(f\"Covariance for x1, Class 1: {covariance_class1_x1}\")\n",
        "print(f\"Covariance for x1, Class 2: {covariance_class2_x1}\")\n",
        "print(f\"Covariance for x1, Class 3: {covariance_class3_x1}\")"
      ],
      "metadata": {
        "colab": {
          "base_uri": "https://localhost:8080/"
        },
        "id": "HfVbG2HjfryF",
        "outputId": "62c540da-20ad-4e1c-e7d6-9aa0099ab5d1"
      },
      "execution_count": 23,
      "outputs": [
        {
          "output_type": "stream",
          "name": "stdout",
          "text": [
            "Mean for x1, Class 1: 0.9064102564102564\n",
            "Mean for x1, Class 2: -1.4842499999999998\n",
            "Mean for x1, Class 3: 3.6802439024390248\n",
            "\n",
            "Covariance for x1, Class 1: 26.65228151147099\n",
            "Covariance for x1, Class 2: 38.952850705128206\n",
            "Covariance for x1, Class 3: 9.45306743902439\n"
          ]
        }
      ]
    },
    {
      "cell_type": "code",
      "source": [
        "mean_class1_x1_x2 = np.mean(class1[['x1', 'x2']], axis=0)\n",
        "covariance_class1_x1_x2 = np.cov(class1[['x1', 'x2']], rowvar=False)\n",
        "\n",
        "mean_class2_x1_x2 = np.mean(class2[['x1', 'x2']], axis=0)\n",
        "covariance_class2_x1_x2 = np.cov(class2[['x1', 'x2']], rowvar=False)\n",
        "\n",
        "mean_class3_x1_x2 = np.mean(class3[['x1', 'x2']], axis=0)\n",
        "covariance_class3_x1_x2 = np.cov(class3[['x1', 'x2']], rowvar=False)\n",
        "\n",
        "print(f\"Mean for x1_x2, Class 1: {list(mean_class1_x1_x2)}\")\n",
        "print(f\"Mean for x1_x2, Class 2: {list(mean_class2_x1_x2)}\")\n",
        "print(f\"Mean for x1_x2, Class 3: {list(mean_class3_x1_x2)}\\n\")\n",
        "\n",
        "print(f\"Covariance for x1_x2, Class 1:\\n {covariance_class1_x1_x2}\")\n",
        "print(f\"Covariance for x1_x2, Class 2:\\n {covariance_class2_x1_x2}\")\n",
        "print(f\"Covariance for x1_x2, Class 3:\\n {covariance_class3_x1_x2}\")"
      ],
      "metadata": {
        "colab": {
          "base_uri": "https://localhost:8080/"
        },
        "id": "4cRYHCjPkj7S",
        "outputId": "2de83eb1-7119-4fb3-8ee6-70f5b5885bcd"
      },
      "execution_count": 24,
      "outputs": [
        {
          "output_type": "stream",
          "name": "stdout",
          "text": [
            "Mean for x1_x2, Class 1: [0.9064102564102564, -1.0448717948717952]\n",
            "Mean for x1_x2, Class 2: [-1.4842499999999998, -1.1482499999999998]\n",
            "Mean for x1_x2, Class 3: [3.6802439024390248, 1.244390243902439]\n",
            "\n",
            "Covariance for x1_x2, Class 1:\n",
            " [[26.65228151 15.823661  ]\n",
            " [15.823661   18.38869933]]\n",
            "Covariance for x1_x2, Class 2:\n",
            " [[38.95285071  7.96999481]\n",
            " [ 7.96999481 11.40803532]]\n",
            "Covariance for x1_x2, Class 3:\n",
            " [[9.45306744 6.3758239 ]\n",
            " [6.3758239  6.85514024]]\n"
          ]
        }
      ]
    },
    {
      "cell_type": "code",
      "source": [
        "mean_class1_x1_x2_x3 = np.mean(class1[['x1', 'x2', 'x3']], axis=0)\n",
        "covariance_class1_x1_x2_x3 = np.cov(class1[['x1', 'x2', 'x3']], rowvar=False)\n",
        "\n",
        "mean_class2_x1_x2_x3 = np.mean(class2[['x1', 'x2', 'x3']], axis=0)\n",
        "covariance_class2_x1_x2_x3 = np.cov(class2[['x1', 'x2', 'x3']], rowvar=False)\n",
        "\n",
        "mean_class3_x1_x2_x3 = np.mean(class3[['x1', 'x2', 'x3']], axis=0)\n",
        "covariance_class3_x1_x2_x3 = np.cov(class3[['x1', 'x2', 'x3']], rowvar=False)\n",
        "\n",
        "print(f\"Mean for x1_x2_x3, Class 1: {list(mean_class1_x1_x2_x3)}\")\n",
        "print(f\"Mean for x1_x2_x3, Class 2: {list(mean_class2_x1_x2_x3)}\")\n",
        "print(f\"Mean for x1_x2_x3, Class 3: {list(mean_class3_x1_x2_x3)}\\n\")\n",
        "\n",
        "print(f\"Covariance for x1_x2_x3, Class 1:\\n {covariance_class1_x1_x2_x3}\")\n",
        "print(f\"Covariance for x1_x2_x3, Class 2:\\n {covariance_class2_x1_x2_x3}\")\n",
        "print(f\"Covariance for x1_x2_x3, Class 3:\\n {covariance_class3_x1_x2_x3}\")"
      ],
      "metadata": {
        "colab": {
          "base_uri": "https://localhost:8080/"
        },
        "id": "6kciXyCq1uOz",
        "outputId": "bc7d3f15-53d3-408e-accf-626a45c2c495"
      },
      "execution_count": 25,
      "outputs": [
        {
          "output_type": "stream",
          "name": "stdout",
          "text": [
            "Mean for x1_x2_x3, Class 1: [0.9064102564102564, -1.0448717948717952, -0.36179487179487185]\n",
            "Mean for x1_x2_x3, Class 2: [-1.4842499999999998, -1.1482499999999998, -1.0092500000000002]\n",
            "Mean for x1_x2_x3, Class 3: [3.6802439024390248, 1.244390243902439, 1.0560975609756098]\n",
            "\n",
            "Covariance for x1_x2_x3, Class 1:\n",
            " [[26.65228151 15.823661    4.65561444]\n",
            " [15.823661   18.38869933 -0.83357476]\n",
            " [ 4.65561444 -0.83357476 20.78017827]]\n",
            "Covariance for x1_x2_x3, Class 2:\n",
            " [[ 38.95285071   7.96999481 -18.84354801]\n",
            " [  7.96999481  11.40803532   0.42592429]\n",
            " [-18.84354801   0.42592429  19.70946865]]\n",
            "Covariance for x1_x2_x3, Class 3:\n",
            " [[ 9.45306744  6.3758239   9.46632848]\n",
            " [ 6.3758239   6.85514024  5.76523256]\n",
            " [ 9.46632848  5.76523256 40.60765439]]\n"
          ]
        }
      ]
    },
    {
      "cell_type": "markdown",
      "source": [
        "# Ασκηση 3, Ερώτημα γ"
      ],
      "metadata": {
        "id": "eLykb8zk3Dwi"
      }
    },
    {
      "cell_type": "code",
      "source": [
        "# Classification error using feature x1\n",
        "d = 1\n",
        "prior = 1/2\n",
        "\n",
        "g1_class1 = calculate_discriminant_function(class1['x1'], mean_class1_x1, covariance_class1_x1, d, prior)\n",
        "g2_class1 = calculate_discriminant_function(class1['x1'], mean_class2_x1, covariance_class2_x1, d, prior)\n",
        "g1_class2 = calculate_discriminant_function(class2['x1'], mean_class1_x1, covariance_class1_x1, d, prior)\n",
        "g2_class2 = calculate_discriminant_function(class2['x1'], mean_class2_x1, covariance_class2_x1, d, prior)\n",
        "\n",
        "wrong_to_class1 = (g1_class1 < g2_class1).sum()\n",
        "wrong_to_class2 = (g1_class2 > g2_class2).sum()\n",
        "wrong = wrong_to_class1 + wrong_to_class2\n",
        "\n",
        "total_points = len(class1['x1']) + len(class2['x1'])\n",
        "error = (wrong / total_points) * 100\n",
        "\n",
        "print(f\"The points misclassified using feature x1 are {wrong} out of {total_points}, error is: {round(error, 4)}%\")"
      ],
      "metadata": {
        "colab": {
          "base_uri": "https://localhost:8080/"
        },
        "id": "owja5tUux9_V",
        "outputId": "1787673a-ea1d-4c7b-e93e-4068ffb105b4"
      },
      "execution_count": 26,
      "outputs": [
        {
          "output_type": "stream",
          "name": "stdout",
          "text": [
            "The points misclassified using feature x1 are 32 out of 79, error is: 40.5063%\n"
          ]
        }
      ]
    },
    {
      "cell_type": "markdown",
      "source": [
        "# Ασκηση 3, Ερώτημα δ"
      ],
      "metadata": {
        "id": "WnjXLryo3GqB"
      }
    },
    {
      "cell_type": "code",
      "source": [
        "class1_array = class1[['x1', 'x2']].to_numpy()\n",
        "mean_class1_x1_x2 = mean_class1_x1_x2.to_numpy()\n",
        "class2_array = class2[['x1', 'x2']].to_numpy()\n",
        "mean_class2_x1_x2 = mean_class2_x1_x2.to_numpy()"
      ],
      "metadata": {
        "id": "x_Csne5xOPn5"
      },
      "execution_count": 27,
      "outputs": []
    },
    {
      "cell_type": "code",
      "source": [
        "# Classification error using feature x1, x2\n",
        "d = 2\n",
        "prior = 1/2\n",
        "wrong_to_class1 = 0\n",
        "wrong_to_class2 = 0\n",
        "\n",
        "for i in range(len(class1['x1'])):\n",
        "  g1_class1 = calculate_discriminant_function(class1_array[i, :], mean_class1_x1_x2, covariance_class1_x1_x2, d, prior)\n",
        "  g2_class1 = calculate_discriminant_function(class1_array[i, :], mean_class2_x1_x2, covariance_class2_x1_x2, d, prior)\n",
        "  if g1_class1 < g2_class1:\n",
        "    wrong_to_class2 += 1\n",
        "\n",
        "for i in range(len(class2['x1'])):\n",
        "  g1_class2 = calculate_discriminant_function(class2_array[i, :], mean_class1_x1_x2, covariance_class1_x1_x2, d, prior)\n",
        "  g2_class2 = calculate_discriminant_function(class2_array[i, :], mean_class2_x1_x2, covariance_class2_x1_x2, d, prior)\n",
        "  if g1_class2 > g2_class2:\n",
        "    wrong_to_class1 += 1\n",
        "\n",
        "wrong = wrong_to_class1 + wrong_to_class2\n",
        "total_points = len(class1['x1']) + len(class2['x1'])\n",
        "error = (wrong / total_points) * 100\n",
        "\n",
        "print(f\"The points misclassified using features x1, x2 are {wrong} out of {total_points}, error is: {round(error, 4)}%\")"
      ],
      "metadata": {
        "id": "kpwtpjP73I1O",
        "colab": {
          "base_uri": "https://localhost:8080/"
        },
        "outputId": "457d71fe-f0c9-45b2-db30-91c9348d10da"
      },
      "execution_count": 28,
      "outputs": [
        {
          "output_type": "stream",
          "name": "stdout",
          "text": [
            "The points misclassified using features x1, x2 are 30 out of 79, error is: 37.9747%\n"
          ]
        }
      ]
    },
    {
      "cell_type": "code",
      "source": [
        "class1_array = class1[['x1', 'x2', 'x3']].to_numpy()\n",
        "mean_class1_x1_x2_x3 = mean_class1_x1_x2_x3.to_numpy()\n",
        "class2_array = class2[['x1', 'x2', 'x3']].to_numpy()\n",
        "mean_class2_x1_x2_x3 = mean_class2_x1_x2_x3.to_numpy()"
      ],
      "metadata": {
        "id": "r6KrjQQW-IMF"
      },
      "execution_count": 29,
      "outputs": []
    },
    {
      "cell_type": "code",
      "source": [
        "# Classification error using feature x1, x2, x3\n",
        "d = 3\n",
        "prior = 1/2\n",
        "wrong_to_class1 = 0\n",
        "wrong_to_class2 = 0\n",
        "\n",
        "for i in range(len(class1['x1'])):\n",
        "  g1_class1 = calculate_discriminant_function(class1_array[i, :], mean_class1_x1_x2_x3, covariance_class1_x1_x2_x3, d, prior)\n",
        "  g2_class1 = calculate_discriminant_function(class1_array[i, :], mean_class2_x1_x2_x3, covariance_class2_x1_x2_x3, d, prior)\n",
        "  if g1_class1 < g2_class1:\n",
        "    wrong_to_class2 += 1\n",
        "\n",
        "for i in range(len(class2['x1'])):\n",
        "  g1_class2 = calculate_discriminant_function(class2_array[i, :], mean_class1_x1_x2_x3, covariance_class1_x1_x2_x3, d, prior)\n",
        "  g2_class2 = calculate_discriminant_function(class2_array[i, :], mean_class2_x1_x2_x3, covariance_class2_x1_x2_x3, d, prior)\n",
        "  if g1_class2 > g2_class2:\n",
        "    wrong_to_class1 += 1\n",
        "\n",
        "wrong = wrong_to_class1 + wrong_to_class2\n",
        "total_points = len(class1['x1']) + len(class2['x1'])\n",
        "error = (wrong / total_points) * 100\n",
        "\n",
        "print(f\"The points misclassified using features x1, x2, x3 are {wrong} out of {total_points}, error is: {round(error, 4)}%\")"
      ],
      "metadata": {
        "colab": {
          "base_uri": "https://localhost:8080/"
        },
        "id": "PAVea_PiE2OE",
        "outputId": "a3c70b1e-3661-4bc5-d5b4-782ef77b8917"
      },
      "execution_count": 30,
      "outputs": [
        {
          "output_type": "stream",
          "name": "stdout",
          "text": [
            "The points misclassified using features x1, x2, x3 are 17 out of 79, error is: 21.519%\n"
          ]
        }
      ]
    },
    {
      "cell_type": "markdown",
      "source": [
        "# Ασκηση 3, Ερώτημα ε"
      ],
      "metadata": {
        "id": "-s49afmU3GvE"
      }
    },
    {
      "cell_type": "code",
      "source": [
        "class1_array = class1[['x1', 'x2', 'x3']].to_numpy()\n",
        "# mean_class1_x1_x2_x3 = mean_class1_x1_x2_x3.to_numpy()\n",
        "class2_array = class2[['x1', 'x2', 'x3']].to_numpy()\n",
        "# mean_class2_x1_x2_x3 = mean_class2_x1_x2_x3.to_numpy()\n",
        "class3_array = class3[['x1', 'x2', 'x3']].to_numpy()\n",
        "# mean_class3_x1_x2_x3 = mean_class2_x1_x2_x3.to_numpy()"
      ],
      "metadata": {
        "id": "69kDidjO3JY-"
      },
      "execution_count": 31,
      "outputs": []
    },
    {
      "cell_type": "code",
      "source": [
        "# Classification error using feature x1, x2, x3\n",
        "d = 3\n",
        "prior1 = 0.8\n",
        "prior2 = 0.1\n",
        "prior3 = 0.1\n",
        "wrong = 0\n",
        "\n",
        "for i in range(len(class1['x1'])):\n",
        "  g1_class1 = calculate_discriminant_function(class1_array[i, :], mean_class1_x1_x2_x3, covariance_class1_x1_x2_x3, d, prior1)\n",
        "  g2_class1 = calculate_discriminant_function(class1_array[i, :], mean_class2_x1_x2_x3, covariance_class2_x1_x2_x3, d, prior2)\n",
        "  g3_class1 = calculate_discriminant_function(class1_array[i, :], mean_class3_x1_x2_x3, covariance_class3_x1_x2_x3, d, prior3)\n",
        "  if g1_class1 < g2_class1 or g1_class1 < g3_class1:\n",
        "    wrong += 1\n",
        "\n",
        "for i in range(len(class2['x1'])):\n",
        "  g1_class2 = calculate_discriminant_function(class2_array[i, :], mean_class1_x1_x2_x3, covariance_class1_x1_x2_x3, d, prior1)\n",
        "  g2_class2 = calculate_discriminant_function(class2_array[i, :], mean_class2_x1_x2_x3, covariance_class2_x1_x2_x3, d, prior2)\n",
        "  g3_class2 = calculate_discriminant_function(class2_array[i, :], mean_class3_x1_x2_x3, covariance_class3_x1_x2_x3, d, prior3)\n",
        "  if g1_class2 > g2_class2 or g3_class2 > g2_class2:\n",
        "    wrong += 1\n",
        "\n",
        "for i in range(len(class3['x1'])):\n",
        "  g1_class3 = calculate_discriminant_function(class3_array[i, :], mean_class1_x1_x2_x3, covariance_class1_x1_x2_x3, d, prior1)\n",
        "  g2_class3 = calculate_discriminant_function(class3_array[i, :], mean_class2_x1_x2_x3, covariance_class2_x1_x2_x3, d, prior2)\n",
        "  g3_class3 = calculate_discriminant_function(class3_array[i, :], mean_class3_x1_x2_x3, covariance_class3_x1_x2_x3, d, prior3)\n",
        "  if g1_class3 > g3_class3 or g2_class3 > g3_class3:\n",
        "    wrong += 1\n",
        "\n",
        "total_points = len(class1['x1']) + len(class2['x1']) + len(class3['x1'])\n",
        "error = (wrong / total_points) * 100\n",
        "\n",
        "print(f\"The points misclassified using features x1, x2, x3 are {wrong} out of {total_points}, error is: {round(error, 4)}%\")"
      ],
      "metadata": {
        "colab": {
          "base_uri": "https://localhost:8080/"
        },
        "id": "mbPBNL5nGRNZ",
        "outputId": "a59d251b-25c8-404f-c3cf-2d870bce87dd"
      },
      "execution_count": 32,
      "outputs": [
        {
          "output_type": "stream",
          "name": "stdout",
          "text": [
            "The points misclassified using features x1, x2, x3 are 66 out of 120, error is: 55.0%\n"
          ]
        }
      ]
    },
    {
      "cell_type": "markdown",
      "source": [
        "# Ασκηση 4, Ερώτημα α"
      ],
      "metadata": {
        "id": "ym3B47tIe5Ya"
      }
    },
    {
      "cell_type": "code",
      "source": [
        "points = 1000\n",
        "x = np.linspace(0, 1, points, endpoint=True)\n",
        "y = x**2 * (1 - x)\n",
        "\n",
        "plt.plot(x, y)\n",
        "\n",
        "plt.xlabel('p1')\n",
        "plt.ylabel('Perror')\n",
        "plt.title('Plot of p1^2 * (1 - p1)')\n",
        "plt.grid(True)\n",
        "\n",
        "# Show the plot\n",
        "plt.show()"
      ],
      "metadata": {
        "colab": {
          "base_uri": "https://localhost:8080/",
          "height": 472
        },
        "id": "7ykxfhnseyCH",
        "outputId": "ba533558-bf6c-464e-f6f5-4864c699a90c"
      },
      "execution_count": 33,
      "outputs": [
        {
          "output_type": "display_data",
          "data": {
            "text/plain": [
              "<Figure size 640x480 with 1 Axes>"
            ],
            "image/png": "[encoded data removed]"
          },
          "metadata": {}
        }
      ]
    },
    {
      "cell_type": "code",
      "source": [
        "max_value = max(y)\n",
        "max_index = np.argmax(y) / points # 0-1 there are 1000 points\n",
        "\n",
        "print(f\"Max error is {round(max_value, 3)} for p1 {round(max_index, 3)}\")"
      ],
      "metadata": {
        "colab": {
          "base_uri": "https://localhost:8080/"
        },
        "id": "ORCwseLZRre8",
        "outputId": "49b8ce1c-fb79-45f6-c45c-9abb83752398"
      },
      "execution_count": 34,
      "outputs": [
        {
          "output_type": "stream",
          "name": "stdout",
          "text": [
            "Max error is 0.148 for p1 0.666\n"
          ]
        }
      ]
    },
    {
      "cell_type": "code",
      "source": [
        "# plot max as apoint\n",
        "points = 1000\n",
        "x = np.linspace(0, 1, points, endpoint=True)\n",
        "y = x**2 * (1 - x)\n",
        "\n",
        "plt.plot(x, y)\n",
        "plt.scatter(max_index, max_value, color='red')\n",
        "\n",
        "plt.xlabel('p1')\n",
        "plt.ylabel('Perror')\n",
        "plt.title('Plot of p1^2 * (1 - p1)')\n",
        "plt.grid(True)\n",
        "\n",
        "# Show the plot\n",
        "plt.show()"
      ],
      "metadata": {
        "colab": {
          "base_uri": "https://localhost:8080/",
          "height": 472
        },
        "id": "K4inbvL21zyA",
        "outputId": "aa98afae-fcbf-4228-dacd-9680554700e1"
      },
      "execution_count": 35,
      "outputs": [
        {
          "output_type": "display_data",
          "data": {
            "text/plain": [
              "<Figure size 640x480 with 1 Axes>"
            ],
            "image/png": "[encoded data removed]"
          },
          "metadata": {}
        }
      ]
    },
    {
      "cell_type": "markdown",
      "source": [
        "# Ασκηση 4, Ερώτημα β"
      ],
      "metadata": {
        "id": "ruUhb3UdTHoh"
      }
    },
    {
      "cell_type": "code",
      "source": [
        "import sympy\n",
        "\n",
        "x = sympy.symbols('x')\n",
        "y = x**2 * (1 - x)\n",
        "derivative = sympy.diff(y, x)\n",
        "derivative"
      ],
      "metadata": {
        "colab": {
          "base_uri": "https://localhost:8080/",
          "height": 39
        },
        "id": "l6F6vPiBx55W",
        "outputId": "36a92bd0-e5e3-410a-a468-cc47545d810e"
      },
      "execution_count": 36,
      "outputs": [
        {
          "output_type": "execute_result",
          "data": {
            "text/plain": [
              "-x**2 + 2*x*(1 - x)"
            ],
            "text/latex": "$\\displaystyle - x^{2} + 2 x \\left(1 - x\\right)$"
          },
          "metadata": {},
          "execution_count": 36
        }
      ]
    },
    {
      "cell_type": "code",
      "source": [
        "x1 = 0.3\n",
        "y1 = x1**2 * (1 - x1)\n",
        "\n",
        "print(f\"The value of y at x = {x1} is {y1}\")"
      ],
      "metadata": {
        "colab": {
          "base_uri": "https://localhost:8080/"
        },
        "id": "Lu-oBYgAzfec",
        "outputId": "c2e0ef01-fb5e-4dc5-bcdf-3609101e452b"
      },
      "execution_count": 37,
      "outputs": [
        {
          "output_type": "stream",
          "name": "stdout",
          "text": [
            "The value of y at x = 0.3 is 0.063\n"
          ]
        }
      ]
    },
    {
      "cell_type": "code",
      "source": [
        "p1 = 0.3\n",
        "derivative_p1 = derivative.subs(x, p1)\n",
        "\n",
        "print(f\"The derivative at x = {p1} is {derivative_p1}\")"
      ],
      "metadata": {
        "colab": {
          "base_uri": "https://localhost:8080/"
        },
        "id": "Q8Uv5Znlyn4I",
        "outputId": "4a8bd25c-5e76-4a37-f0ef-bbb8aebab89a"
      },
      "execution_count": 38,
      "outputs": [
        {
          "output_type": "stream",
          "name": "stdout",
          "text": [
            "The derivative at x = 0.3 is 0.330000000000000\n"
          ]
        }
      ]
    },
    {
      "cell_type": "code",
      "source": [
        "line_cost = derivative_p1 * (x - x1) + y1\n",
        "line_cost"
      ],
      "metadata": {
        "colab": {
          "base_uri": "https://localhost:8080/",
          "height": 39
        },
        "id": "1KYfyFVvzGd1",
        "outputId": "10c4eb22-9d49-47a3-e90e-78deea55febe"
      },
      "execution_count": 39,
      "outputs": [
        {
          "output_type": "execute_result",
          "data": {
            "text/plain": [
              "0.33*x - 0.036"
            ],
            "text/latex": "$\\displaystyle 0.33 x - 0.036$"
          },
          "metadata": {},
          "execution_count": 39
        }
      ]
    },
    {
      "cell_type": "code",
      "source": [
        "points = 1000\n",
        "x = np.linspace(0, 1, points, endpoint=True)\n",
        "y = x**2 * (1 - x)\n",
        "\n",
        "line = 0.33 * x - 0.036\n",
        "\n",
        "plt.plot(x, y)\n",
        "plt.plot(x, line, label='0.33x - 0.036')\n",
        "plt.scatter(x1, y1, color='red')\n",
        "\n",
        "plt.xlabel('p1')\n",
        "plt.ylabel('Perror')\n",
        "plt.title('Plot of p1^2 * (1 - p1)')\n",
        "plt.grid(True)\n",
        "\n",
        "# Show the plot\n",
        "plt.show()"
      ],
      "metadata": {
        "colab": {
          "base_uri": "https://localhost:8080/",
          "height": 472
        },
        "id": "7VMljEiVz2iO",
        "outputId": "6ee1e966-67ff-4ccf-ff69-5eac15c1dca6"
      },
      "execution_count": 40,
      "outputs": [
        {
          "output_type": "display_data",
          "data": {
            "text/plain": [
              "<Figure size 640x480 with 1 Axes>"
            ],
            "image/png": "[encoded data removed]"
          },
          "metadata": {}
        }
      ]
    },
    {
      "cell_type": "code",
      "source": [
        "# find error when real p1 is 0.7\n",
        "x_real = 0.7\n",
        "cost = 0.33 * x_real - 0.036\n",
        "print(f\"Cost for p1 = {x_real} is {round(cost, 3)} when we have regulate the system considered p1=0.3\")"
      ],
      "metadata": {
        "colab": {
          "base_uri": "https://localhost:8080/"
        },
        "id": "Zex7m2Fi0ueT",
        "outputId": "c6327c83-dd07-4271-f309-f7f40a290570"
      },
      "execution_count": 41,
      "outputs": [
        {
          "output_type": "stream",
          "name": "stdout",
          "text": [
            "Cost for p1 = 0.7 is 0.195 when we have regulate the system considered p1=0.3\n"
          ]
        }
      ]
    },
    {
      "cell_type": "markdown",
      "source": [
        "# Ασκηση 5, Ερώτημα α"
      ],
      "metadata": {
        "id": "uhjVmneS2ySz"
      }
    },
    {
      "cell_type": "code",
      "source": [
        "import math\n",
        "from scipy.integrate import quad\n",
        "\n",
        "def beta(theta):\n",
        "  return theta*(1-theta)**4\n",
        "\n",
        "A = 1/quad(beta, 0, 1)[0]\n",
        "print(\"A = \", A)"
      ],
      "metadata": {
        "colab": {
          "base_uri": "https://localhost:8080/"
        },
        "id": "Q2kmH-8e14OB",
        "outputId": "4a8fda22-64ec-4b33-9c58-1b885accdfab"
      },
      "execution_count": 42,
      "outputs": [
        {
          "output_type": "stream",
          "name": "stdout",
          "text": [
            "A =  30.0\n"
          ]
        }
      ]
    },
    {
      "cell_type": "markdown",
      "source": [
        "# Ασκηση 5, Ερώτημα β"
      ],
      "metadata": {
        "id": "LL_oeDltI4EQ"
      }
    },
    {
      "cell_type": "code",
      "source": [
        "coin = np.array([1, 0, 1, 1, 1, 0, 1, 1, 0, 1]) # heads=1, tails=0\n",
        "points = 1000\n",
        "theta = np.linspace(0, 1, points)\n",
        "y = []\n",
        "\n",
        "def num(theta, k, N):\n",
        "  return (theta**k)*(1-theta)**(N-k)*A*beta(theta)\n",
        "\n",
        "\n",
        "for N in [1, 5, 10]:\n",
        "  k = (coin[0:N] == 1).sum() # count heads\n",
        "  den = quad(num, 0, 1, args=(k, N))[0]\n",
        "  y.append(num(theta, k, N)/den)\n",
        "\n",
        "  # Check that integral of each pdf is 1\n",
        "  integral_y = np.trapz(num(theta, k, N)/den, theta)\n",
        "  print(f'Integral of P(theta|D^{N}) = {round(integral_y, 3)}')\n",
        "\n",
        "fig = plt.figure()\n",
        "plt.plot(theta, y[0])\n",
        "plt.plot(theta, y[1])\n",
        "plt.plot(theta, y[2])\n",
        "plt.legend([\"P(theta|D^1)\", \"P(theta|D^5)\", \"P(theta|D^10)\"])\n",
        "plt.xlabel('theta')\n",
        "plt.ylabel('Probability Density')\n",
        "plt.title('P(theta|D^N)')\n",
        "plt.grid(True)\n",
        "plt.show()"
      ],
      "metadata": {
        "colab": {
          "base_uri": "https://localhost:8080/",
          "height": 524
        },
        "id": "zbwIsj08JHKp",
        "outputId": "5a62d968-dd47-41b4-a5a0-b4df65565e4f"
      },
      "execution_count": 43,
      "outputs": [
        {
          "output_type": "stream",
          "name": "stdout",
          "text": [
            "Integral of P(theta|D^1) = 1.0\n",
            "Integral of P(theta|D^5) = 1.0\n",
            "Integral of P(theta|D^10) = 1.0\n"
          ]
        },
        {
          "output_type": "display_data",
          "data": {
            "text/plain": [
              "<Figure size 640x480 with 1 Axes>"
            ],
            "image/png": "[encoded data removed]"
          },
          "metadata": {}
        }
      ]
    },
    {
      "cell_type": "markdown",
      "source": [
        "# Ασκηση 5, Ερώτημα γ"
      ],
      "metadata": {
        "id": "M8FzVlJdNyIV"
      }
    },
    {
      "cell_type": "code",
      "source": [
        "max_value = max(y[2])\n",
        "max_index = np.argmax(y[2]) / points # 0-1 there are 1000 points\n",
        "\n",
        "print(f\"Probability Density is {round(max_value, 3)} for theta (P(x=k|D^10)) = {round(max_index, 3)}\")\n",
        "print(f\"Τheta (P(x=γ|D^10)) = {round(1-max_index, 3)}\") # p(γ)=1-p(κ)"
      ],
      "metadata": {
        "colab": {
          "base_uri": "https://localhost:8080/"
        },
        "id": "6soQEpn5RSgY",
        "outputId": "8b018797-0ea9-41eb-f9d7-9b7d04b4e9c4"
      },
      "execution_count": 44,
      "outputs": [
        {
          "output_type": "stream",
          "name": "stdout",
          "text": [
            "Probability Density is 3.249 for theta (P(x=k|D^10)) = 0.533\n",
            "Τheta (P(x=γ|D^10)) = 0.467\n"
          ]
        }
      ]
    }
  ]
}